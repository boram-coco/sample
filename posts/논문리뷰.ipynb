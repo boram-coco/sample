{
 "cells": [
  {
   "cell_type": "markdown",
   "id": "b742a57c-88f4-4752-9af0-930c7819f61e",
   "metadata": {},
   "source": [
    "[논문 리뷰] 추후 수정!!"
   ]
  },
  {
   "cell_type": "markdown",
   "id": "26cd5c93-ee87-4aeb-811a-2b8198d90c50",
   "metadata": {},
   "source": [
    "# A Comparison of Synthetic Data Approaches Using Utility and Disclosure Risk Measures"
   ]
  },
  {
   "cell_type": "markdown",
   "id": "2c635bd4-60d2-454f-b388-33eba8392995",
   "metadata": {},
   "source": [
    "- Deep generative model\n",
    "- Discolsure risk\n",
    "- Nonparametric Bayesian\n",
    "- Sequential regression\n",
    "- Synthetic data\n",
    "- Utility"
   ]
  },
  {
   "cell_type": "markdown",
   "id": "428f3e48-d3b1-4624-a21a-778c949c3be7",
   "metadata": {},
   "source": [
    "Seongbin An, Trang Doan, Juhee Lee, Jiwwo Kim, Yong Jae Kim, Yunji Kim, Changwon Yoon, Sungkyu Jung, Dongha Kim, Sunghoon Kwon, Hang J Kim, Jeongyoun Ahn, Cheolwoo Park"
   ]
  },
  {
   "cell_type": "markdown",
   "id": "ed415a9e-1766-4ca2-9379-5ab8328533ef",
   "metadata": {},
   "source": [
    "The Korean Journal of Applied Statistics"
   ]
  },
  {
   "cell_type": "markdown",
   "id": "8e7a36f9-57ef-4546-b566-7891260e7a1c",
   "metadata": {},
   "source": [
    "## 서론"
   ]
  },
  {
   "cell_type": "markdown",
   "id": "ea1e9e2c-7dbf-4cd6-b2d5-dedd5bfc921b",
   "metadata": {},
   "source": [
    "`-` 재현자료 생성기법\n",
    "\n",
    "- 순차적 회귀분석\n",
    "\n",
    "- 비모수 베이지안\n",
    "\n",
    "- 인공지능 기반: CTGAN, TVAE"
   ]
  },
  {
   "cell_type": "markdown",
   "id": "48885ba5-49c0-4c8f-84ae-8a76a5084cd1",
   "metadata": {},
   "source": [
    "`-` 유용성 지표 \n",
    "\n",
    "`.` (대역 유용성):자료 전체의 분포적인 특성을 얼마나 비슷하게 유지\n",
    "- Propensity Score, 거리측도, α-정밀도, β-wogusdbf\n",
    "\n",
    "`.` (특정 유용성): 특정 분석이 데이터의 적용될 것을 가정하고 해당 분석에서 원본자료와 재현자료가 얼마나 유사한 결과를 나타내는지 기반으로 유용성 판단\n",
    "- 신뢰구간 중첩"
   ]
  },
  {
   "cell_type": "markdown",
   "id": "51e81913-c759-4151-b696-96b678c31ae7",
   "metadata": {},
   "source": [
    "`-` 노출 위험도 지표\n",
    "\n",
    "- 신원 노출 위험도\n",
    "\n",
    "- 속성 노출 위험도\n",
    "\n",
    "- 독창성 점수"
   ]
  },
  {
   "cell_type": "markdown",
   "id": "94cc902a-dfc8-497c-bd05-b7684cb297f7",
   "metadata": {},
   "source": [
    "## Survey Est"
   ]
  },
  {
   "cell_type": "markdown",
   "id": "8bbd3329-6147-4ca5-909b-4bca88264849",
   "metadata": {},
   "source": [
    "- 2019년 전국 사업체 조사 데이터"
   ]
  },
  {
   "cell_type": "markdown",
   "id": "b5b316af-d1cf-4a27-bb30-6e50e887cce7",
   "metadata": {},
   "source": [
    "이항형, 다항형, 연속형 변수"
   ]
  },
  {
   "cell_type": "markdown",
   "id": "79b4577b-160a-4a16-ab81-6f44124bdb85",
   "metadata": {},
   "source": [
    "|구분 |변수명|변수설명|\n",
    "|---  | ---  |    ---|\n",
    "|범주형|SEX  | 대표자 성별(남/여)|\n",
    "|      |SUMMAT_CD|매출 금액(9단계 범주)|\n",
    "|연속형|WORKER_T|총 근로자수|\n",
    "|     |EMP_T    |상용근로 종사자수|\n",
    "|     | BIS_MNTH | 영업개월수|\n"
   ]
  },
  {
   "cell_type": "markdown",
   "id": "9a7fb9ea-a5c5-4e9c-ac51-520fab79bf8c",
   "metadata": {},
   "source": [
    "$$WORKER_T>=EMP_T$$"
   ]
  },
  {
   "cell_type": "markdown",
   "id": "2a89d683-20bb-4943-b98b-b4c6ee694128",
   "metadata": {},
   "source": [
    "## 재현자료 생성기법"
   ]
  },
  {
   "cell_type": "markdown",
   "id": "6010668e-3a42-43ed-adb0-d3a721ae205c",
   "metadata": {},
   "source": [
    "### 순차적 회귀모형 "
   ]
  },
  {
   "cell_type": "markdown",
   "id": "0a3a59e1-3909-4420-a52c-dbbce3a75056",
   "metadata": {},
   "source": [
    "변수의 순서에 따라 결합분포의 추정값이 다르다."
   ]
  },
  {
   "cell_type": "markdown",
   "id": "ac8a11f7-20cf-47f3-8f7f-816ff59fd768",
   "metadata": {},
   "source": [
    "$X_j$ 범주형 $\\to$ 분류 의사결정나무 : 지니계수\n",
    "\n",
    "$X_j$ 수치형 $\\to$ 회귀 의사결정나무 : 엔트로피"
   ]
  },
  {
   "cell_type": "markdown",
   "id": "f442a37c-2ed6-459e-910a-1b7ce55a01da",
   "metadata": {},
   "source": [
    "### 베이지안"
   ]
  },
  {
   "cell_type": "markdown",
   "id": "d3839e2d-75bd-4449-834c-de62bbb7ccdb",
   "metadata": {},
   "source": [
    "### 인공지능"
   ]
  },
  {
   "cell_type": "markdown",
   "id": "ec0afb6b-00d9-44a0-9a09-4ba4c03b99e5",
   "metadata": {},
   "source": [
    "## 재현자료의 평가 지표"
   ]
  },
  {
   "cell_type": "markdown",
   "id": "07412595-747f-408f-91a0-56659f1d371c",
   "metadata": {},
   "source": [
    "### Propensity Score Measure"
   ]
  },
  {
   "cell_type": "markdown",
   "id": "8963ef2f-1e11-45b7-95c0-ea1018354891",
   "metadata": {},
   "source": [
    "Propensity Score: 공변량 X가 주어졌을 때 처리그룹으로 배치될 확률 $Pr(Treatment = 1 | X)$"
   ]
  },
  {
   "cell_type": "markdown",
   "id": "0165d7c0-f567-40f6-9c19-8697ab74ed30",
   "metadata": {},
   "source": [
    "재현자료로 배치되는 경우를 처리 그룹으로 배치되는 경우로 생각"
   ]
  },
  {
   "cell_type": "markdown",
   "id": "cdecd786-4b84-40b5-ab35-cbe5b698ac0b",
   "metadata": {},
   "source": [
    "$$ pMSE = \\dfrac{1}{n_s+n_o}\\sum_{i=1}^{n_s+n_o}(p̂_i-c)^2$$"
   ]
  },
  {
   "cell_type": "markdown",
   "id": "edd8f279-f3bd-4204-96b0-303720ecf04a",
   "metadata": {},
   "source": [
    "재현자료의 유용성이 높을수록 $pMSE$는 0에 가까움"
   ]
  },
  {
   "cell_type": "markdown",
   "id": "51565966-914e-402c-b20f-4dd03d1a0491",
   "metadata": {},
   "source": [
    "- 원본자료와 재현자료를 분포적으로 구분할 수 있는지 수치화\n",
    "- 개별적 비교 필요 없이 변수의 관계성을 고려하여 평가 가능\n",
    "- 분류 모델에 따라 $pMSE$ 값이 달라지므로 귀무분포를 고려해야 함"
   ]
  },
  {
   "cell_type": "markdown",
   "id": "9e9c0450-302a-4fe6-be4d-7d7dd1b9a341",
   "metadata": {},
   "source": [
    "### 분포간 거리 측도"
   ]
  },
  {
   "cell_type": "markdown",
   "id": "c5109bb5-6ad0-47e2-ad7c-ba916ad6950a",
   "metadata": {},
   "source": [
    "- 원본자료와 재현자료에서 각 변수의 분포를 각각 계산하여 유용성 판단 가능\n",
    "\n",
    "- 변수간의 상관성 고려 못함"
   ]
  },
  {
   "cell_type": "markdown",
   "id": "f223647e-e6ef-4c0f-9d19-97305c3241c4",
   "metadata": {},
   "source": [
    "`-` KL괴리도"
   ]
  },
  {
   "cell_type": "markdown",
   "id": "c6d010d1-8fdf-4dc8-9347-3c1c83ed432d",
   "metadata": {},
   "source": [
    "- Kullback-Leibler"
   ]
  },
  {
   "cell_type": "markdown",
   "id": "b196525a-6958-4c69-8eca-f505bdb51bd6",
   "metadata": {},
   "source": [
    "$$ D(f||g) = \\int_{-\\infty}^{\\infty}f(x) log \\dfrac{f(x)}{g(x)}dx$$"
   ]
  },
  {
   "cell_type": "markdown",
   "id": "671d7993-4b37-424c-8cfd-c6573b6e48a1",
   "metadata": {},
   "source": [
    "`-` Wasser-stein 거리"
   ]
  },
  {
   "cell_type": "markdown",
   "id": "c3d03a1c-4a1d-414e-83a0-28dc5611dc6d",
   "metadata": {},
   "source": [
    "$$ W_r(f,g) = (\\int_{0}^{1} |F_f^{-1}(t) - F_g^{-1}(t)|^r)^{1/r} dt $$"
   ]
  },
  {
   "cell_type": "markdown",
   "id": "1bcb6667-32e0-4f7f-9253-bd0025d37e74",
   "metadata": {},
   "source": [
    "### 신원 노출 위험도"
   ]
  },
  {
   "cell_type": "markdown",
   "id": "6bcee27b-f42c-49be-bc57-5150377b219b",
   "metadata": {},
   "source": [
    "|Notation|설명|\n",
    "|---|---|\n",
    "|n|원본(재현)자료 관측치 개수|\n",
    "|$f_i$| 원본자료의 i번째 관측치에 대해 준식별자 값이 같은 관측치 개수|\n",
    "|$X_i$| 원본자료의 i번째 관측치의 민감 변수 값|\n",
    "|$P_i$|원본자료에서 $X_i$ 와 같은 값을 갖는 관측치의 비율|\n",
    "|$d_i$| 1-$p_i$|\n",
    "|$Y_i$|원본자료의 i번째 관측치와 연결된 재현자료 민감 변수 값|\n",
    "|$(d_i)'$|원본자료에서 $X_i$가 속한 군집에 있는 관측치의 비율|"
   ]
  },
  {
   "cell_type": "markdown",
   "id": "89f96b73-8738-4df8-819a-2b8a63db47cc",
   "metadata": {},
   "source": [
    "`-` 민감변수: 준식별자를 제외한 나머지 변수"
   ]
  },
  {
   "cell_type": "markdown",
   "id": "848a1385-6367-4ef0-962a-ddb728b186ec",
   "metadata": {},
   "source": [
    "- 민감변수(명목형)"
   ]
  },
  {
   "cell_type": "markdown",
   "id": "5af62a3c-7b36-45d7-a1f4-712efd623d78",
   "metadata": {},
   "source": [
    "$$ d_i \\times I(X_i=Y_t) > \\sqrt{p_i(1-p_i)}, i=1,2,\\dots,n$$"
   ]
  },
  {
   "cell_type": "markdown",
   "id": "bff135d2-8f71-46e6-b11a-6b8ec1908ecc",
   "metadata": {},
   "source": [
    "- 민감변수(연속형): k-means를 이용해 값을 군집화하고 부등식 확인"
   ]
  },
  {
   "cell_type": "markdown",
   "id": "90b552cd-328a-4a6f-9ef5-be0cb536707d",
   "metadata": {},
   "source": [
    "$$d'_i \\times |X_i - Y_i| < 1.48 \\times MAD , i=1,2,\\dots,n $$"
   ]
  },
  {
   "cell_type": "markdown",
   "id": "15df5ffe-0833-4a1a-9729-0cdb5c882861",
   "metadata": {},
   "source": [
    "MAD:중위절대편차"
   ]
  },
  {
   "cell_type": "markdown",
   "id": "23597a77-c073-4f1e-863d-2590d7ec1672",
   "metadata": {},
   "source": [
    "원본자료의 i번째 관측치에서 위 부등식을 만족하는 민감벼눗의 비율이 5% 이상이면 1, 그렇지 않으면 0 $\\to$ 지시함수 $R_i$"
   ]
  },
  {
   "cell_type": "markdown",
   "id": "cdcb9a8d-cc7e-430f-b2d0-ef3c71fa5e88",
   "metadata": {},
   "source": [
    "`-` 신원 노출 위험도"
   ]
  },
  {
   "cell_type": "markdown",
   "id": "a0092518-af90-405b-b52f-722628ff71f4",
   "metadata": {},
   "source": [
    "$$ \\dfrac{1}{n} \\sum_{i=1}^{n}(\\dfrac{1}{f_i}\\times I_i \\times R_i)$$"
   ]
  },
  {
   "cell_type": "markdown",
   "id": "d2c8bde5-1120-4449-b396-e168ecc2e3ba",
   "metadata": {},
   "source": [
    "작을수록 신원 추출 가능성이 작아짐"
   ]
  },
  {
   "cell_type": "markdown",
   "id": "6f414d48-e52b-414c-88dd-26723413af2d",
   "metadata": {},
   "source": [
    "- 구현 시간이 오래 걸림\n",
    "- 준식별자와 민감 변수로 구분시 명확한 기준이 없음"
   ]
  },
  {
   "cell_type": "markdown",
   "id": "9a838e9e-6f8c-4ae7-9c57-e04df224576a",
   "metadata": {},
   "source": [
    "### 속성 노출 위험도"
   ]
  },
  {
   "cell_type": "markdown",
   "id": "f7e6f26e-95e3-401f-9294-b1470c9f73c5",
   "metadata": {},
   "source": [
    "- 공격자가 개인의 신원을 식별할 수는 없지만 특정 민감한 변수의 속성을 추론할 수 있을때 발생"
   ]
  },
  {
   "cell_type": "markdown",
   "id": "bb6b90b1-f52b-465c-a1c1-dd2d07a8da4d",
   "metadata": {},
   "source": [
    "- 완전 재현자료여도 속성 노출 위험도 항상 존재"
   ]
  },
  {
   "cell_type": "markdown",
   "id": "d48d3e0b-76f0-4d2d-af03-25bbe9fc4178",
   "metadata": {},
   "source": [
    "`-` CAP(correct attribution probability)\n",
    "\n",
    "- 공격자가 원본자료의 일부 변수(K:key bariables)를 가지고 있고 하나의 특정 변수의 값에 대하여 알고자 하는(T:target variable) 상황에서 계산"
   ]
  },
  {
   "cell_type": "markdown",
   "id": "0b397103-f33c-49e0-a1ef-189c1ecd588b",
   "metadata": {},
   "source": [
    "- $K$와 $T$ 모두 범주형이어야 계산 가능, 연속형 변수는 K-MEANS를 실시하여.."
   ]
  },
  {
   "cell_type": "markdown",
   "id": "0232ef5c-8546-45ba-9480-71d961d9c4ed",
   "metadata": {},
   "source": [
    "### α-정밀도, β-재현율, 독창성 점수"
   ]
  },
  {
   "cell_type": "markdown",
   "id": "1195357d-7ed6-4e25-bfa3-6a0b3f111c64",
   "metadata": {},
   "source": [
    "- 원본자료와 재현자료의 토대를 추정\n",
    "- 테이블, 이미지 등 다양한 형태 데이터 져핸에 대한 평가 지표\n",
    "- 잠재공간으로 임베딩시 hyperparameter설정에 따라 결과가 다르게 나옴"
   ]
  },
  {
   "cell_type": "markdown",
   "id": "4e3dcb78-fed4-4dac-b214-2fcdbac7ec62",
   "metadata": {},
   "source": [
    "`-` α정밀도\n",
    "\n",
    "- 재현자료가 원본자료를 얼마나 충실하게 재현하는가\n",
    "- 재현자료 유용성 측정지표\n",
    "- α정밀도가 높은 재현자료는 현실성이 높은 관측치를 포함"
   ]
  },
  {
   "cell_type": "markdown",
   "id": "fef47ea8-8b79-4c6f-aa92-33a8d90972f2",
   "metadata": {},
   "source": [
    "원본 데이터 $D_O$의 확률분포의 서포트 안에서 α 만큼의 확률을 가지는 가장 작은 토대(α-support)를 $S_0^α$"
   ]
  },
  {
   "cell_type": "markdown",
   "id": "277c4895-4988-41df-a83e-1e16ed49a7e2",
   "metadata": {},
   "source": [
    "$$ α정밀도:P_α$$\n",
    "$$ P_α := Pr(x_s \\in S_0^α), for α \\in [0,1]$$"
   ]
  },
  {
   "cell_type": "markdown",
   "id": "04767ec0-7b65-4376-ac71-8f3fdd2650e7",
   "metadata": {},
   "source": [
    "$$재현자료가 원본자료의 분포에서 나타날 가능성$$"
   ]
  },
  {
   "cell_type": "markdown",
   "id": "0f6fdfa2-4107-404e-a8ed-9ec2eab05365",
   "metadata": {},
   "source": [
    "`-` β재현율\n",
    "\n",
    "- 재현자료가 원본자료의 다양성을 충분히 반영하는가\n",
    "- 재현자료 유용성 측정지표\n",
    "- β재현율이 낮은 재현자료는 원본자료의 일부만을 반복적으로 재현"
   ]
  },
  {
   "cell_type": "markdown",
   "id": "4577db9a-dfc6-4daa-b1df-0e3a0dce339a",
   "metadata": {},
   "source": [
    "$$β재현율: R_β$$\n",
    "$$ R_β := Pr(x_o \\in S_0^β), for β \\in [0,1]$$"
   ]
  },
  {
   "cell_type": "markdown",
   "id": "d54d194a-e4a1-4fb1-a641-544dd9d51edb",
   "metadata": {},
   "source": [
    "$$재현자료의 분포가 원본자료를 얼마나 포함하지는지$$"
   ]
  },
  {
   "cell_type": "markdown",
   "id": "f01cd0cd-41a0-4427-8206-3fa19344a57c",
   "metadata": {},
   "source": [
    "`-` 독창섬점수\n",
    "- 재현자료를 얼마나 원본자료에 존재하지 않는 새로운 관측치들을 만들어 내는가\n",
    "- 정보노출의 위험성 측정 지표\n",
    "- 재현자료가 원본자료를 과적합하여 그대로 사용하고 있는지?"
   ]
  },
  {
   "cell_type": "code",
   "execution_count": null,
   "id": "c78569cc-e98d-4745-894f-b5139f87e4b9",
   "metadata": {},
   "outputs": [],
   "source": []
  }
 ],
 "metadata": {
  "kernelspec": {
   "display_name": "Python 3",
   "language": "python",
   "name": "python3"
  },
  "language_info": {
   "codemirror_mode": {
    "name": "ipython",
    "version": 3
   },
   "file_extension": ".py",
   "mimetype": "text/x-python",
   "name": "python",
   "nbconvert_exporter": "python",
   "pygments_lexer": "ipython3",
   "version": "3.7.16"
  }
 },
 "nbformat": 4,
 "nbformat_minor": 5
}
