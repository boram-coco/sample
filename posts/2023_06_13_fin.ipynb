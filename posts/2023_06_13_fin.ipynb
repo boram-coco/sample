{
 "cells": [
  {
   "cell_type": "raw",
   "id": "38f1aa41-0818-4b58-82ea-02e2c77fc7e4",
   "metadata": {
    "id": "38f1aa41-0818-4b58-82ea-02e2c77fc7e4"
   },
   "source": [
    "---\n",
    "title: \"15wk: 기말고사\"\n",
    "author: \"김보람\"\n",
    "date: \"06/13/2023\"\n",
    "---"
   ]
  },
  {
   "cell_type": "markdown",
   "id": "1f606d44-e4f2-48ae-b683-bd92fb5d477e",
   "metadata": {
    "id": "1f606d44-e4f2-48ae-b683-bd92fb5d477e"
   },
   "source": [
    "# `1`. 다음을 읽고 참거짓을 판단하라. (30점)"
   ]
  },
  {
   "cell_type": "markdown",
   "id": "5736a752-1294-40d4-b9ba-04a65147947a",
   "metadata": {
    "id": "5736a752-1294-40d4-b9ba-04a65147947a"
   },
   "source": [
    "`(1)` 자연수집합 $\\mathbb{N}$와 짝수의집합 $\\{2,4,6,\\dots\\}$의 cardinality는 동일하다."
   ]
  },
  {
   "cell_type": "markdown",
   "id": "36b64c05-c628-42ce-bf71-41c1d23a97f2",
   "metadata": {},
   "source": [
    "T. 자연수집합의 카디널리티는 알레프 널, 짝수의 집합도 알레프 널"
   ]
  },
  {
   "cell_type": "markdown",
   "id": "7aa84d9b-ce05-4246-9fc7-b153f0190962",
   "metadata": {
    "id": "7aa84d9b-ce05-4246-9fc7-b153f0190962"
   },
   "source": [
    "`(2)` 카운팅메져 $\\#$는 가측공간 $(\\mathbb{N},2^{\\mathbb{N}})$에서 $\\sigma$-finite measure이다. "
   ]
  },
  {
   "cell_type": "markdown",
   "id": "ef1677f0-3bb4-4233-b66d-7f50d6cb084b",
   "metadata": {},
   "source": [
    "T. $A_1=\\{1\\}, A_2=\\{1,2\\}, A_3=\\{1,2,3\\}$로 두게 되면 $A_1 \\cup \\dots \\cup A_n = \\cup_{i=1}^n A_i = \\mathbb{N}$\n",
    "\n",
    "$m(A_1)=1, m(A_2)=2, \\dots \\forall i \\in \\mathbb{Z}, m(A_i)<\\infty$이므로 $\\sigma$-finite measure이다."
   ]
  },
  {
   "cell_type": "markdown",
   "id": "d83f99e8-d630-4c0c-b882-71e78e9dcb9d",
   "metadata": {
    "id": "d83f99e8-d630-4c0c-b882-71e78e9dcb9d"
   },
   "source": [
    "`(3)` "
   ]
  },
  {
   "cell_type": "markdown",
   "id": "7e7ca9fa-79e2-4ce0-a7a5-db11919f9cd6",
   "metadata": {
    "id": "7e7ca9fa-79e2-4ce0-a7a5-db11919f9cd6"
   },
   "source": [
    "`(4)` "
   ]
  },
  {
   "cell_type": "markdown",
   "id": "6c520009-e84c-43ce-ae1a-edcaee61c849",
   "metadata": {
    "id": "6c520009-e84c-43ce-ae1a-edcaee61c849"
   },
   "source": [
    "`(5)` "
   ]
  },
  {
   "cell_type": "markdown",
   "id": "89b18076-f4e0-44f4-9589-5b1677776702",
   "metadata": {
    "id": "89b18076-f4e0-44f4-9589-5b1677776702"
   },
   "source": [
    "`(6)` "
   ]
  },
  {
   "cell_type": "markdown",
   "id": "9ac11140-f391-40c7-bb54-f97a7a56694b",
   "metadata": {
    "id": "9ac11140-f391-40c7-bb54-f97a7a56694b"
   },
   "source": [
    "`(7)` "
   ]
  },
  {
   "cell_type": "markdown",
   "id": "831b4d1e-b25d-4ecf-8e4e-b702dbd6a218",
   "metadata": {
    "id": "831b4d1e-b25d-4ecf-8e4e-b702dbd6a218"
   },
   "source": [
    "`(8)` "
   ]
  },
  {
   "cell_type": "markdown",
   "id": "8471f797-38bf-4631-8df3-f640e2c825f2",
   "metadata": {
    "id": "8471f797-38bf-4631-8df3-f640e2c825f2"
   },
   "source": [
    "`(9)` "
   ]
  },
  {
   "cell_type": "markdown",
   "id": "4b17efde-fa63-45fb-8f31-e57967cfe398",
   "metadata": {
    "id": "4b17efde-fa63-45fb-8f31-e57967cfe398"
   },
   "source": [
    "`(10)` "
   ]
  },
  {
   "cell_type": "markdown",
   "id": "1ccdbab2-3adb-4efc-9348-592aa4f211db",
   "metadata": {
    "id": "1ccdbab2-3adb-4efc-9348-592aa4f211db"
   },
   "source": [
    "# `2`. 확률 (40점)"
   ]
  },
  {
   "cell_type": "markdown",
   "id": "a0214e9d-c167-46b1-bd30-ef18a8a92fb3",
   "metadata": {},
   "source": [
    "- 4주차/7주차"
   ]
  },
  {
   "cell_type": "markdown",
   "id": "aca8c12d-5c37-4394-b1aa-3b2bf302ce72",
   "metadata": {},
   "source": [
    "## `(1)`"
   ]
  },
  {
   "cell_type": "markdown",
   "id": "180a0c2c-b1de-4aec-af32-fa498a47876a",
   "metadata": {
    "id": "180a0c2c-b1de-4aec-af32-fa498a47876a"
   },
   "source": [
    "`(1)` $\\Omega=\\{1,2,3,4\\}$ 이라고 하고 ${\\cal A} = \\{\\emptyset, \\{1\\},\\{2\\},\\{3,4\\},\\Omega\\}$ 이라고 하자. 함수 $\\tilde{P}:{\\cal A} \\to [0,1]$를 아래와 같이 정의하자."
   ]
  },
  {
   "cell_type": "markdown",
   "id": "4dcfc7d1-4b49-403a-9203-883590613184",
   "metadata": {
    "id": "4dcfc7d1-4b49-403a-9203-883590613184"
   },
   "source": [
    "- $\\tilde{P}(\\emptyset) = 0$\n",
    "- $\\tilde{P}(\\{1\\}) = 1/4$\n",
    "- $\\tilde{P}(\\{2\\}) = 1/2$\n",
    "- $\\tilde{P}(\\{3,4\\}) = 1/4$\n",
    "- $\\tilde{P}(\\Omega) = 1$"
   ]
  },
  {
   "cell_type": "markdown",
   "id": "6f0d760d-62a6-4fd8-a717-fcf0dd627d53",
   "metadata": {
    "id": "6f0d760d-62a6-4fd8-a717-fcf0dd627d53"
   },
   "source": [
    "${\\cal A}$에서 $\\tilde{P}$와 일치하는 확률메져 $P$가 가측공간 $(\\Omega,\\sigma({\\cal A}))$ 에서 유일하게 존재하는가? "
   ]
  },
  {
   "cell_type": "markdown",
   "id": "50ef5df1-4b24-4399-8c78-1567f12cfd47",
   "metadata": {},
   "source": [
    "Y"
   ]
  },
  {
   "cell_type": "markdown",
   "id": "209d3f37-70f7-46b0-9f2d-6b2848859fc1",
   "metadata": {},
   "source": [
    "(풀이)\n",
    "유일하게 존재한다. \n",
    "\n",
    "\n",
    "1. $P$ is probability measure on $(\\Omega,\\sigma({\\cal A}))$ \n",
    "\n",
    "2. $\\forall A \\in {\\cal A}: ~ P(A) = \\tilde{P}(A)$\n"
   ]
  },
  {
   "cell_type": "markdown",
   "id": "e7f9233c-5e97-4ad7-a6a3-7c3a58c9e6a6",
   "metadata": {},
   "source": [
    "$\\sigma({\\cal A}) = \\big\\{\\emptyset, \\{1\\}, \\{2\\}, \\{1,2\\}, \\{3,4\\}, \\{1,3,4\\}, \\{2,3,4\\}, \\Omega \\big\\}$"
   ]
  },
  {
   "cell_type": "markdown",
   "id": "70d1efea-06b4-4ed6-8a4d-19821eeab915",
   "metadata": {
    "id": "8ed1dced-dd0e-4b3e-88e3-276f551ce464"
   },
   "source": [
    "||$P$|$\\tilde{P}$|\n",
    "|:-:|:-:|:-:|\n",
    "|$\\emptyset$|$0$|$0$|\n",
    "|$\\{1\\}$|$\\frac{1}{4}$ | $\\frac{1}{4}$| \n",
    "|$\\{2\\}$|$\\frac{1}{2}$ | $\\frac{1}{2}$| \n",
    "|$\\{3,4\\}$|$\\frac{1}{4}$ | $\\frac{1}{4}$| \n",
    "|$\\Omega$|$1$ | $1$|\n",
    "|$-$|$-$|$-$|\n",
    "|$\\{1,2\\}$|$\\frac{3}{4}$ | None|\n",
    "|$\\{1,3,4\\}$|$\\frac{1}{2}$ | None|\n",
    "|$\\{2,3,4\\}$|$\\frac{3}{4}$ | None |"
   ]
  },
  {
   "cell_type": "markdown",
   "id": "db1182e8-a9cb-4f68-b71a-624917cee918",
   "metadata": {},
   "source": [
    "위와 같이 풀 수 있꼬 또는,"
   ]
  },
  {
   "cell_type": "markdown",
   "id": "460759f4-a05a-405e-9315-ef97f7e60c36",
   "metadata": {},
   "source": [
    "<[카라데오도리 확장정리]>\n",
    "\n",
    "$\\cal A$에서 확률비슷한 적당한 함수 $\\tilde P:\\cal A \\to [0,1]$를 잘 정의하면 이 함수는 $(\\Omega, \\sigma(\\cal A))$에서의 확률측도 $P$로 업그레이드 할 수 있고, 그 결과는 유일하다."
   ]
  },
  {
   "cell_type": "markdown",
   "id": "d8cb8e3e-d318-40be-a5c2-e5712997fcb1",
   "metadata": {},
   "source": [
    "(풀이2)"
   ]
  },
  {
   "cell_type": "markdown",
   "id": "9f9c5b97-946c-49c4-b914-4567235018f9",
   "metadata": {},
   "source": [
    "$\\cal A$는 파이시스템이다. 6주차.."
   ]
  },
  {
   "cell_type": "code",
   "execution_count": null,
   "id": "5fbd0cf0-9de9-4162-ba21-738c76463bd5",
   "metadata": {},
   "outputs": [],
   "source": []
  },
  {
   "cell_type": "markdown",
   "id": "3fa5f153-d442-4d41-91d1-4378458165a3",
   "metadata": {},
   "source": [
    "`-` **<U>Thm</U>**: ${\\cal A}$가 $\\Omega$에 대한 semiring이라고 하자. 함수 $\\tilde{m}: {\\cal A} \\to [0,\\infty]$가 \n",
    "\n",
    "1. $\\tilde{m}(\\emptyset)=0$ \n",
    "2. $\\tilde{m}(\\uplus_{i=1}^{n} B_i)=\\sum_{i=1}^{n}\\tilde{m}(B_i)$   additivity 조건\n",
    "3. $\\tilde{m}(\\cup_{i=1}^{\\infty} A_i) \\leq \\sum_{i=1}^{\\infty}\\tilde{m}(A_i)$    $\\sigma$-subadd 조건\n",
    "\n",
    "- $\\sigma$-additivity조건은 위의 2,3번으로 쪼개졌다고 생각하자.\n",
    "\n",
    "4. $\\exists A_1,A_2 \\dots \\in {\\cal A}$ with $\\tilde{m}(A_i)<\\infty$ such that $\\cup_{i=1}^{\\infty}A_i = \\Omega$ \n",
    "\n",
    "- 1~3번은$\\tilde{m}$가 ${\\cal A}$에서 msr 비슷, 4번까지하면 $\\tilde{m}$가 ${\\cal A}$에서 $\\sigma$-finte msr 비슷\n",
    "\n",
    "- add $\\rightarrow$ subadd, $\\sigma$-add $\\rightarrow$ $\\sigma$-subadd\n",
    "\n",
    "를 만족한다면 $\\tilde{m}$은 $(\\Omega,\\sigma({\\cal A})$에서의 측도 $m$으로 업그레이드 가능하며, 이 업그레이드 결과는 유일하다. "
   ]
  },
  {
   "cell_type": "code",
   "execution_count": null,
   "id": "cc5555ad-ce70-44fa-b1cb-706bbbe836cc",
   "metadata": {},
   "outputs": [],
   "source": []
  },
  {
   "cell_type": "code",
   "execution_count": null,
   "id": "d8ede9ca-c296-4bdd-8477-550f2fa10b3d",
   "metadata": {},
   "outputs": [],
   "source": []
  },
  {
   "cell_type": "code",
   "execution_count": null,
   "id": "4f201fcb-ada7-4def-a016-097b16ae6996",
   "metadata": {},
   "outputs": [],
   "source": []
  },
  {
   "cell_type": "markdown",
   "id": "e8a12ba9-a8c5-4785-a7f0-f4e25db5b982",
   "metadata": {},
   "source": [
    "`-` 조건체크 \n",
    "\n",
    "- ${\\cal A}$는 세미알지브라(그러므로 세미링)이다. \n",
    "- ${\\cal A}$는 전체집합을 포함하고 있으며 ${\\tilde P}(\\Omega)=1$이다. $\\Rightarrow$ 조건 (4)가 만족. \n",
    "- ${\\tilde P}$는 (1) $\\tilde{P}(\\emptyset)=0$ 이고 (2) add 를 만족하며 (3) $\\sigma$-subadd 를 만족한다. "
   ]
  },
  {
   "cell_type": "markdown",
   "id": "61881783-c2a0-4052-9020-81e4564d0547",
   "metadata": {},
   "source": [
    "> 참고: 이 예제의 경우 $|\\Omega|<\\infty$ 이므로 $\\sigma$-subadd 는 subadd 와 같은 성질이다. 그리고 add 는 subadd를 imply 하므로 사실상 (2) 만 체크하면 끝난다.^[(1)이랑 (4)는 너무 체크하기 쉬움]"
   ]
  },
  {
   "cell_type": "code",
   "execution_count": null,
   "id": "f381903c-956d-43b3-b679-adfca4dc5f0f",
   "metadata": {},
   "outputs": [],
   "source": []
  },
  {
   "cell_type": "code",
   "execution_count": null,
   "id": "3bb38de3-80bb-444e-949a-2334a3a2df86",
   "metadata": {},
   "outputs": [],
   "source": []
  },
  {
   "cell_type": "code",
   "execution_count": null,
   "id": "2c47ec50-d4f3-4ba1-a0bd-7597457517a6",
   "metadata": {},
   "outputs": [],
   "source": []
  },
  {
   "cell_type": "code",
   "execution_count": null,
   "id": "92cfc5d1-e583-4b40-9e78-708952d5e8f8",
   "metadata": {},
   "outputs": [],
   "source": []
  },
  {
   "cell_type": "markdown",
   "id": "20206e03-f7e6-4c33-bc11-94b3f4f0ef1b",
   "metadata": {},
   "source": [
    "## `(2)`"
   ]
  },
  {
   "cell_type": "markdown",
   "id": "767ca68a-693d-4c42-b78e-bb302e1b0da9",
   "metadata": {
    "id": "767ca68a-693d-4c42-b78e-bb302e1b0da9"
   },
   "source": [
    "`(2)` $\\Omega=\\{1,2,3,4\\}$ 이라고 하고 ${\\cal A} = \\{\\emptyset, \\{1,2\\},\\{2,3\\}, \\Omega\\}$ 라고 하자. 함수 $\\tilde{P}:{\\cal A} \\to [0,1]$를 아래와 같이 정의하자."
   ]
  },
  {
   "cell_type": "markdown",
   "id": "75a3df57-c5ac-4235-b788-276bea00ed34",
   "metadata": {
    "id": "75a3df57-c5ac-4235-b788-276bea00ed34"
   },
   "source": [
    "- $\\tilde{P}(\\emptyset) = 0$\n",
    "- $\\tilde{P}(\\{1,2\\}) = 1/2$\n",
    "- $\\tilde{P}(\\{2,3\\}) = 1/2$\n",
    "- $\\tilde{P}(\\Omega) = 1$"
   ]
  },
  {
   "cell_type": "markdown",
   "id": "f7d6a202-0dca-480e-957b-677e652d65f4",
   "metadata": {
    "id": "f7d6a202-0dca-480e-957b-677e652d65f4"
   },
   "source": [
    "${\\cal A}$에서 $\\tilde{P}$와 일치하는 확률메져 $P$가 가측공간 $(\\Omega,\\sigma({\\cal A}))$ 에서 유일하게 존재하는가? "
   ]
  },
  {
   "cell_type": "markdown",
   "id": "23477e8f-241d-40bd-8c5e-e55b055178db",
   "metadata": {},
   "source": [
    "F"
   ]
  },
  {
   "cell_type": "markdown",
   "id": "93cfdf15-25fe-41d8-a5a8-aa8b3301405f",
   "metadata": {},
   "source": [
    "$\\cal A$는 파이시스템이 아니다. $\\{2\\}$가 없기 떄문에.."
   ]
  },
  {
   "cell_type": "markdown",
   "id": "a2e578d0-2ecf-44d4-abd9-d3532030a5b5",
   "metadata": {},
   "source": [
    "$\\hat P$는 $\\cal A$에서 확률의 공리 1~3을 만족한다."
   ]
  },
  {
   "cell_type": "markdown",
   "id": "3b0b1526-6a1c-4c04-9afd-c6f42302b2bf",
   "metadata": {},
   "source": [
    "$\\sigma(\\cal A)$로 확장 가능"
   ]
  },
  {
   "cell_type": "markdown",
   "id": "b802f3bf-b715-4235-9414-5ef3a408979b",
   "metadata": {
    "id": "d152ac10-0bff-4964-b5a4-3514be462954"
   },
   "source": [
    "||$P_1$|$P_2$|$\\tilde{P}$\n",
    "|:-:|:-:|:-:|:-:|\n",
    "|$\\emptyset$|$0$|$0$|$0$|\n",
    "|$\\{1,2\\}$|$\\frac{1}{2}$ | $\\frac{1}{2}$| $\\frac{1}{2}$ | \n",
    "|$\\{2,3\\}$|$\\frac{1}{2}$ | $\\frac{1}{2}$| $\\frac{1}{2}$ | \n",
    "|$\\Omega$|$1$ | $1$| $1$\n",
    "|$-$|$-$|$-$|$-$|\n",
    "|$\\{1\\}$|$0$ | $\\frac{1}{2}$| None|\n",
    "|$\\{2\\}$|$\\frac{1}{2}$ | $0$| None|\n",
    "|$\\{3\\}$|$0$ | $\\frac{1}{2}$| None|\n",
    "|$\\{4\\}$|$\\frac{1}{2}$ | $0$| None|\n",
    "|$\\{1,3\\}$|$0$ | $1$| None|\n",
    "|$\\{1,4\\}$|$\\frac{1}{2}$ | $\\frac{1}{2}$| None|\n",
    "|$\\{2,4\\}$|$1$ | $0$| None|\n",
    "|$\\{3,4\\}$|$\\frac{1}{2}$ | $\\frac{1}{2}$| None|\n",
    "|$\\{2,3,4\\}$|$1$ | $\\frac{1}{2}$| None|\n",
    "|$\\{1,3,4\\}$|$\\frac{1}{2}$ | $1$| None|\n",
    "|$\\{1,2,4\\}$|$1$ | $\\frac{1}{2}$| None|\n",
    "|$\\{1,2,3\\}$|$\\frac{1}{2}$ | $1$| None|"
   ]
  },
  {
   "cell_type": "code",
   "execution_count": null,
   "id": "8320a4da-628f-4845-a14d-f638fbe34b44",
   "metadata": {},
   "outputs": [],
   "source": []
  },
  {
   "cell_type": "markdown",
   "id": "ed22334a-4caf-426e-8554-c4f4c7fa4008",
   "metadata": {},
   "source": [
    "`-` 체크: $\\tilde{P}$는 괜찮게 정의되었다. (1)-(4)가 모두 성립한다. (위의 예제와는 다르게 subadd 역시 성립함!!) 하지만 ${\\cal A}$가 세미링이 아니어서 탈락. "
   ]
  },
  {
   "cell_type": "markdown",
   "id": "88122d19-a87b-46e0-ae86-90ac37c6a2b5",
   "metadata": {
    "id": "88122d19-a87b-46e0-ae86-90ac37c6a2b5"
   },
   "source": [
    "::: {.callout-warning}\n",
    "## 주의사항 \n",
    "\n",
    "`1`. 위의 두 문제는 정답만 쓸 경우 답안으로 인정하지 않음. (1번답: 유일하게 존재함 <-- 이러면 0점) \n",
    "\n",
    "`2`. 유일하게 존재하는 (혹은 존재하지 않는) 이유를 설명하고, 그러한 확률측도를 예시로 제시해야함. \n",
    "\n",
    "`3`. 즉 유일하게 존재하는 경우는 아래를 만족하는 $P$를 제시하고, \n",
    "\n",
    "1. $P$ is probability measure on $(\\Omega,\\sigma({\\cal A}))$ \n",
    "2. $\\forall A \\in {\\cal A}: ~ P(A) = \\tilde{P}(A)$\n",
    "\n",
    "유일하게 존재하지 않는 경우는 아래를 만족하는 서로 다른 2개의 측도 $P_1,P_2$를 제시해야함. \n",
    "\n",
    "1. $P_1,P_2$ are probability measures on $(\\Omega,\\sigma({\\cal A}))$ \n",
    "2. $\\forall A \\in {\\cal A}: ~ P_1(A) =P_2(A) = \\tilde{P}(A)$\n",
    "3. $\\exists B \\in \\sigma({\\cal A}):~ P_1(B) \\neq P_2(B)$ \n",
    "\n",
    ":::"
   ]
  },
  {
   "cell_type": "markdown",
   "id": "497af28f-eb39-4df9-b5bf-67482b46593a",
   "metadata": {
    "id": "497af28f-eb39-4df9-b5bf-67482b46593a"
   },
   "source": [
    "# `3`. 확률변수, 밀도함수, 기대값 (30점)"
   ]
  },
  {
   "cell_type": "markdown",
   "id": "d64430ef-f6fc-4e9c-8b92-3c088eee1d3d",
   "metadata": {
    "id": "d64430ef-f6fc-4e9c-8b92-3c088eee1d3d"
   },
   "source": [
    "아래와 같은 확률공간 $(\\Omega,{\\cal F},P)$를 고려하라. \n",
    "\n",
    "- $\\Omega=[0,2\\pi)$\n",
    "- ${\\cal F} = {\\cal R}\\cap [0,2\\pi) := \\{B\\cap [0,2\\pi): B \\in {\\cal R}\\}$\n",
    "- $\\forall A \\in {\\cal F}:~ P(A)=\\frac{\\lambda (A)}{2\\pi}$"
   ]
  },
  {
   "cell_type": "markdown",
   "id": "5a0aabdf-3657-4ccb-b98c-8314b98d8d94",
   "metadata": {
    "id": "5a0aabdf-3657-4ccb-b98c-8314b98d8d94"
   },
   "source": [
    "::: {.callout-note}\n",
    "## 이것이 확률공간인 이유 (문제로 낼려다가..)\n",
    "\n",
    "$(\\Omega, {\\cal F}, P)$가 확률공간임을 보이기 위해서는 (1) ${\\cal F}$가 $\\sigma$-field 이고 (2) $P$가 prob-msr on $(\\Omega, {\\cal F})$임을 보이면 된다. \n",
    "\n",
    "**(1) ${\\cal F}$ is $\\sigma$-filed of $\\Omega$**\n",
    "\n",
    "${\\cal F}$는 $\\pi$-system 이고 $\\lambda$-system 이므로 시그마필드이다. (6주차 Dynkin's $\\pi-\\lambda$ theorem 증명을 위한 준비학습 참고)^[혹은 정석대로 시그마필드의 정의에 넣고 따져도 된다. 그런데 보통 그거보다 파이시스템과 람다시스템을 따지는게 더 편리하다.]\n",
    "\n",
    "**(2) $P$ is prob-msr on $(\\Omega, {\\cal F})$**\n",
    "\n",
    "$\\lambda$가 ${\\cal F}$에서의 measure이므로, $P:=\\frac{1}{2\\pi}\\lambda$ 역시 ${\\cal F}$에서의 measure가 된다. 이때 $P$는 $P(\\Omega)=1$을 만족하므로 prob-msr가 된다. \n",
    ":::\n"
   ]
  },
  {
   "cell_type": "markdown",
   "id": "c53c945a-32be-4829-b47e-47daf73d2e78",
   "metadata": {},
   "source": [
    "## `(1)`"
   ]
  },
  {
   "cell_type": "markdown",
   "id": "574361e3-961f-4018-aed6-7401ef3b2f7a",
   "metadata": {
    "id": "bf05aeb9-d676-44b5-9387-6eb20a083ca5"
   },
   "source": [
    "함수 $X:\\Omega \\to \\mathbb{R}$을 아래와 같이 정의할때\n",
    "\n",
    "$$X(\\omega) = \\begin{cases} 0 & \\omega \\in \\Omega \\cap \\mathbb{Q}^c \\\\ 1 & \\omega \\in \\Omega \\cap \\mathbb{Q} \\end{cases}$$\n",
    "\n",
    "$X$가 확률변수임을 보여라. "
   ]
  },
  {
   "cell_type": "markdown",
   "id": "9f11e353-c6fc-4ce2-ad12-80d5833c1e01",
   "metadata": {},
   "source": [
    "(확률변수 정의)\n",
    "\n",
    "두 개의 잴 수 있는 공간 $(\\Omega, \\cal F)$와 $(\\mathbb{R},\\cal R)$이 있다고 하자. 확률변수 $X$는 아래를 만족하는 함수 $X:\\Omega \\to \\mathbb{R}$이다.\n",
    "\n",
    "$\\forall B \\in {\\cal R}: X^{-1}(B) = \\{w : X(w) \\in B \\} \\in {\\cal F}$"
   ]
  },
  {
   "cell_type": "markdown",
   "id": "59fd3add-09b5-492d-890c-911c03783123",
   "metadata": {},
   "source": [
    "(풀이) 확률변수임을 체크하기 위해서는 \n",
    "\n",
    "- $B=\\emptyset$일 경우: $\\{w: X(w) \\in \\emptyset \\} = \\emptyset \\in \\sigma(A)$\n",
    "\n",
    "- $B=\\{0\\}$일 경우: $\\{w: X(w) \\in \\{0\\} \\} = [0,2\\pi) \\cap \\mathbb{Q}^c \\in \\sigma(A)$\n",
    "\n",
    "- $B=\\{1\\}$일 경우: $\\{w: X(w) \\in \\{1\\} \\} = [0,2\\pi) \\cap \\mathbb{Q} \\in \\sigma(A)$\n",
    "\n",
    "- $B=\\{0,1\\}$일 경우: $\\{w: X(w) \\in \\{0,1\\} \\} = [0,2\\pi) \\in \\sigma(A)$\n"
   ]
  },
  {
   "cell_type": "markdown",
   "id": "f680a06c-98df-4987-ad34-b8d6d8132337",
   "metadata": {},
   "source": [
    "(풀이 좀더 나아가서)\n",
    "\n",
    "$\\forall B \\in \\cal R, X^{-1}(B) \\in \\cal F$임을 보이자.\n",
    "\n",
    "$X^{-1}(B) = \\{w|X(w) \\in B \\}$이다.\n",
    "\n",
    "1) $0 \\notin B and 1 \\notin B$이면 $X(w)$는 함수 정의에 의해 함수 값이 0 또는 1의 값을 가진다.\n",
    "\n",
    "어떤 w에 대해서도 $X(w) \\notin B$이다. \n",
    "\n",
    "즉, $X^{-1}(B) = \\emptyset \\in \\cal F$\n",
    "\n",
    "2) $0 \\in B and 1 \\notin B$ \n",
    "\n",
    "그러면 $X(w)=0$인 경우는 $X(w) \\in B$이고 $X(w)=1$인 경우는 $X(w) \\notin B$이다. \n",
    "\n",
    "따라서 $X^{-1}(B) = \\{w|x(w)=0\\}$이 된다.\n",
    "\n",
    "$X(w) = 0 \\leftrightarrow w \\in \\Omega \\cap \\mathbb{Q}^c$\n",
    "\n",
    "$X^{-1}(B) = \\Omega \\cap \\mathbb{Q}^c \\in \\cal F$\n",
    "\n",
    "3) $0 \\notin B and 1 \\in B$\n",
    "\n",
    "그러면 $X^{-1}(B) = \\Omega \\cap \\mathbb{Q} \\in \\cal F$\n",
    "\n",
    "4) $0 \\in and 1 \\in B$\n",
    "\n",
    "그러면 $X^{-1}(B) = \\Omega \\in \\cal F$"
   ]
  },
  {
   "cell_type": "markdown",
   "id": "7f97bc0d-72c2-40fe-aa0e-0904e9bfda28",
   "metadata": {},
   "source": [
    "## `(2)`"
   ]
  },
  {
   "cell_type": "markdown",
   "id": "ba37f668-cee6-4d10-bad3-9630843653f3",
   "metadata": {
    "id": "ba37f668-cee6-4d10-bad3-9630843653f3"
   },
   "source": [
    " $\\mu_X << \\nu$ 를 만족하는 $\\sigma$-finite measure $\\nu$ 를 제시하고, $\\mu_X$의 Radon-Nikodym derivative (***w.r.t. $\\nu$***) \n",
    "\n",
    "$$f:=\\frac{d\\mu_X}{d\\nu}$$\n",
    "\n",
    "를 제시하라. 단, 여기에서 $\\mu_X : P \\circ X^{-1}$ 이다."
   ]
  },
  {
   "cell_type": "markdown",
   "id": "e6be453d-7cbd-40f1-904b-cdb26d7cccce",
   "metadata": {},
   "source": [
    "<풀이>\n",
    "\n",
    "Randon-Nikodym정의 : $\\forall B \\in \\cal R: \\mu_X(B) = \\int_B f d\\nu$"
   ]
  },
  {
   "cell_type": "markdown",
   "id": "96f5a8dd-da4e-43af-9ffc-eb49abcd5902",
   "metadata": {},
   "source": [
    "(1) $0 \\notin B$ and $1 \\notin B$\n",
    "\n",
    "$P \\circ X^{-1}(B) = P(\\emptyset) = \\frac{0}{2\\pi} = 0$\n",
    "\n",
    "(2) $0 \\in B$ and $1 \\notin B$\n",
    "\n",
    "$P \\circ X^{-1}(B) = P(\\Omega \\cap \\mathbb{Q}^c) = \\frac{\\lambda(\\mathbb{Q}^c)}{2\\pi}=\\frac{2\\pi}{2\\pi}=1$\n",
    "\n",
    "(3) $0 \\notin B$ and $1 \\in B$\n",
    "\n",
    "$P \\circ X^{-1}(B) = P(\\Omega \\cap \\mathbb{Q}) = \\frac{\\lambda(\\mathbb{Q})}{2\\pi}=\\frac{0}{2\\pi}=0$\n",
    "\n",
    "(4) $0 \\in B$ and $1 \\in B$\n",
    "\n",
    "$P \\circ X^{-1}(\\Omega)= \\frac{\\lambda(\\Omega)}{2\\pi}=1$"
   ]
  },
  {
   "cell_type": "markdown",
   "id": "16422607-d73c-4c30-b86e-9485d6e53489",
   "metadata": {},
   "source": [
    "<young풀이>\n",
    "\n",
    "$X(\\omega) = \\begin{cases} 0 & \\omega \\in \\Omega \\cap \\mathbb{Q}^c \\\\ 1 & \\omega \\in \\Omega \\cap \\mathbb{Q} \\end{cases}$\n",
    "\n",
    "$X^{-1}(B_1) = \\{w|X(w) \\in B_1 \\} = \\Omega \\cap \\mathbb{Q}^c \\rightarrow P(\\Omega \\cap \\mathbb{Q}^c)=1$\n",
    "\n",
    "$X^{-1}(B_2) = \\{w|X(w) \\in B_2 \\} = \\Omega \\cap \\mathbb{Q}\\rightarrow P(\\Omega \\cap \\mathbb{Q})=0$\n",
    "\n",
    "$\\nu(B) = \\begin{cases} 0 & 0 \\notin B \\\\ 1 & 0 \\in B \\end{cases}$ 라고 정의하자.\n",
    "\n",
    "if $\\nu(B)=0 \\rightarrow 0 \\notin B \\rightarrow \\mu_X(B) = P \\circ X^{-1}(B) = 0$\n",
    "\n",
    "$\\therefore \\mu_X << \\nu$\n",
    "\n",
    "라돈니코딤 도함수를 정의하기 위해\n",
    "\n",
    "$\\forall B, \\nu(B)=0 \\rightarrow \\mu_X(B)=0$임을 보이자. (위에서 보임)\n",
    "\n",
    "$\\nu(B) \\neq 0$인 것은 생각하지 않아도 된다.\n",
    "\n",
    "$\\mu_X(B) = \\int_B f d\\nu$가 되려면\n",
    "\n",
    "\n",
    "만약 $\\nu(B) = 0 \\rightarrow \\int_B f d \\nu = 0 \\rightarrow \\mu_X(B) = 0 \\leftrightarrow \\mu_X << \\nu$ 이므로\n",
    "\n",
    "=$\\int_B \\dfrac{d \\mu_X}{d\\nu} d\\nu= \\int_B \\dfrac{\\lambda(X^{-1}(B))}{2\\pi}dx$\n",
    "\n",
    "$f(X) = \\begin{cases} 1 & \\mathbb{Q} \\cap \\Omega \\\\ 0 & \\mathbb{Q}^c \\cap \\Omega \\end{cases}$\n",
    "\n",
    "\n",
    "\n",
    "\n",
    "\n",
    "$f=\\frac{d\\mu_X}{d\\nu}=\\frac{d}{d\\nu}\\int f d\\nu$"
   ]
  },
  {
   "cell_type": "markdown",
   "id": "1984fda8-afdb-4717-b5b9-35226cf8a2d9",
   "metadata": {
    "jupyter": {
     "source_hidden": true
    },
    "tags": []
   },
   "source": [
    "<chat풀이>\n",
    "\n",
    "$\\mu_X(B)=P(X^{-1}(B))=\\dfrac{\\lambda(X^{-1}(B))}{2\\pi}$이고\n",
    "\n",
    "라돈니코딤 도함수를 찾다.\n",
    "\n",
    "$\\int_B f d\\nu = \\int_B \\dfrac{d\\mu_X}{d\\nu} d\\nu = \\int_B \\dfrac{\\lambda(X^{-1}(dx)}{2\\pi}$"
   ]
  },
  {
   "cell_type": "markdown",
   "id": "187695a6-c748-4a57-bd2b-12ee37d8b673",
   "metadata": {
    "jupyter": {
     "source_hidden": true
    },
    "tags": []
   },
   "source": [
    "Apologies for the confusion. Let's proceed to determine the appropriate σ-finite measure ν.\n",
    "\n",
    "Given the function X defined as:\n",
    "\n",
    "$$X(\\omega) = \\begin{cases} 0 & \\omega \\in \\Omega \\cap \\mathbb{Q}^c \\\\ 1 & \\omega \\in \\Omega \\cap \\mathbb{Q} \\end{cases}$$\n",
    "\n",
    "where Ω is the probability space [0, 2π).\n",
    "\n",
    "To find the measure ν, we need to consider the preimages of singletons {0} and {1} under the mapping X. Let's denote these preimages as $X^(-1)({0}) and X^(-1)({1})$, respectively.\n",
    "\n",
    "$X^(-1)({0})$ consists of all ω in Ω for which $X(ω) = 0$. Since $X(ω) = 0$ for all $ω in Ω \\ [0, 2π), we have X^(-1)({0}) = Ω \\ [0, 2π).$\n",
    "\n",
    "$X^(-1)({1})$ consists of all ω in Ω for which X(ω) = 1. Since $X(ω) = 1$ for all $ω in [0, 2π) \\ Ω, we have X^(-1)({1}) = [0, 2π) \\ Ω.$\n",
    "\n",
    "Now, let's define the measure ν on the Borel sets of [0, 2π) as follows:\n",
    "\n",
    "ν(A) = λ(A) for A ∈ F, where F is the Borel σ-algebra on [0, 2π), and λ is the Lebesgue measure.\n",
    "\n",
    "To specify ν completely, we need to determine its values on X^(-1)({0}) and X^(-1)({1}).\n",
    "\n",
    "$ν(X^{-1}({0})) = λ(\\frac{Ω}{[0, 2π)}) = λ(∅) = 0$\n",
    "\n",
    "$ν(X^{-1}({1})) = λ([0, 2π) \\ Ω) = λ([0, 2π)) - λ(Ω) = 2π - λ(Ω)$\n",
    "\n",
    "Since we are dealing with the probability space [0, 2π), we know that λ(Ω) = 2π, so ν(X^(-1)({1})) = 2π - 2π = 0.\n",
    "\n",
    "Therefore, we have:\n",
    "\n",
    "ν(A) = \\begin{cases} λ(A) & \\text{if } A \\neq X^{-1}({0}), X^{-1}({1}) \\\\ 0 & \\text{if } A = X^{-1}({0}), X^{-1}({1}) \\end{cases}\n",
    "\n",
    "In summary, the measure ν is the Lebesgue measure λ on [0, 2π), except for the sets X^(-1)({0}) and X^(-1)({1}), where ν assigns measure 0."
   ]
  },
  {
   "cell_type": "markdown",
   "id": "bde5c6b9-996d-4de3-bfc0-41148833b622",
   "metadata": {
    "jupyter": {
     "source_hidden": true
    },
    "tags": []
   },
   "source": [
    "<!!>\n",
    "To find a σ-finite measure ν such that μ_X << ν, we can define ν as the Lebesgue measure on the interval [0, 2π), denoted by λ. The Lebesgue measure is a σ-finite measure, and since our probability space is $[0, 2π)$ with the Borel σ-algebra, it is appropriate to choose λ as the measure ν.\n",
    "\n",
    "So, we have:\n",
    "- ν(A) = λ(A) for all A ∈ F, where F is the Borel σ-algebra on [0, 2π).\n",
    "- μ_X is defined as the pushforward measure of P under the mapping X.\n",
    "\n",
    "To determine the Radon-Nikodym derivative of μ_X with respect to ν, we need to compute the function f = dμ_X/dν.\n",
    "\n",
    "Let's define the mapping $X: [0, 2π) → [0, 2π) as X(ω) = ω$, which is the identity mapping. Since X is the identity mapping, we have $P(X^(-1)(A)) = P(A) for all A ∈ F$.\n",
    "\n",
    "Now, we can compute the Radon-Nikodym derivative f as follows:\n",
    "$f(A) = dμ_X/dν(A) = P(X^(-1)(A)) / ν(A) = P(A) / ν(A) = (λ(A) / (2π)) / λ(A) = 1 / (2π) for all A ∈ F.$\n",
    "\n",
    "Therefore, the Radon-Nikodym derivative of μ_X with respect to $ν is f = 1 / (2π)$, which is a constant function."
   ]
  },
  {
   "cell_type": "markdown",
   "id": "a13fc49d-7c12-4fca-9508-6cf82119a1f9",
   "metadata": {
    "tags": []
   },
   "source": [
    "Thank you for the clarification. Based on the information you provided, it seems that $\\mu_X$ is defined as the pushforward measure of $P$ under a measurable function $X: \\Omega \\to \\mathbb{R}$.\n",
    "\n",
    "Let's define the measure $\\nu$ as the Lebesgue measure on the interval $[0,2\\pi)$. In other words, for any measurable set $A \\subset [0,2\\pi)$, we have $\\nu(A) = \\lambda(A)$, where $\\lambda(A)$ represents the Lebesgue measure of $A$.\n",
    "\n",
    "Since $\\mu_X$ is the pushforward measure of $P$ under $X$, we can define it as $\\mu_X(A) = P(X^{-1}(A))$ for any measurable set $A \\subset \\mathbb{R}$. Using the given probability measure $P(A) = \\frac{\\lambda(A)}{2\\pi}$, we can write $\\mu_X(A) = \\frac{\\lambda(X^{-1}(A))}{2\\pi}$.\n",
    "\n",
    "Now, the Radon-Nikodym derivative of $\\mu_X$ with respect to $\\nu$, denoted as $f = \\frac{d\\mu_X}{d\\nu}$, represents a measurable function on $\\mathbb{R}$ such that for any measurable set $A \\subset \\mathbb{R}$, we have $\\mu_X(A) = \\int_A f d\\nu$. In our case, we need to find this derivative explicitly.\n",
    "\n",
    "Using the definition of $\\mu_X$, we have:\n",
    "\n",
    "$$\\int_A f d\\nu = \\int_A \\frac{d\\mu_X}{d\\nu} d\\nu = \\int_A \\frac{\\lambda(X^{-1}(dx))}{2\\pi}.$$\n",
    "\n",
    "Since $\\nu$ is the Lebesgue measure, $d\\nu = dx$, and we can simplify the integral:\n",
    "\n",
    "$$\\int_A f d\\nu = \\int_A \\frac{\\lambda(X^{-1}(dx))}{2\\pi} = \\int_A \\frac{\\lambda(X^{-1}(dx))}{2\\pi}.$$\n",
    "\n",
    "Therefore, the Radon-Nikodym derivative $f$ is given by:\n",
    "\n",
    "$$f(x) = \\frac{d\\mu_X}{d\\nu}(x) = \\frac{\\lambda(X^{-1}(dx))}{2\\pi}.$$\n",
    "\n",
    "Please note that this expression holds for any measurable set $A \\subset \\mathbb{R}$ and its corresponding preimage $X^{-1}(A)$ under the function $X$."
   ]
  },
  {
   "cell_type": "markdown",
   "id": "094895ef-6dc2-4d36-b369-d92f1d9d7c41",
   "metadata": {
    "jupyter": {
     "source_hidden": true
    },
    "tags": []
   },
   "source": [
    "설명해 주셔서 감사합니다. 제공한 정보에 따르면 $\\mu_X$는 측정 가능한 함수 $X: \\Omega \\to \\mathbb{R}$에서 $P$의 푸시포워드 측정으로 정의된 것으로 보입니다.\n",
    "\n",
    "측정 $\\nu$를 $[0,2\\pi)$ 간격에 대한 르베그 측정으로 정의합니다. 즉, 모든 측정 가능한 세트 $A \\digma [0,2\\pi]$에 대해 $\\nu(A) = \\lambda(A)$를 가지고 있으며, 여기서 $\\lambda(A)$는 $A$의 르베그 측정값을 나타냅니다.\n",
    "\n",
    "$\\mu_X$는 $X$ 아래의 $P$의 푸시포워드 측정값이므로, 모든 측정 가능한 세트 $A \\mathbb{R}$에 대해 $\\mu_X(A) = P(X^{-1}(A)))$로 정의할 수 있습니다. 주어진 확률 측정 $P(A) = \\frac{\\lambda(A)}{2\\pi}$를 사용하여 $\\mu_X(A) = \\frac{\\lambda(X^{-1}(A)를 쓸 수 있습니다}{2\\pi}$.\n",
    "\n",
    "이제 $f = \\frac{d\\mu_X}{d\\nu}$로 표시된 $\\nu$에 대한 $\\mu_X$의 라돈-니코딤 파생물은 $\\mathbb{에 대한 측정 가능한 함수를 나타냅니다R}$ 측정 가능한 세트 $A \\mathbb{R}$에 대해 $\\mu_X(A) = \\int_A f d\\nu$를 가지고 있습니다. 우리의 경우, 우리는 이 파생물을 명시적으로 찾아야 합니다.\n",
    "\n",
    "$\\mu_X$의 정의를 사용하면 다음과 같은 이점이 있습니다:\n",
    "\n",
    "$$\\int_A f d\\nu = \\int_A \\frac{d\\mu_X}{d\\nu} d\\nu = \\int_A \\frac{\\lambda(X^{-1}(dx)}{2\\pi}.$$\n",
    "\n",
    "$\\nu$는 르베그 측도이므로 $d\\nu = dx$ 적분을 단순화할 수 있습니다:\n",
    "\n",
    "$$\\int_A f d\\nu = \\int_A \\frac{\\lambda(X^{-1}(dx))}{2\\pi} = \\int_A \\frac{\\lambda(X^{-1}(dx)}{2\\pi}.$$\n",
    "\n",
    "따라서 라돈-니코딤 미분 $f$는 다음과 같이 주어집니다:\n",
    "\n",
    "$$f(x) = \\frac{d\\mu_X}{d\\nu}(x) = \\frac{\\lambda(X^{-1}(dx)}{2\\pi}.$$\n",
    "\n",
    "이 식은 측정 가능한 집합 $A \\subset \\mathbb{에 대해 고정됩니다R}$ 및 함수 $X$에서 해당하는 사전 이미지 $X^{-1}(A)$."
   ]
  },
  {
   "cell_type": "markdown",
   "id": "562d1c50-7ee3-46a6-94b2-de61cbb518fc",
   "metadata": {
    "jupyter": {
     "source_hidden": true
    },
    "tags": []
   },
   "source": [
    "The function $X: \\Omega \\to \\mathbb{R}$ you defined is an indicator function that distinguishes between rational and irrational numbers in the interval $\\Omega = [0, 2\\pi)$. Specifically, $X(\\omega)$ takes the value 0 if $\\omega$ is irrational ($\\omega \\in \\Omega \\cap \\mathbb{Q}^c$), and it takes the value 1 if $\\omega$ is rational ($\\omega \\in \\Omega \\cap \\mathbb{Q}$).\n",
    "\n",
    "To find the Radon-Nikodym derivative $f = \\frac{d\\mu_X}{d\\nu}$, we need to compute the measure $\\mu_X$ and the measure $\\nu$. \n",
    "\n",
    "Given the probability measure $P$ defined as $P(A) = \\frac{\\lambda(A)}{2\\pi}$, we can calculate $\\mu_X(A)$ for any measurable set $A \\subset \\mathbb{R}$ using the definition of the pushforward measure:\n",
    "\n",
    "$$\\mu_X(A) = P(X^{-1}(A)) = \\frac{\\lambda(X^{-1}(A))}{2\\pi}.$$\n",
    "\n",
    "Now, since $X(\\omega)$ only takes values 0 and 1, the preimage $X^{-1}(A)$ can be written as the union of two disjoint sets: one corresponding to the values where $X(\\omega) = 0$, and the other where $X(\\omega) = 1$.\n",
    "\n",
    "Let's consider $A_0 = A \\cap [0,2\\pi) \\cap \\mathbb{Q}^c$ and $A_1 = A \\cap [0,2\\pi) \\cap \\mathbb{Q}$, which represent the irrational and rational parts of $A$, respectively. Then, we have:\n",
    "\n",
    "$$X^{-1}(A) = X^{-1}(A_0) \\cup X^{-1}(A_1) = (\\Omega \\cap \\mathbb{Q}^c) \\cap A_0 \\cup (\\Omega \\cap \\mathbb{Q}) \\cap A_1.$$\n",
    "\n",
    "Now, we can compute $\\mu_X(A)$:\n",
    "\n",
    "$$\\mu_X(A) = \\frac{\\lambda(X^{-1}(A))}{2\\pi} = \\frac{\\lambda((\\Omega \\cap \\mathbb{Q}^c) \\cap A_0 \\cup (\\Omega \\cap \\mathbb{Q}) \\cap A_1)}{2\\pi}.$$\n",
    "\n",
    "Since $\\lambda$ is the Lebesgue measure, which is countably additive and assigns measure 0 to single points, we have:\n",
    "\n",
    "$$\\lambda((\\Omega \\cap \\mathbb{Q}^c) \\cap A_0) = \\lambda((\\Omega \\cap \\mathbb{Q}) \\cap A_1) = 0.$$\n",
    "\n",
    "Therefore, we can simplify $\\mu_X(A)$:\n",
    "\n",
    "$$\\mu_X(A) = \\frac{\\lambda((\\Omega \\cap \\mathbb{Q}^c) \\cap A_0 \\cup (\\Omega \\cap \\mathbb{Q}) \\cap A_1)}{2\\pi} = \\frac{\\lambda(\\varnothing)}{2\\pi} = 0.$$\n",
    "\n",
    "Now, let's find the measure $\\nu$, which is the Lebesgue measure on the interval $[0,2\\pi)$. For any measurable set $A \\subset [0,2\\pi)$, we have $\\nu(A) = \\lambda(A)$.\n",
    "\n",
    "Finally, we can compute the Radon-Nikodym derivative $f = \\frac{d\\mu_X}{\n",
    "\n",
    "d\\nu}$:\n",
    "\n",
    "$$f(x) = \\frac{d\\mu_X}{d\\nu}(x) = \\frac{0}{\\lambda(x)} = 0.$$\n",
    "\n",
    "Therefore, the Radon-Nikodym derivative of $\\mu_X$ with respect to $\\nu$ is 0."
   ]
  },
  {
   "cell_type": "markdown",
   "id": "1aaeca04-2702-43e8-9dc6-067ab5b3a377",
   "metadata": {
    "jupyter": {
     "source_hidden": true
    },
    "tags": []
   },
   "source": [
    "함수 $X: \\Omega \\to \\mathbb{정의한 R}$는 $\\Omega = [0, 2\\pi)$ 간격에서 합리적인 숫자와 비합리적인 숫자를 구별하는 지표 함수입니다. 구체적으로 $X(\\omega)$는 $\\omega \\in \\Omega \\cap \\mathbb{인 경우 0 값을 사용합니다Q}^c$), $\\Omega$가 합리적인 경우($\\Omega \\in \\Omega \\cap \\mathbb{Q}$) 값 1을 사용합니다.\n",
    "\n",
    "라돈-니코딤 미분 $f = \\frac{d\\mu_X}{d\\nu}$를 찾으려면 측정값 $\\mu_X$와 측정값 $\\nu$를 계산해야 합니다. \n",
    "\n",
    "$P(A) = \\frac{\\lambda(A)}{2\\pi}$로 정의된 확률 측정값 $P$를 고려할 때, 우리는 푸시포워드 측정값의 정의를 사용하여 측정 가능한 모든 세트 $A \\deline \\mathbb{R}$에 대해 $\\mu_X(A)$를 계산할 수 있습니다:\n",
    "\n",
    "$$\\mu_X(A) = P(X^{-1}(A)) = \\frac{\\lambda(X^{-1}(A))}{2\\pi}.$$\n",
    "\n",
    "이제 $X(\\omega)$는 값 0과 1만 사용하므로, 사전 이미지 $X^{-1}(A)$는 두 개의 분리된 집합의 결합으로 작성될 수 있습니다. 하나는 $X(\\omega) = 0$인 값에 해당하고 다른 하나는 $X(\\omega) = 1$인 값입니다.\n",
    "\n",
    "$A_0 = A \\cap [0,2\\pi] \\cap \\mathbb{를 생각해 보자Q}^c$와 $A_1 = A \\cap [0,2\\pi) \\cap \\mathbb{Q}$는 각각 $A$의 비합리적인 부분과 합리적인 부분을 나타냅니다. 그러면, 다음과 같은 이점이 있습니다:\n",
    "\n",
    "$$X^{-1}(A) = X^{-1}(A_0) \\cup X^{-1}(A_1) = (\\Omega \\cap \\mathbb{Q}^c) \\cap A_0 \\cup (\\Omega \\cap \\mathbb{Q}) \\cap A_1.$$\n",
    "\n",
    "이제 $\\mu_X(A)$를 계산할 수 있습니다:\n",
    "\n",
    "$$\\mu_X(A) = \\frac{\\lambda(X^{-1}(A))}{2\\pi} = \\frac{\\lambda((\\Omega \\cap \\mathbb{Q}^c) \\cap A_0 \\cup(\\Omega \\cap \\mathbb{Q}) \\cap A_1)}{2\\pi}.$$\n",
    "\n",
    "$\\lambda$는 르베그 측도이며 셀 수 없이 가법적이며 단일 지점에 측정값 0을 할당하기 때문에 다음과 같습니다:\n",
    "\n",
    "$$\\lambda((\\Omega \\cap \\mathbb{Q}^c) \\cap A_0) = \\lambda(((\\Omega \\cap \\mathbb{Q}) \\cap A_1) = 0.$\n",
    "\n",
    "따라서 $\\mu_X(A)$를 단순화할 수 있습니다:\n",
    "\n",
    "$$\\mu_X(A) = \\frac{\\lambda((\\Omega \\cap \\mathbb{Q}^c) \\cap A_0 \\cup(\\Omega \\cap \\mathbb{Q})} {2\\pi} = \\frac{\\varnothing)} {2\\pi} = 0.$$\n",
    "\n",
    "이제 간격 $[0,2\\pi)$에 대한 르베그 측도인 측정 $\\nu$를 찾아보겠습니다. 모든 측정 가능한 세트 $A \\deta [0,2\\pi]$에 대해 $\\nu(A) = \\lambda(A)$가 있습니다.\n",
    "\n",
    "마지막으로 라돈-니코딤 미분 $f = \\frac{d\\mu_X}{를 계산할 수 있습니다\n",
    "\n",
    "d\\nu}$:\n",
    "\n",
    "$$f(x) = \\frac{d\\mu_X}{d\\nu}(x) = \\frac{0}{\\frac(x)} = 0.$$\n",
    "\n",
    "따라서 $\\nu$에 대한 $\\mu_X$의 라돈-니코딤 미분은 0입니다."
   ]
  },
  {
   "cell_type": "code",
   "execution_count": null,
   "id": "62221c05-c101-4664-b731-2fab193def7d",
   "metadata": {},
   "outputs": [],
   "source": []
  },
  {
   "cell_type": "code",
   "execution_count": null,
   "id": "949f1cad-d52d-467b-b66a-ec52074516d4",
   "metadata": {},
   "outputs": [],
   "source": []
  },
  {
   "cell_type": "code",
   "execution_count": null,
   "id": "8d25132a-c0d8-44b3-a90f-eb66773668a6",
   "metadata": {},
   "outputs": [],
   "source": []
  },
  {
   "cell_type": "code",
   "execution_count": null,
   "id": "8184e96f-c194-4caa-8fce-0fde721aac35",
   "metadata": {},
   "outputs": [],
   "source": []
  },
  {
   "cell_type": "code",
   "execution_count": null,
   "id": "e1269fb0-6c4a-45ed-a7c5-a4b4a8f0d74b",
   "metadata": {},
   "outputs": [],
   "source": []
  },
  {
   "cell_type": "code",
   "execution_count": null,
   "id": "a31546f7-180b-46a6-a053-465c74cc2347",
   "metadata": {},
   "outputs": [],
   "source": []
  },
  {
   "cell_type": "code",
   "execution_count": null,
   "id": "14648b06-6aa6-4e7b-b65b-91ead0711a28",
   "metadata": {},
   "outputs": [],
   "source": []
  },
  {
   "cell_type": "code",
   "execution_count": null,
   "id": "55bf7ab6-920e-461f-9272-125b3358cf08",
   "metadata": {},
   "outputs": [],
   "source": []
  },
  {
   "cell_type": "markdown",
   "id": "8c08a033-45a8-4123-bb9c-db3119559fcf",
   "metadata": {},
   "source": [
    "## `(3)`"
   ]
  },
  {
   "cell_type": "markdown",
   "id": "bf9cda89-80d5-41eb-b39e-6d439eec8906",
   "metadata": {
    "id": "bf9cda89-80d5-41eb-b39e-6d439eec8906"
   },
   "source": [
    "$X$의 평균을 구하라. 즉 $\\mathbb{E}(X)$를 계산하라. "
   ]
  },
  {
   "cell_type": "markdown",
   "id": "823866e6-8421-4bd8-bd1a-ce8f6a3f285a",
   "metadata": {},
   "source": [
    "$E(X)=0 \\times (P \\circ X^{-1})(\\{0\\}) + 1 \\times (P \\circ X^{-1})(\\{1\\})$"
   ]
  },
  {
   "cell_type": "markdown",
   "id": "eeb8aae7-5942-4946-9a83-f1df6ebd9149",
   "metadata": {},
   "source": [
    "$f(X) = \\begin{cases} 1 & \\mathbb{Q} \\cap \\Omega :=A_1\\\\ 0 & \\mathbb{Q}^c \\cap \\Omega :=A_2 \\end{cases}$\n",
    "\n"
   ]
  },
  {
   "cell_type": "markdown",
   "id": "44f9ef80-4ec9-4037-9c84-d2080e05c38f",
   "metadata": {
    "id": "bf05aeb9-d676-44b5-9387-6eb20a083ca5"
   },
   "source": [
    "함수 $X:\\Omega \\to \\mathbb{R}$을 아래와 같이 정의할때\n",
    "\n",
    "$X(\\omega) = \\begin{cases} 0 & \\omega \\in \\Omega \\cap \\mathbb{Q}^c \\\\ 1 & \\omega \\in \\Omega \\cap \\mathbb{Q} \\end{cases}$"
   ]
  },
  {
   "cell_type": "markdown",
   "id": "c913d07c-1ec9-476f-944f-3e0a95e5cf58",
   "metadata": {},
   "source": [
    "$E(X) = \\int X dP = X(B_1) \\times P(\\{B_1\\}) + X(B_2) \\times P(\\{B_2\\})=0 \\times 1 + 1 \\times 0 = 0$"
   ]
  },
  {
   "cell_type": "markdown",
   "id": "ddf4c404-0298-432c-b86c-2040341ca467",
   "metadata": {},
   "source": [
    "$E(X) = \\int X dP = \\int_{\\Omega \\cap \\mathbb{Q}^c} X dP + \\int_{\\Omega \\cap \\mathbb{Q}} XdP= \\int_{W \\in \\Omega} X(w)dP(w)= 1x0 + 0x1 = 0$"
   ]
  },
  {
   "cell_type": "markdown",
   "id": "f826b4e4-a267-4ca6-91b0-5981008d1b5d",
   "metadata": {},
   "source": [
    "$X=0$인 경우,\n",
    "\n",
    "\n",
    "$$\\int_{\\Omega \\cap \\mathbb{Q}^c} X \\, dP = \\int_{\\Omega \\cap \\mathbb{Q}^c} 0 \\, dP = 0$$"
   ]
  },
  {
   "cell_type": "markdown",
   "id": "a99e6049-67c0-499c-93a3-87c9e6b4439a",
   "metadata": {},
   "source": [
    "$X=1$인 경우,\n",
    "\n",
    "$$\\int_{\\Omega \\cap \\mathbb{Q}} X \\, dP = \\int_{\\Omega \\cap \\mathbb{Q}} 1 \\, dP = \\int_{\\Omega \\cap \\mathbb{Q}} \\frac{\\lambda(A)}{2\\pi} \\, dA=\\frac{0}{2\\pi}=0$$\n",
    "\n",
    "그러므로 기댓값은 0이다.\n",
    "$$\\mathbb{E}(X) = \\int X \\, dP = \\int_{\\Omega \\cap \\mathbb{Q}^c} X \\, dP + \\int_{\\Omega \\cap \\mathbb{Q}} X \\, dP = 0 + 0 = 0$$"
   ]
  },
  {
   "cell_type": "code",
   "execution_count": null,
   "id": "11cf6f43-216f-48df-ad4f-87f690a58d87",
   "metadata": {},
   "outputs": [],
   "source": []
  },
  {
   "cell_type": "code",
   "execution_count": null,
   "id": "b15b942b-08dd-4664-aa2a-9735fe9fbedc",
   "metadata": {},
   "outputs": [],
   "source": []
  },
  {
   "cell_type": "markdown",
   "id": "4926da02-ee55-486c-801b-dc418adb26a9",
   "metadata": {},
   "source": [
    "To compute the average of the random variable $X$ and find its expected value $\\mathbb{E}(X)$, we can indeed use the expression:\n",
    "\n",
    "$$\\mathbb{E}(X) = \\int X \\, dP$$\n",
    "\n",
    "In this case, $X$ takes two possible values: $0$ and $1$. Let's compute the integral for each value separately and then add them up.\n",
    "\n",
    "For $X = 0$, we need to integrate $X$ over the set $\\Omega \\cap \\mathbb{Q}^c$, which represents the subset of $\\Omega$ where $\\omega$ is irrational. Since $X$ is always $0$ for these values, the integral becomes:\n",
    "\n",
    "$$\\int_{\\Omega \\cap \\mathbb{Q}^c} X \\, dP = \\int_{\\Omega \\cap \\mathbb{Q}^c} 0 \\, dP = 0$$\n",
    "\n",
    "For $X = 1$, we need to integrate $X$ over the set $\\Omega \\cap \\mathbb{Q}$, which represents the subset of $\\Omega$ where $\\omega$ is rational. Since $X$ is always $1$ for these values, the integral becomes:\n",
    "\n",
    "$$\\int_{\\Omega \\cap \\mathbb{Q}} X \\, dP = \\int_{\\Omega \\cap \\mathbb{Q}} 1 \\, dP$$\n",
    "\n",
    "To compute this integral, we can use the definition of $P(A)$ for any $A \\in \\mathcal{F}$:\n",
    "\n",
    "$$\\int_{\\Omega \\cap \\mathbb{Q}} X \\, dP = \\int_{\\Omega \\cap \\mathbb{Q}} 1 \\, dP = \\int_{\\Omega \\cap \\mathbb{Q}} \\frac{\\lambda(A)}{2\\pi} \\, dA$$\n",
    "\n",
    "Since $\\lambda(A)$ represents the Lebesgue measure of set $A$, and $\\Omega \\cap \\mathbb{Q}$ is countable (since the rational numbers are countable), we have:\n",
    "\n",
    "$$\\int_{\\Omega \\cap \\mathbb{Q}} X \\, dP = \\sum_{\\omega \\in \\Omega \\cap \\mathbb{Q}} \\frac{\\lambda(\\{\\omega\\})}{2\\pi}$$\n",
    "\n",
    "Now, $\\lambda(\\{\\omega\\})$ represents the measure of a singleton set, which is zero. Therefore, the sum above is also zero:\n",
    "\n",
    "$$\\int_{\\Omega \\cap \\mathbb{Q}} X \\, dP = \\sum_{\\omega \\in \\Omega \\cap \\mathbb{Q}} \\frac{\\lambda(\\{\\omega\\})}{2\\pi} = 0$$\n",
    "\n",
    "Since $X$ is constant ($X=1$) on $\\Omega \\cap \\mathbb{Q}$ and zero elsewhere, we can conclude that:\n",
    "\n",
    "$$\\mathbb{E}(X) = \\int X \\, dP = \\int_{\\Omega \\cap \\mathbb{Q}^c} X \\, dP + \\int_{\\Omega \\cap \\mathbb{Q}} X \\, dP = 0 + 0 = 0$$\n",
    "\n",
    "Therefore, the expected value of the random variable $X$ is zero."
   ]
  },
  {
   "cell_type": "code",
   "execution_count": null,
   "id": "56535984-e144-4c26-bc1e-50889b224ab4",
   "metadata": {},
   "outputs": [],
   "source": []
  },
  {
   "cell_type": "markdown",
   "id": "4344899c-7587-4e46-abe9-414107484b82",
   "metadata": {},
   "source": [
    "To find the average or expected value of the function $X$, denoted as $\\mathbb{E}(X)$, we need to consider the probabilities associated with the values that $X$ takes.\n",
    "\n",
    "Recall that $X(\\omega)$ takes the value 0 if $\\omega$ is irrational and 1 if $\\omega$ is rational. Since $\\Omega$ is the interval $[0, 2\\pi)$, the set of rational numbers in $\\Omega$ is dense, meaning that for any interval of positive length, it contains both rational and irrational numbers.\n",
    "\n",
    "Therefore, for any measurable set $A \\subset \\Omega$, we have $P(X^{-1}(A)) = P(A \\cap \\mathbb{Q}^c) = \\frac{\\lambda(A \\cap \\mathbb{Q}^c)}{2\\pi}$, where $\\lambda$ denotes the Lebesgue measure.\n",
    "\n",
    "To calculate $\\mathbb{E}(X)$, we need to evaluate the expected value as a sum over the possible values of $X$ weighted by their respective probabilities. In this case, we have:\n",
    "\n",
    "$$\\mathbb{E}(X) = 0 \\cdot P(X = 0) + 1 \\cdot P(X = 1)$$\n",
    "\n",
    "Since $X(\\omega)$ only takes values 0 and 1, we can rewrite this as:\n",
    "\n",
    "$$\\mathbb{E}(X) = P(X = 1)$$\n",
    "\n",
    "Now, let's calculate $P(X = 1)$. Since $X = 1$ when $\\omega$ is rational, we can express this probability in terms of the Lebesgue measure:\n",
    "\n",
    "$$P(X = 1) = \\frac{\\lambda(\\Omega \\cap \\mathbb{Q})}{2\\pi}$$\n",
    "\n",
    "However, the set of rational numbers in the interval $[0, 2\\pi)$ has full Lebesgue measure since it is dense in the interval. Hence, $\\lambda(\\Omega \\cap \\mathbb{Q}) = \\lambda([0, 2\\pi)) = 2\\pi$.\n",
    "\n",
    "Therefore, we have:\n",
    "\n",
    "$$\\mathbb{E}(X) = P(X = 1) = \\frac{\\lambda(\\Omega \\cap \\mathbb{Q})}{2\\pi} = \\frac{2\\pi}{2\\pi} = 1$$\n",
    "\n",
    "So, the average or expected value of $X$ is 1."
   ]
  },
  {
   "cell_type": "code",
   "execution_count": null,
   "id": "4bcca225-fa4a-4d92-8373-45d9b5540e86",
   "metadata": {},
   "outputs": [],
   "source": []
  }
 ],
 "metadata": {
  "colab": {
   "provenance": []
  },
  "kernelspec": {
   "display_name": "Python 3 (ipykernel)",
   "language": "python",
   "name": "python3"
  },
  "language_info": {
   "codemirror_mode": {
    "name": "ipython",
    "version": 3
   },
   "file_extension": ".py",
   "mimetype": "text/x-python",
   "name": "python",
   "nbconvert_exporter": "python",
   "pygments_lexer": "ipython3",
   "version": "3.8.16"
  }
 },
 "nbformat": 4,
 "nbformat_minor": 5
}
