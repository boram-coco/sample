{
 "cells": [
  {
   "cell_type": "raw",
   "id": "34598f90-e27e-4f5a-98cb-9af42ccf9631",
   "metadata": {},
   "source": [
    "---\n",
    "title: \"콰트로 블로그\"\n",
    "author: \"김보람\"\n",
    "date: \"03/13/2023\"\n",
    "categories:\n",
    "  - 콰트로 블로그\n",
    "---"
   ]
  },
  {
   "cell_type": "markdown",
   "id": "5289219b-70c4-48ee-9015-88d491208f51",
   "metadata": {},
   "source": [
    "# github 블로그 만들기"
   ]
  },
  {
   "cell_type": "markdown",
   "id": "6d2f3b45-76c7-458b-9102-b9141216fe39",
   "metadata": {},
   "source": [
    "## 콰트로 블로그 만드는 법"
   ]
  },
  {
   "cell_type": "markdown",
   "id": "be616d4d-1978-4bf3-8561-572fe93ea657",
   "metadata": {},
   "source": [
    "1. git에서 Repositories 생성\n",
    " - 생성시 Read.Me 체크"
   ]
  },
  {
   "cell_type": "markdown",
   "id": "960255b5-c465-4ad3-929f-d520e9e6d965",
   "metadata": {},
   "source": [
    "2. 만들어진 레퍼토리의 HTTPS주소 복사"
   ]
  },
  {
   "cell_type": "markdown",
   "id": "8dcf8779-d461-454e-8a1a-4882037f0d94",
   "metadata": {},
   "source": [
    "3.명령 프롬프트에서 Dropbox로 들어가기"
   ]
  },
  {
   "cell_type": "markdown",
   "id": "b47ce2f4-cecb-45fb-98b7-0cf3c8a5885e",
   "metadata": {},
   "source": [
    "```python\n",
    "cd Dropbox\n",
    "```"
   ]
  },
  {
   "cell_type": "markdown",
   "id": "5591ba59-f610-4961-97bc-eefe1b481719",
   "metadata": {},
   "source": [
    "4. git clone \"2번복사한주소\""
   ]
  },
  {
   "cell_type": "markdown",
   "id": "fa65b5ce-7195-48d2-8ba3-f2df764078dc",
   "metadata": {},
   "source": [
    "5. 콰트로 블로그 설정파일 자동 생성\n",
    "```python\n",
    "quarto create-project --type website:blog\n",
    "```"
   ]
  },
  {
   "cell_type": "markdown",
   "id": "9f99cdbc-03ec-4e39-bf6c-6c1bc80915bc",
   "metadata": {},
   "source": [
    "6. 유저등록 (최초 한번)\n",
    "\n",
    "```python\n",
    "git config --global user.email \"내 깃허브 이메일\"\n",
    "\n",
    "git config --global user.name \"내 깃허브 닉네임\"\n",
    "\n",
    "git config credential.helper store  #(아이디와 비번 저장)\n",
    "```"
   ]
  },
  {
   "cell_type": "markdown",
   "id": "a3ced21c-0d01-4e0b-b86e-b798eb328220",
   "metadata": {},
   "source": [
    "7. \n",
    "```python\n",
    "git add .\n",
    "git commit -m .\n",
    "git push   (실행시 id/password작성)\n",
    "```"
   ]
  },
  {
   "cell_type": "markdown",
   "id": "c6ca2086-bf06-4a82-9638-d56006233736",
   "metadata": {},
   "source": [
    "8. publish\n",
    "```python\n",
    "quarto publish gh-pages --no-prompt --no-bropwer\n",
    "```"
   ]
  },
  {
   "cell_type": "code",
   "execution_count": null,
   "id": "2f683629-180f-48f1-a78e-8c19689d3d1b",
   "metadata": {},
   "outputs": [],
   "source": []
  }
 ],
 "metadata": {
  "kernelspec": {
   "display_name": "Python 3",
   "language": "python",
   "name": "python3"
  },
  "language_info": {
   "codemirror_mode": {
    "name": "ipython",
    "version": 3
   },
   "file_extension": ".py",
   "mimetype": "text/x-python",
   "name": "python",
   "nbconvert_exporter": "python",
   "pygments_lexer": "ipython3",
   "version": "3.8.16"
  }
 },
 "nbformat": 4,
 "nbformat_minor": 5
}
