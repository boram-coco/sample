{
 "cells": [
  {
   "cell_type": "raw",
   "id": "24781a47-c6ac-4890-991d-c4167cd3cb8b",
   "metadata": {},
   "source": [
    "---\n",
    "title: \"VAE(-ing)\"\n",
    "author: \"김보람\"\n",
    "date: \"03/14/2023\"\n",
    "categories:\n",
    "  - VAE\n",
    "  - Auto-Encoding Variational Bayes\n",
    "---"
   ]
  },
  {
   "cell_type": "code",
   "execution_count": null,
   "id": "8c2356ff-88a0-4d5f-88e9-69578150807e",
   "metadata": {},
   "outputs": [],
   "source": [
    "https://arxiv.org/pdf/1312.6114.pdf"
   ]
  },
  {
   "cell_type": "markdown",
   "id": "a69fc397-df66-4fe9-9e0a-0eada57a906e",
   "metadata": {
    "tags": []
   },
   "source": [
    "# 사전학습"
   ]
  },
  {
   "cell_type": "markdown",
   "id": "046e0a63-9a09-4890-8daa-cdc7b69be1f9",
   "metadata": {},
   "source": [
    "개인정보를 비식별화하는 기술\n",
    ": ISO/IEC 20889 국제표준에 따르면 통계 기술, 암호호 ㅏ기술, 가명화 기술, 해부화, 일반화기술, 무작위화 기술, 재현 데이터로 나눈다.\n"
   ]
  },
  {
   "cell_type": "markdown",
   "id": "e2dad266-8953-442d-a233-cb3451a6dc98",
   "metadata": {},
   "source": [
    "## 오토인코더"
   ]
  },
  {
   "cell_type": "markdown",
   "id": "e43b10ee-a2a2-48ca-98f9-8a52a7965812",
   "metadata": {
    "tags": []
   },
   "source": [
    "- Encoder, Decoder 네트워크로 구성된 모델\n",
    "- 학습 데이터-> encoder에 입력값"
   ]
  },
  {
   "cell_type": "markdown",
   "id": "bcaa2177-96e2-4937-a89b-d280391af369",
   "metadata": {
    "tags": []
   },
   "source": [
    "# VAE"
   ]
  },
  {
   "cell_type": "markdown",
   "id": "1ff04279-c701-4c7d-8f6b-fdf616bd9181",
   "metadata": {},
   "source": [
    "https://di-bigdata-study.tistory.com/4"
   ]
  },
  {
   "cell_type": "code",
   "execution_count": null,
   "id": "fcc7fd6c-d773-44c0-b5ad-0ae010ebeb06",
   "metadata": {},
   "outputs": [],
   "source": []
  },
  {
   "cell_type": "code",
   "execution_count": null,
   "id": "854b177f-5cdf-40b5-ac99-e79949d7f8ff",
   "metadata": {},
   "outputs": [],
   "source": [
    "## "
   ]
  },
  {
   "cell_type": "code",
   "execution_count": null,
   "id": "be3de8df-fbaa-4d03-a641-b50e31fd0564",
   "metadata": {},
   "outputs": [],
   "source": [
    "- 입력 데이터를 받아서 인코더를 거쳐 차원 축소를 통한 샘플링 후 디코더를 걸쳐 복원된다.\n",
    "- 기본 오토인코더와 같은 구조\n",
    "- 인코더 내에서 평균과 분산에서 샘플링을 하여 잠재공간을 중심으로 군집이 응집\n"
   ]
  },
  {
   "cell_type": "markdown",
   "id": "1ef6e350-8a67-43bc-9693-97cc863d585e",
   "metadata": {},
   "source": [
    "# ref"
   ]
  },
  {
   "cell_type": "markdown",
   "id": "1cba401f-f1b7-4c20-a8e4-5eeee17f45d0",
   "metadata": {},
   "source": [
    "http://www.riss.kr/search/detail/DetailView.do?p_mat_type=be54d9b8bc7cdb09&control_no=472ffae348d7013cffe0bdc3ef48d419&keyword=vae\n",
    "\n",
    "김수진. \"빅데이터 환경에서 딥러닝 기반 VAE를 활용한 개인정보 비식별화 기법.\" 국내석사학위논문 숭실대학교 대학원, 2023. 서울"
   ]
  },
  {
   "cell_type": "markdown",
   "id": "907c2e11-cb05-4617-8cb8-b5e249683ab7",
   "metadata": {},
   "source": [
    "https://arxiv.org/pdf/1312.6114.pdf"
   ]
  },
  {
   "cell_type": "markdown",
   "id": "8e252752-dae8-41fa-82d2-2e52f4e0c147",
   "metadata": {},
   "source": [
    "[황주효, 진교홍.(2022).이상 탐지를 위한 합성 데이터 생성 및 성능 분석.한국정보통신학회 종합학술대회 논문집,26(2),19-21.](https://www.dbpia.co.kr/pdf/pdfView.do?nodeId=NODE11161449)"
   ]
  },
  {
   "cell_type": "markdown",
   "id": "1907d15c-d7e4-4ab8-973a-5979f2288e8a",
   "metadata": {},
   "source": [
    "[정현우, 조윤상, 고건우, 송재익, 유동현.(2023).신용카드 거래 데이터에 대한 재현 데이터 생성 방법 비교 연구.한국데이터정보과학회지,34(1),49-72.](https://www.dbpia.co.kr/pdf/pdfView.do?nodeId=NODE11205195)"
   ]
  },
  {
   "cell_type": "markdown",
   "id": "b7c2c5b6-30ef-44c2-bad0-c3c320b9185f",
   "metadata": {},
   "source": [
    "[강준영(2021) 차분 프라이버시를 만족하는 재현 데이터 생성을 위한 딥러닝 모델 활용 기술 연구]https://dcollection.kongju.ac.kr/public_resource/pdf/000000030609_20230317142414.pdf"
   ]
  },
  {
   "cell_type": "markdown",
   "id": "3a533b3d-40ce-42ab-8ba3-cbcfa0455b1f",
   "metadata": {},
   "source": [
    "[김승환, 전성해.(2022).변이형 오토인코더를 이용한 영과잉 특허 데이터 분석.한국지능시스템학회 논문지,32(1),44-50.](https://www.dbpia.co.kr/journal/articleDetail?nodeId=NODE11036988)"
   ]
  },
  {
   "cell_type": "code",
   "execution_count": null,
   "id": "93dbbe7e-12d8-45e7-b6c7-4180a7eccb0c",
   "metadata": {},
   "outputs": [],
   "source": []
  }
 ],
 "metadata": {
  "kernelspec": {
   "display_name": "Python 3 (ipykernel)",
   "language": "python",
   "name": "python3"
  },
  "language_info": {
   "codemirror_mode": {
    "name": "ipython",
    "version": 3
   },
   "file_extension": ".py",
   "mimetype": "text/x-python",
   "name": "python",
   "nbconvert_exporter": "python",
   "pygments_lexer": "ipython3",
   "version": "3.8.16"
  }
 },
 "nbformat": 4,
 "nbformat_minor": 5
}
