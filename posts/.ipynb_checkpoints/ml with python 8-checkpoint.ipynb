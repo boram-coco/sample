{
 "cells": [
  {
   "cell_type": "code",
   "execution_count": null,
   "id": "f7d5bf24-000c-450f-ba2e-21d28c328692",
   "metadata": {},
   "outputs": [],
   "source": []
  },
  {
   "cell_type": "raw",
   "id": "d3e31243-cc8b-498e-b52a-81ca2dbf84c1",
   "metadata": {},
   "source": [
    "---\n",
    "title: \"지도 학습\"\n",
    "author: \"김보람\"\n",
    "date: \"05/11/2023\"\n",
    "categories:\n",
    "  - 지도 학습\n",
    "---"
   ]
  },
  {
   "cell_type": "markdown",
   "id": "dc153266-e84d-4020-aea3-310e26328bea",
   "metadata": {},
   "source": [
    "# ref"
   ]
  },
  {
   "cell_type": "markdown",
   "id": "e2fa294f-1ad0-46bd-908e-7be5c715cd81",
   "metadata": {},
   "source": [
    "- 선형대수와 통계학으로 배우는 머신러닝 with 파이썬\n",
    "\n",
    "- [github](https://github.com/bjpublic/MachineLearning)"
   ]
  },
  {
   "cell_type": "markdown",
   "id": "1c4f292b-7f3d-4846-9300-31f134a87129",
   "metadata": {},
   "source": [
    "# k-최근법 이웃 알고리즘"
   ]
  },
  {
   "cell_type": "code",
   "execution_count": 2,
   "id": "6274e78c-a764-4072-880c-4e44d110cdad",
   "metadata": {},
   "outputs": [],
   "source": [
    "\n",
    "# 데이터 불러오기\n",
    "from sklearn import datasets\n",
    "raw_iris = datasets.load_iris()\n",
    "\n",
    "# 피쳐/타겟\n",
    "X = raw_iris.data\n",
    "y = raw_iris.target\n",
    "\n",
    "# 트레이닝/테스트 데이터 분할\n",
    "from sklearn.model_selection import train_test_split\n",
    "X_tn, X_te, y_tn, y_te=train_test_split(X,y,random_state=0)\n",
    "\n",
    "#데이터 표준화\n",
    "from sklearn.preprocessing import StandardScaler\n",
    "std_scale = StandardScaler()\n",
    "std_scale.fit(X_tn)\n",
    "X_tn_std = std_scale.transform(X_tn)\n",
    "X_te_std  = std_scale.transform(X_te)"
   ]
  },
  {
   "cell_type": "code",
   "execution_count": 3,
   "id": "1115582c-8539-4016-9eb7-4b0089c68071",
   "metadata": {},
   "outputs": [
    {
     "data": {
      "text/html": [
       "<style>#sk-container-id-1 {color: black;background-color: white;}#sk-container-id-1 pre{padding: 0;}#sk-container-id-1 div.sk-toggleable {background-color: white;}#sk-container-id-1 label.sk-toggleable__label {cursor: pointer;display: block;width: 100%;margin-bottom: 0;padding: 0.3em;box-sizing: border-box;text-align: center;}#sk-container-id-1 label.sk-toggleable__label-arrow:before {content: \"▸\";float: left;margin-right: 0.25em;color: #696969;}#sk-container-id-1 label.sk-toggleable__label-arrow:hover:before {color: black;}#sk-container-id-1 div.sk-estimator:hover label.sk-toggleable__label-arrow:before {color: black;}#sk-container-id-1 div.sk-toggleable__content {max-height: 0;max-width: 0;overflow: hidden;text-align: left;background-color: #f0f8ff;}#sk-container-id-1 div.sk-toggleable__content pre {margin: 0.2em;color: black;border-radius: 0.25em;background-color: #f0f8ff;}#sk-container-id-1 input.sk-toggleable__control:checked~div.sk-toggleable__content {max-height: 200px;max-width: 100%;overflow: auto;}#sk-container-id-1 input.sk-toggleable__control:checked~label.sk-toggleable__label-arrow:before {content: \"▾\";}#sk-container-id-1 div.sk-estimator input.sk-toggleable__control:checked~label.sk-toggleable__label {background-color: #d4ebff;}#sk-container-id-1 div.sk-label input.sk-toggleable__control:checked~label.sk-toggleable__label {background-color: #d4ebff;}#sk-container-id-1 input.sk-hidden--visually {border: 0;clip: rect(1px 1px 1px 1px);clip: rect(1px, 1px, 1px, 1px);height: 1px;margin: -1px;overflow: hidden;padding: 0;position: absolute;width: 1px;}#sk-container-id-1 div.sk-estimator {font-family: monospace;background-color: #f0f8ff;border: 1px dotted black;border-radius: 0.25em;box-sizing: border-box;margin-bottom: 0.5em;}#sk-container-id-1 div.sk-estimator:hover {background-color: #d4ebff;}#sk-container-id-1 div.sk-parallel-item::after {content: \"\";width: 100%;border-bottom: 1px solid gray;flex-grow: 1;}#sk-container-id-1 div.sk-label:hover label.sk-toggleable__label {background-color: #d4ebff;}#sk-container-id-1 div.sk-serial::before {content: \"\";position: absolute;border-left: 1px solid gray;box-sizing: border-box;top: 0;bottom: 0;left: 50%;z-index: 0;}#sk-container-id-1 div.sk-serial {display: flex;flex-direction: column;align-items: center;background-color: white;padding-right: 0.2em;padding-left: 0.2em;position: relative;}#sk-container-id-1 div.sk-item {position: relative;z-index: 1;}#sk-container-id-1 div.sk-parallel {display: flex;align-items: stretch;justify-content: center;background-color: white;position: relative;}#sk-container-id-1 div.sk-item::before, #sk-container-id-1 div.sk-parallel-item::before {content: \"\";position: absolute;border-left: 1px solid gray;box-sizing: border-box;top: 0;bottom: 0;left: 50%;z-index: -1;}#sk-container-id-1 div.sk-parallel-item {display: flex;flex-direction: column;z-index: 1;position: relative;background-color: white;}#sk-container-id-1 div.sk-parallel-item:first-child::after {align-self: flex-end;width: 50%;}#sk-container-id-1 div.sk-parallel-item:last-child::after {align-self: flex-start;width: 50%;}#sk-container-id-1 div.sk-parallel-item:only-child::after {width: 0;}#sk-container-id-1 div.sk-dashed-wrapped {border: 1px dashed gray;margin: 0 0.4em 0.5em 0.4em;box-sizing: border-box;padding-bottom: 0.4em;background-color: white;}#sk-container-id-1 div.sk-label label {font-family: monospace;font-weight: bold;display: inline-block;line-height: 1.2em;}#sk-container-id-1 div.sk-label-container {text-align: center;}#sk-container-id-1 div.sk-container {/* jupyter's `normalize.less` sets `[hidden] { display: none; }` but bootstrap.min.css set `[hidden] { display: none !important; }` so we also need the `!important` here to be able to override the default hidden behavior on the sphinx rendered scikit-learn.org. See: https://github.com/scikit-learn/scikit-learn/issues/21755 */display: inline-block !important;position: relative;}#sk-container-id-1 div.sk-text-repr-fallback {display: none;}</style><div id=\"sk-container-id-1\" class=\"sk-top-container\"><div class=\"sk-text-repr-fallback\"><pre>KNeighborsClassifier(n_neighbors=2)</pre><b>In a Jupyter environment, please rerun this cell to show the HTML representation or trust the notebook. <br />On GitHub, the HTML representation is unable to render, please try loading this page with nbviewer.org.</b></div><div class=\"sk-container\" hidden><div class=\"sk-item\"><div class=\"sk-estimator sk-toggleable\"><input class=\"sk-toggleable__control sk-hidden--visually\" id=\"sk-estimator-id-1\" type=\"checkbox\" checked><label for=\"sk-estimator-id-1\" class=\"sk-toggleable__label sk-toggleable__label-arrow\">KNeighborsClassifier</label><div class=\"sk-toggleable__content\"><pre>KNeighborsClassifier(n_neighbors=2)</pre></div></div></div></div></div>"
      ],
      "text/plain": [
       "KNeighborsClassifier(n_neighbors=2)"
      ]
     },
     "execution_count": 3,
     "metadata": {},
     "output_type": "execute_result"
    }
   ],
   "source": [
    "# 학습\n",
    "from sklearn.neighbors import KNeighborsClassifier\n",
    "clf_knn =  KNeighborsClassifier(n_neighbors=2)\n",
    "clf_knn.fit(X_tn_std, y_tn)"
   ]
  },
  {
   "cell_type": "code",
   "execution_count": 4,
   "id": "a7ff9030-dc60-4f95-b0da-a92b11eeebcd",
   "metadata": {},
   "outputs": [
    {
     "name": "stdout",
     "output_type": "stream",
     "text": [
      "[2 1 0 2 0 2 0 1 1 1 1 1 1 1 1 0 1 1 0 0 2 1 0 0 2 0 0 1 1 0 2 1 0 2 2 1 0\n",
      " 2]\n"
     ]
    }
   ],
   "source": [
    "# 예측\n",
    "knn_pred = clf_knn.predict(X_te_std)\n",
    "print(knn_pred)"
   ]
  },
  {
   "cell_type": "code",
   "execution_count": 8,
   "id": "cd395c10-f3a2-4d97-96a7-0bf317b86e2e",
   "metadata": {},
   "outputs": [
    {
     "name": "stdout",
     "output_type": "stream",
     "text": [
      "0.9473684210526315\n"
     ]
    }
   ],
   "source": [
    "# 정확도\n",
    "from sklearn.metrics import accuracy_score\n",
    "accuracy = accuracy_score(y_te, knn_pred)\n",
    "print(accuracy)"
   ]
  },
  {
   "cell_type": "code",
   "execution_count": 9,
   "id": "9615b873-b3ba-4e31-9e63-d99cc828aadf",
   "metadata": {},
   "outputs": [
    {
     "name": "stdout",
     "output_type": "stream",
     "text": [
      "[[13  0  0]\n",
      " [ 0 15  1]\n",
      " [ 0  1  8]]\n"
     ]
    }
   ],
   "source": [
    "# confusion matrix 확인 \n",
    "from sklearn.metrics import confusion_matrix\n",
    "conf_matrix = confusion_matrix(y_te, knn_pred)\n",
    "print(conf_matrix)"
   ]
  },
  {
   "cell_type": "code",
   "execution_count": 10,
   "id": "3fcdc1be-e627-470e-a3d1-a6ad0aed702d",
   "metadata": {},
   "outputs": [
    {
     "name": "stdout",
     "output_type": "stream",
     "text": [
      "              precision    recall  f1-score   support\n",
      "\n",
      "           0       1.00      1.00      1.00        13\n",
      "           1       0.94      0.94      0.94        16\n",
      "           2       0.89      0.89      0.89         9\n",
      "\n",
      "    accuracy                           0.95        38\n",
      "   macro avg       0.94      0.94      0.94        38\n",
      "weighted avg       0.95      0.95      0.95        38\n",
      "\n"
     ]
    }
   ],
   "source": [
    "# 분류 레포트 확인\n",
    "from sklearn.metrics import classification_report\n",
    "class_report = classification_report(y_te, knn_pred)\n",
    "print(class_report)"
   ]
  },
  {
   "cell_type": "markdown",
   "id": "b4f41e89-952e-4f17-a5ec-ba3557de3eec",
   "metadata": {},
   "source": [
    "# 선형 회귀 분석"
   ]
  },
  {
   "cell_type": "markdown",
   "id": "e71e4200-e5fd-4c56-b49a-0d69a33ec5c1",
   "metadata": {},
   "source": [
    "```python\n",
    "from sklearn import datasets\n",
    "from sklearn.preprocessing import StandardScaler\n",
    "from sklearn.model_selection import train_test_split\n",
    "\n",
    "from sklearn.linear_model import Ridge\n",
    "from sklearn.linear_model import Lasso\n",
    "from sklearn.linear_model import ElasticNet\n",
    "from sklearn.linear_model import LinearRegression \n",
    "\n",
    "from sklearn.metrics import r2_score\n",
    "from sklearn.metrics import mean_squared_error\n",
    "\n",
    "\n",
    "# 데이터 불러오기\n",
    "raw_boston = datasets.load_boston()\n",
    "\n",
    "# 피쳐, 타겟 데이터 지정\n",
    "X = raw_boston.data\n",
    "y = raw_boston.target\n",
    "\n",
    "# 트레이닝/테스트 데이터 분할\n",
    "X_tn, X_te, y_tn, y_te = train_test_split(X,y,random_state=1)\n",
    "\n",
    "\n",
    "# 데이터 표준화\n",
    "std_scale = StandardScaler()\n",
    "std_scale.fit(X_tn)\n",
    "X_tn_std = std_scale.transform(X_tn)\n",
    "X_te_std  = std_scale.transform(X_te)\n",
    "\n",
    "# 선형 회귀분석 학습\n",
    "clf_lr =  LinearRegression()\n",
    "clf_lr.fit(X_tn_std, y_tn)\n",
    "\n",
    "# 선형 회귀분석 모형 추정 계수 확인\n",
    "print(clf_lr.coef_)\n",
    "print(clf_lr.intercept_)\n",
    "\n",
    "# 릿지 회귀분석(L2 제약식 적용)\n",
    "clf_ridge = Ridge(alpha=1)\n",
    "clf_ridge.fit(X_tn_std, y_tn)\n",
    "\n",
    "# 릿지 회귀분석 모형 추정 계수 확인\n",
    "print(clf_ridge.coef_)\n",
    "print(clf_ridge.intercept_)\n",
    "\n",
    "# 라쏘 회귀분석(L1 제약식 적용)\n",
    "clf_lasso = Lasso(alpha=0.01)\n",
    "clf_lasso.fit(X_tn_std, y_tn)\n",
    "\n",
    "# 라쏘 회귀분석 모형 추정 계수 확인\n",
    "print(clf_lasso.coef_)\n",
    "print(clf_lasso.intercept_)\n",
    "\n",
    "# 엘라스틱넷\n",
    "clf_elastic = ElasticNet(alpha=0.01, l1_ratio=0.01)\n",
    "clf_elastic.fit(X_tn_std, y_tn)\n",
    "\n",
    "# 엘라스틱넷 모형 추정 계수 확인\n",
    "print(clf_elastic.coef_)\n",
    "print(clf_elastic.intercept_)\n",
    "\n",
    "# 예측\n",
    "pred_lr = clf_lr.predict(X_te_std)\n",
    "pred_ridge = clf_ridge.predict(X_te_std)\n",
    "pred_lasso = clf_lasso.predict(X_te_std)\n",
    "pred_elastic = clf_elastic.predict(X_te_std)\n",
    "\n",
    "# 모형 평가-R제곱값\n",
    "print(r2_score(y_te, pred_lr))\n",
    "print(r2_score(y_te, pred_ridge))\n",
    "print(r2_score(y_te, pred_lasso))\n",
    "print(r2_score(y_te, pred_elastic))\n",
    "\n",
    "# 모형 평가-MSE\n",
    "print(mean_squared_error(y_te, pred_lr))\n",
    "print(mean_squared_error(y_te, pred_ridge))\n",
    "print(mean_squared_error(y_te, pred_lasso))\n",
    "print(mean_squared_error(y_te, pred_elastic))\n",
    "```"
   ]
  },
  {
   "cell_type": "markdown",
   "id": "8d0474e6-21df-411f-aea0-b45bfa4cc216",
   "metadata": {},
   "source": [
    "`-` 회귀분석\n",
    "\n",
    "$$\\hat w = (X^TX)^{-1}X^Ty$$"
   ]
  },
  {
   "cell_type": "markdown",
   "id": "fd50681e-8e16-42a8-9da4-2dacfa7f0615",
   "metadata": {},
   "source": [
    "`-` 릿지 회귀 분석(L2제약식)\n",
    "\n",
    "$$\\hat w^{ridge} = (X^TX+ \\lambda I_p)^{-1}X^Ty$$\n",
    "\n",
    "- $\\lambda$ 계수의 사이즈 조절, 정규식의 크기 조절, 0에 가까울수록 최소 제곱 추정량에 가까워지며 무한대에 가까워질수록 릿지 해는 0에 가까워짐\n",
    "\n",
    "- 편향(bias)가 존재"
   ]
  },
  {
   "cell_type": "markdown",
   "id": "b378a844-73aa-43e4-8d1b-0cd3cbc2113f",
   "metadata": {},
   "source": [
    "`-` 라쏘 회귀 분석(L1제약식)\n",
    "\n",
    "$$\\hat w^{lasso}=argmin_w \\{(y-Xw)^T(y-Xw)+\\lambda(|w|-t) \\}$$"
   ]
  },
  {
   "cell_type": "markdown",
   "id": "1de3bec9-e7d7-4df7-8186-a00e108dae88",
   "metadata": {},
   "source": [
    "# 로지스틱 회귀 분석"
   ]
  },
  {
   "cell_type": "code",
   "execution_count": 13,
   "id": "2e20807d-69da-44a3-9719-f3ad55adad50",
   "metadata": {},
   "outputs": [],
   "source": [
    "# 데이터 불러오기\n",
    "from sklearn import datasets\n",
    "raw_cancer = datasets.load_breast_cancer()\n",
    "\n",
    "# 피쳐, 타겟 데이터 지정\n",
    "X = raw_cancer.data\n",
    "y = raw_cancer.target\n",
    "\n",
    "# 트레이닝/테스트 데이터 분할\n",
    "from sklearn.model_selection import train_test_split\n",
    "X_tn, X_te, y_tn, y_te=train_test_split(X,y,random_state=0)\n",
    "\n"
   ]
  },
  {
   "cell_type": "code",
   "execution_count": 15,
   "id": "5cff57d7-9e33-4ebf-95c6-ab65c6a108b1",
   "metadata": {},
   "outputs": [],
   "source": [
    "\n",
    "#데이터 표준화\n",
    "from sklearn.preprocessing import StandardScaler\n",
    "std_scale = StandardScaler()\n",
    "std_scale.fit(X_tn)\n",
    "X_tn_std = std_scale.transform(X_tn)\n",
    "X_te_std  = std_scale.transform(X_te)"
   ]
  },
  {
   "cell_type": "code",
   "execution_count": 17,
   "id": "e86fda8c-4dd4-4d97-8a50-0567fd708085",
   "metadata": {},
   "outputs": [
    {
     "data": {
      "text/html": [
       "<style>#sk-container-id-2 {color: black;background-color: white;}#sk-container-id-2 pre{padding: 0;}#sk-container-id-2 div.sk-toggleable {background-color: white;}#sk-container-id-2 label.sk-toggleable__label {cursor: pointer;display: block;width: 100%;margin-bottom: 0;padding: 0.3em;box-sizing: border-box;text-align: center;}#sk-container-id-2 label.sk-toggleable__label-arrow:before {content: \"▸\";float: left;margin-right: 0.25em;color: #696969;}#sk-container-id-2 label.sk-toggleable__label-arrow:hover:before {color: black;}#sk-container-id-2 div.sk-estimator:hover label.sk-toggleable__label-arrow:before {color: black;}#sk-container-id-2 div.sk-toggleable__content {max-height: 0;max-width: 0;overflow: hidden;text-align: left;background-color: #f0f8ff;}#sk-container-id-2 div.sk-toggleable__content pre {margin: 0.2em;color: black;border-radius: 0.25em;background-color: #f0f8ff;}#sk-container-id-2 input.sk-toggleable__control:checked~div.sk-toggleable__content {max-height: 200px;max-width: 100%;overflow: auto;}#sk-container-id-2 input.sk-toggleable__control:checked~label.sk-toggleable__label-arrow:before {content: \"▾\";}#sk-container-id-2 div.sk-estimator input.sk-toggleable__control:checked~label.sk-toggleable__label {background-color: #d4ebff;}#sk-container-id-2 div.sk-label input.sk-toggleable__control:checked~label.sk-toggleable__label {background-color: #d4ebff;}#sk-container-id-2 input.sk-hidden--visually {border: 0;clip: rect(1px 1px 1px 1px);clip: rect(1px, 1px, 1px, 1px);height: 1px;margin: -1px;overflow: hidden;padding: 0;position: absolute;width: 1px;}#sk-container-id-2 div.sk-estimator {font-family: monospace;background-color: #f0f8ff;border: 1px dotted black;border-radius: 0.25em;box-sizing: border-box;margin-bottom: 0.5em;}#sk-container-id-2 div.sk-estimator:hover {background-color: #d4ebff;}#sk-container-id-2 div.sk-parallel-item::after {content: \"\";width: 100%;border-bottom: 1px solid gray;flex-grow: 1;}#sk-container-id-2 div.sk-label:hover label.sk-toggleable__label {background-color: #d4ebff;}#sk-container-id-2 div.sk-serial::before {content: \"\";position: absolute;border-left: 1px solid gray;box-sizing: border-box;top: 0;bottom: 0;left: 50%;z-index: 0;}#sk-container-id-2 div.sk-serial {display: flex;flex-direction: column;align-items: center;background-color: white;padding-right: 0.2em;padding-left: 0.2em;position: relative;}#sk-container-id-2 div.sk-item {position: relative;z-index: 1;}#sk-container-id-2 div.sk-parallel {display: flex;align-items: stretch;justify-content: center;background-color: white;position: relative;}#sk-container-id-2 div.sk-item::before, #sk-container-id-2 div.sk-parallel-item::before {content: \"\";position: absolute;border-left: 1px solid gray;box-sizing: border-box;top: 0;bottom: 0;left: 50%;z-index: -1;}#sk-container-id-2 div.sk-parallel-item {display: flex;flex-direction: column;z-index: 1;position: relative;background-color: white;}#sk-container-id-2 div.sk-parallel-item:first-child::after {align-self: flex-end;width: 50%;}#sk-container-id-2 div.sk-parallel-item:last-child::after {align-self: flex-start;width: 50%;}#sk-container-id-2 div.sk-parallel-item:only-child::after {width: 0;}#sk-container-id-2 div.sk-dashed-wrapped {border: 1px dashed gray;margin: 0 0.4em 0.5em 0.4em;box-sizing: border-box;padding-bottom: 0.4em;background-color: white;}#sk-container-id-2 div.sk-label label {font-family: monospace;font-weight: bold;display: inline-block;line-height: 1.2em;}#sk-container-id-2 div.sk-label-container {text-align: center;}#sk-container-id-2 div.sk-container {/* jupyter's `normalize.less` sets `[hidden] { display: none; }` but bootstrap.min.css set `[hidden] { display: none !important; }` so we also need the `!important` here to be able to override the default hidden behavior on the sphinx rendered scikit-learn.org. See: https://github.com/scikit-learn/scikit-learn/issues/21755 */display: inline-block !important;position: relative;}#sk-container-id-2 div.sk-text-repr-fallback {display: none;}</style><div id=\"sk-container-id-2\" class=\"sk-top-container\"><div class=\"sk-text-repr-fallback\"><pre>LogisticRegression()</pre><b>In a Jupyter environment, please rerun this cell to show the HTML representation or trust the notebook. <br />On GitHub, the HTML representation is unable to render, please try loading this page with nbviewer.org.</b></div><div class=\"sk-container\" hidden><div class=\"sk-item\"><div class=\"sk-estimator sk-toggleable\"><input class=\"sk-toggleable__control sk-hidden--visually\" id=\"sk-estimator-id-2\" type=\"checkbox\" checked><label for=\"sk-estimator-id-2\" class=\"sk-toggleable__label sk-toggleable__label-arrow\">LogisticRegression</label><div class=\"sk-toggleable__content\"><pre>LogisticRegression()</pre></div></div></div></div></div>"
      ],
      "text/plain": [
       "LogisticRegression()"
      ]
     },
     "execution_count": 17,
     "metadata": {},
     "output_type": "execute_result"
    }
   ],
   "source": [
    "# 로지스틱 회귀분석(L2 제약식 적용)\n",
    "from sklearn.linear_model import LogisticRegression\n",
    "clf_logi_l2 =  LogisticRegression(penalty='l2')\n",
    "clf_logi_l2.fit(X_tn_std, y_tn)"
   ]
  },
  {
   "cell_type": "code",
   "execution_count": 19,
   "id": "8adf9dbb-f7db-4be0-81e5-561eba82079c",
   "metadata": {},
   "outputs": [
    {
     "name": "stdout",
     "output_type": "stream",
     "text": [
      "[[-0.29792942 -0.58056355 -0.3109406  -0.377129   -0.11984232  0.42855478\n",
      "  -0.71131106 -0.85371164 -0.46688191  0.11762548 -1.38262136  0.0899184\n",
      "  -0.94778563 -0.94686238  0.18575731  0.99305313  0.11090349 -0.3458275\n",
      "   0.20290919  0.80470317 -0.91626377 -0.91726667 -0.8159834  -0.86539197\n",
      "  -0.45539191  0.10347391 -0.83009341 -0.98445173 -0.5920036  -0.61086989]]\n",
      "[0.02713751]\n"
     ]
    }
   ],
   "source": [
    "# 로지스틱 회귀분석 모형(L2 제약식 적용) 추정 계수\n",
    "print(clf_logi_l2.coef_) # 추정 계수\n",
    "print(clf_logi_l2.intercept_) # 상수항"
   ]
  },
  {
   "cell_type": "code",
   "execution_count": 20,
   "id": "ff3f1ceb-22b7-4d96-98a8-a1b7fb91f0b8",
   "metadata": {},
   "outputs": [
    {
     "name": "stdout",
     "output_type": "stream",
     "text": [
      "[0 1 1 1 1 1 1 1 1 1 1 1 1 0 1 0 1 0 0 0 0 0 1 1 0 1 1 0 1 0 1 0 1 0 1 0 1\n",
      " 0 1 0 0 1 0 1 1 0 1 1 1 0 0 0 0 1 1 1 1 1 1 0 0 0 1 1 0 1 0 0 0 1 1 0 1 0\n",
      " 0 1 1 1 1 1 0 0 0 1 0 1 1 1 0 0 1 0 0 0 1 1 0 1 1 1 1 1 1 1 0 1 0 1 1 1 1\n",
      " 0 0 1 1 1 1 1 1 1 1 1 1 1 0 1 1 1 1 1 0 1 1 1 1 1 0 0 0 1 1 1 0]\n"
     ]
    }
   ],
   "source": [
    "# 예측\n",
    "pred_logistic = clf_logi_l2.predict(X_te_std)\n",
    "print(pred_logistic)"
   ]
  },
  {
   "cell_type": "code",
   "execution_count": 21,
   "id": "bfd4563c-9b83-482c-9210-124b21a8e62a",
   "metadata": {},
   "outputs": [
    {
     "name": "stdout",
     "output_type": "stream",
     "text": [
      "[[9.98638613e-01 1.36138656e-03]\n",
      " [3.95544804e-02 9.60445520e-01]\n",
      " [1.30896362e-03 9.98691036e-01]\n",
      " [1.24473354e-02 9.87552665e-01]\n",
      " [2.44132101e-04 9.99755868e-01]\n",
      " [4.50491513e-03 9.95495085e-01]\n",
      " [1.13985968e-04 9.99886014e-01]\n",
      " [1.82475894e-03 9.98175241e-01]\n",
      " [9.67965506e-05 9.99903203e-01]\n",
      " [1.75222878e-06 9.99998248e-01]\n",
      " [1.76572612e-01 8.23427388e-01]\n",
      " [8.24119135e-02 9.17588087e-01]\n",
      " [9.66067493e-06 9.99990339e-01]\n",
      " [5.39343196e-01 4.60656804e-01]\n",
      " [3.98187854e-01 6.01812146e-01]\n",
      " [9.95762760e-01 4.23724017e-03]\n",
      " [2.75612083e-03 9.97243879e-01]\n",
      " [9.99997097e-01 2.90271401e-06]\n",
      " [9.99926506e-01 7.34935682e-05]\n",
      " [9.99999997e-01 2.78313939e-09]\n",
      " [9.98738365e-01 1.26163489e-03]\n",
      " [9.81405399e-01 1.85946008e-02]\n",
      " [1.77902039e-02 9.82209796e-01]\n",
      " [9.65876713e-04 9.99034123e-01]\n",
      " [9.99464578e-01 5.35421808e-04]\n",
      " [6.73385015e-04 9.99326615e-01]\n",
      " [5.50833875e-05 9.99944917e-01]\n",
      " [9.69828919e-01 3.01710813e-02]\n",
      " [1.62119075e-03 9.98378809e-01]\n",
      " [9.99997821e-01 2.17867101e-06]\n",
      " [6.00571253e-05 9.99939943e-01]\n",
      " [9.99954808e-01 4.51921300e-05]\n",
      " [1.09252006e-01 8.90747994e-01]\n",
      " [9.97255978e-01 2.74402243e-03]\n",
      " [4.51047979e-06 9.99995490e-01]\n",
      " [9.97449456e-01 2.55054412e-03]\n",
      " [1.97830173e-02 9.80216983e-01]\n",
      " [9.99571529e-01 4.28470822e-04]\n",
      " [8.45566258e-03 9.91544337e-01]\n",
      " [9.99487912e-01 5.12087502e-04]\n",
      " [9.42409583e-01 5.75904174e-02]\n",
      " [8.34700429e-05 9.99916530e-01]\n",
      " [9.32505814e-01 6.74941855e-02]\n",
      " [8.11944408e-05 9.99918806e-01]\n",
      " [6.08911689e-02 9.39108831e-01]\n",
      " [9.99999999e-01 1.17373572e-09]\n",
      " [1.00967748e-06 9.99998990e-01]\n",
      " [1.48182234e-02 9.85181777e-01]\n",
      " [6.33630458e-04 9.99366370e-01]\n",
      " [9.99927519e-01 7.24813084e-05]\n",
      " [9.99989528e-01 1.04724511e-05]\n",
      " [8.04262948e-01 1.95737052e-01]\n",
      " [9.99965014e-01 3.49860375e-05]\n",
      " [1.36691079e-03 9.98633089e-01]\n",
      " [1.95330244e-03 9.98046698e-01]\n",
      " [5.74609838e-04 9.99425390e-01]\n",
      " [1.05063052e-03 9.98949369e-01]\n",
      " [7.96089471e-03 9.92039105e-01]\n",
      " [1.00288029e-02 9.89971197e-01]\n",
      " [9.99999999e-01 1.44073341e-09]\n",
      " [9.97609027e-01 2.39097260e-03]\n",
      " [9.99257870e-01 7.42129950e-04]\n",
      " [3.14309030e-05 9.99968569e-01]\n",
      " [4.40044150e-03 9.95599559e-01]\n",
      " [9.99897373e-01 1.02627439e-04]\n",
      " [1.52976144e-01 8.47023856e-01]\n",
      " [1.00000000e+00 2.39185116e-13]\n",
      " [9.99998777e-01 1.22317020e-06]\n",
      " [9.99999046e-01 9.53579837e-07]\n",
      " [7.96239235e-04 9.99203761e-01]\n",
      " [3.87033734e-01 6.12966266e-01]\n",
      " [9.99993469e-01 6.53125942e-06]\n",
      " [2.97085842e-03 9.97029142e-01]\n",
      " [8.09412134e-01 1.90587866e-01]\n",
      " [9.99996998e-01 3.00240009e-06]\n",
      " [1.75950117e-02 9.82404988e-01]\n",
      " [4.94325863e-05 9.99950567e-01]\n",
      " [3.51047770e-02 9.64895223e-01]\n",
      " [4.25841119e-04 9.99574159e-01]\n",
      " [2.09232609e-05 9.99979077e-01]\n",
      " [9.82374564e-01 1.76254356e-02]\n",
      " [1.00000000e+00 3.57855006e-10]\n",
      " [9.99988747e-01 1.12526453e-05]\n",
      " [5.94724730e-05 9.99940528e-01]\n",
      " [9.62731634e-01 3.72683662e-02]\n",
      " [1.69452548e-03 9.98305475e-01]\n",
      " [6.14966533e-05 9.99938503e-01]\n",
      " [6.36886875e-06 9.99993631e-01]\n",
      " [9.99902779e-01 9.72205364e-05]\n",
      " [1.00000000e+00 8.14423797e-11]\n",
      " [3.47458432e-05 9.99965254e-01]\n",
      " [5.53589378e-01 4.46410622e-01]\n",
      " [6.91462937e-01 3.08537063e-01]\n",
      " [9.99996851e-01 3.14924112e-06]\n",
      " [2.01951834e-03 9.97980482e-01]\n",
      " [2.39759190e-03 9.97602408e-01]\n",
      " [9.99999992e-01 7.92006333e-09]\n",
      " [1.03400237e-02 9.89659976e-01]\n",
      " [9.23218910e-03 9.90767811e-01]\n",
      " [9.80048490e-04 9.99019952e-01]\n",
      " [5.45753731e-09 9.99999995e-01]\n",
      " [3.09034901e-03 9.96909651e-01]\n",
      " [6.22819445e-03 9.93771806e-01]\n",
      " [1.49494565e-01 8.50505435e-01]\n",
      " [9.99994787e-01 5.21292981e-06]\n",
      " [6.02188244e-04 9.99397812e-01]\n",
      " [9.99995658e-01 4.34219020e-06]\n",
      " [9.49795077e-02 9.05020492e-01]\n",
      " [3.27428663e-01 6.72571337e-01]\n",
      " [1.72350019e-02 9.82764998e-01]\n",
      " [3.75686888e-02 9.62431311e-01]\n",
      " [9.99975711e-01 2.42887910e-05]\n",
      " [9.99911399e-01 8.86014791e-05]\n",
      " [8.65663331e-02 9.13433667e-01]\n",
      " [8.21398481e-04 9.99178602e-01]\n",
      " [2.45946373e-02 9.75405363e-01]\n",
      " [1.43898490e-01 8.56101510e-01]\n",
      " [1.58128486e-03 9.98418715e-01]\n",
      " [1.79682971e-02 9.82031703e-01]\n",
      " [1.18803803e-03 9.98811962e-01]\n",
      " [1.55728346e-02 9.84427165e-01]\n",
      " [1.43822197e-03 9.98561778e-01]\n",
      " [3.86829219e-01 6.13170781e-01]\n",
      " [2.65232841e-02 9.73476716e-01]\n",
      " [9.99999918e-01 8.17382381e-08]\n",
      " [1.28424726e-01 8.71575274e-01]\n",
      " [4.67709202e-01 5.32290798e-01]\n",
      " [2.58725940e-04 9.99741274e-01]\n",
      " [3.25269018e-05 9.99967473e-01]\n",
      " [4.00075207e-05 9.99959992e-01]\n",
      " [9.99901036e-01 9.89636008e-05]\n",
      " [1.27248974e-04 9.99872751e-01]\n",
      " [2.66411581e-04 9.99733588e-01]\n",
      " [2.13163719e-01 7.86836281e-01]\n",
      " [2.92511631e-02 9.70748837e-01]\n",
      " [2.37309476e-05 9.99976269e-01]\n",
      " [5.09465728e-01 4.90534272e-01]\n",
      " [6.17881971e-01 3.82118029e-01]\n",
      " [1.00000000e+00 1.46648090e-12]\n",
      " [8.41453252e-05 9.99915855e-01]\n",
      " [1.58701592e-03 9.98412984e-01]\n",
      " [1.26424968e-03 9.98735750e-01]\n",
      " [9.99999994e-01 5.81805301e-09]]\n"
     ]
    }
   ],
   "source": [
    "# 확률값으로 예측\n",
    "pred_proba = clf_logi_l2.predict_proba(X_te_std)\n",
    "print(pred_proba)"
   ]
  },
  {
   "cell_type": "code",
   "execution_count": 22,
   "id": "46bea1ee-b13d-4768-9278-074b488e95b3",
   "metadata": {},
   "outputs": [
    {
     "name": "stdout",
     "output_type": "stream",
     "text": [
      "0.9666666666666667\n"
     ]
    }
   ],
   "source": [
    "# 정밀도\n",
    "from sklearn.metrics import precision_score\n",
    "precision = precision_score(y_te, pred_logistic)\n",
    "print(precision)"
   ]
  },
  {
   "cell_type": "code",
   "execution_count": 23,
   "id": "8c003f51-4305-4269-9daf-164446ec1447",
   "metadata": {},
   "outputs": [
    {
     "name": "stdout",
     "output_type": "stream",
     "text": [
      "[[50  3]\n",
      " [ 3 87]]\n"
     ]
    }
   ],
   "source": [
    "# confusion matrix 확인 \n",
    "from sklearn.metrics import confusion_matrix\n",
    "conf_matrix = confusion_matrix(y_te, pred_logistic)\n",
    "print(conf_matrix)"
   ]
  },
  {
   "cell_type": "code",
   "execution_count": 24,
   "id": "e0a59057-752c-4d3f-8c14-264ac9e73293",
   "metadata": {},
   "outputs": [
    {
     "name": "stdout",
     "output_type": "stream",
     "text": [
      "              precision    recall  f1-score   support\n",
      "\n",
      "           0       0.94      0.94      0.94        53\n",
      "           1       0.97      0.97      0.97        90\n",
      "\n",
      "    accuracy                           0.96       143\n",
      "   macro avg       0.96      0.96      0.96       143\n",
      "weighted avg       0.96      0.96      0.96       143\n",
      "\n"
     ]
    }
   ],
   "source": [
    "# 분류 레포트 확인\n",
    "from sklearn.metrics import classification_report\n",
    "class_report = classification_report(y_te, pred_logistic)\n",
    "print(class_report)"
   ]
  },
  {
   "cell_type": "markdown",
   "id": "3386fa6b-c8a7-44cf-bb09-71324d68f79c",
   "metadata": {},
   "source": [
    "# 나이브 베이즈(추후 다시)"
   ]
  },
  {
   "cell_type": "markdown",
   "id": "a0aacd8a-1c64-4a30-8e7a-1b7686e9bbdb",
   "metadata": {},
   "source": [
    "```python\n",
    "from sklearn import datasets\n",
    "from sklearn.preprocessing import StandardScaler\n",
    "from sklearn.model_selection import train_test_split\n",
    "\n",
    "from sklearn.naive_bayes import GaussianNB\n",
    "\n",
    "from sklearn.metrics import recall_score\n",
    "from sklearn.metrics import confusion_matrix\n",
    "from sklearn.metrics import classification_report\n",
    "\n",
    "\n",
    "# 데이터 불러오기\n",
    "raw_wine = datasets.load_wine()\n",
    "\n",
    "# 피쳐, 타겟 데이터 지정\n",
    "X = raw_wine.data\n",
    "y = raw_wine.target\n",
    "\n",
    "# 트레이닝/테스트 데이터 분할\n",
    "X_tn, X_te, y_tn, y_te=train_test_split(X,y,random_state=0)\n",
    "\n",
    "# 데이터 표준화\n",
    "std_scale = StandardScaler()\n",
    "std_scale.fit(X_tn)\n",
    "X_tn_std = std_scale.transform(X_tn)\n",
    "X_te_std  = std_scale.transform(X_te)\n",
    "\n",
    "# 나이브 베이즈 학습\n",
    "clf_gnb = GaussianNB()\n",
    "clf_gnb.fit(X_tn_std, y_tn)\n",
    "\n",
    "# 예측\n",
    "pred_gnb = clf_gnb.predict(X_te_std)\n",
    "print(pred_gnb)\n",
    "\n",
    "# 리콜\n",
    "recall = recall_score(y_te, pred_gnb, average='macro')\n",
    "print(recall)\n",
    "\n",
    "# confusion matrix 확인 \n",
    "conf_matrix = confusion_matrix(y_te, pred_gnb)\n",
    "print(conf_matrix)\n",
    "\n",
    "# 분류 레포트 확인\n",
    "class_report = classification_report(y_te, pred_gnb)\n",
    "print(class_report)\n",
    "```"
   ]
  },
  {
   "cell_type": "markdown",
   "id": "931c43ac-0751-49f4-a108-bde3300bc4c0",
   "metadata": {},
   "source": [
    "# 의사결정나무(추후 다시)"
   ]
  },
  {
   "cell_type": "markdown",
   "id": "57e77620-c1f2-4405-a3fa-d6da04c80b3a",
   "metadata": {},
   "source": [
    "- 테스트 성능 평가는 엔트로피 이용\n",
    "\n",
    "- 엔트로피는 불순도(노드에 서로 다른 데이터가 얼마나 섞여 있는지) 정도를 측정하며 낮을수록 좋다. \n",
    "\n",
    "$$Entropy(d) = - \\sum p(x) log P(x)$$ \n",
    "\n",
    "$$= - \\sum_{i=1}^k p(i|d)log_2(p(i|d))$$"
   ]
  },
  {
   "cell_type": "code",
   "execution_count": 25,
   "id": "14770673-19a1-460c-a4b2-b104b5cd60a0",
   "metadata": {},
   "outputs": [
    {
     "data": {
      "text/html": [
       "<style>#sk-container-id-3 {color: black;background-color: white;}#sk-container-id-3 pre{padding: 0;}#sk-container-id-3 div.sk-toggleable {background-color: white;}#sk-container-id-3 label.sk-toggleable__label {cursor: pointer;display: block;width: 100%;margin-bottom: 0;padding: 0.3em;box-sizing: border-box;text-align: center;}#sk-container-id-3 label.sk-toggleable__label-arrow:before {content: \"▸\";float: left;margin-right: 0.25em;color: #696969;}#sk-container-id-3 label.sk-toggleable__label-arrow:hover:before {color: black;}#sk-container-id-3 div.sk-estimator:hover label.sk-toggleable__label-arrow:before {color: black;}#sk-container-id-3 div.sk-toggleable__content {max-height: 0;max-width: 0;overflow: hidden;text-align: left;background-color: #f0f8ff;}#sk-container-id-3 div.sk-toggleable__content pre {margin: 0.2em;color: black;border-radius: 0.25em;background-color: #f0f8ff;}#sk-container-id-3 input.sk-toggleable__control:checked~div.sk-toggleable__content {max-height: 200px;max-width: 100%;overflow: auto;}#sk-container-id-3 input.sk-toggleable__control:checked~label.sk-toggleable__label-arrow:before {content: \"▾\";}#sk-container-id-3 div.sk-estimator input.sk-toggleable__control:checked~label.sk-toggleable__label {background-color: #d4ebff;}#sk-container-id-3 div.sk-label input.sk-toggleable__control:checked~label.sk-toggleable__label {background-color: #d4ebff;}#sk-container-id-3 input.sk-hidden--visually {border: 0;clip: rect(1px 1px 1px 1px);clip: rect(1px, 1px, 1px, 1px);height: 1px;margin: -1px;overflow: hidden;padding: 0;position: absolute;width: 1px;}#sk-container-id-3 div.sk-estimator {font-family: monospace;background-color: #f0f8ff;border: 1px dotted black;border-radius: 0.25em;box-sizing: border-box;margin-bottom: 0.5em;}#sk-container-id-3 div.sk-estimator:hover {background-color: #d4ebff;}#sk-container-id-3 div.sk-parallel-item::after {content: \"\";width: 100%;border-bottom: 1px solid gray;flex-grow: 1;}#sk-container-id-3 div.sk-label:hover label.sk-toggleable__label {background-color: #d4ebff;}#sk-container-id-3 div.sk-serial::before {content: \"\";position: absolute;border-left: 1px solid gray;box-sizing: border-box;top: 0;bottom: 0;left: 50%;z-index: 0;}#sk-container-id-3 div.sk-serial {display: flex;flex-direction: column;align-items: center;background-color: white;padding-right: 0.2em;padding-left: 0.2em;position: relative;}#sk-container-id-3 div.sk-item {position: relative;z-index: 1;}#sk-container-id-3 div.sk-parallel {display: flex;align-items: stretch;justify-content: center;background-color: white;position: relative;}#sk-container-id-3 div.sk-item::before, #sk-container-id-3 div.sk-parallel-item::before {content: \"\";position: absolute;border-left: 1px solid gray;box-sizing: border-box;top: 0;bottom: 0;left: 50%;z-index: -1;}#sk-container-id-3 div.sk-parallel-item {display: flex;flex-direction: column;z-index: 1;position: relative;background-color: white;}#sk-container-id-3 div.sk-parallel-item:first-child::after {align-self: flex-end;width: 50%;}#sk-container-id-3 div.sk-parallel-item:last-child::after {align-self: flex-start;width: 50%;}#sk-container-id-3 div.sk-parallel-item:only-child::after {width: 0;}#sk-container-id-3 div.sk-dashed-wrapped {border: 1px dashed gray;margin: 0 0.4em 0.5em 0.4em;box-sizing: border-box;padding-bottom: 0.4em;background-color: white;}#sk-container-id-3 div.sk-label label {font-family: monospace;font-weight: bold;display: inline-block;line-height: 1.2em;}#sk-container-id-3 div.sk-label-container {text-align: center;}#sk-container-id-3 div.sk-container {/* jupyter's `normalize.less` sets `[hidden] { display: none; }` but bootstrap.min.css set `[hidden] { display: none !important; }` so we also need the `!important` here to be able to override the default hidden behavior on the sphinx rendered scikit-learn.org. See: https://github.com/scikit-learn/scikit-learn/issues/21755 */display: inline-block !important;position: relative;}#sk-container-id-3 div.sk-text-repr-fallback {display: none;}</style><div id=\"sk-container-id-3\" class=\"sk-top-container\"><div class=\"sk-text-repr-fallback\"><pre>DecisionTreeClassifier(random_state=0)</pre><b>In a Jupyter environment, please rerun this cell to show the HTML representation or trust the notebook. <br />On GitHub, the HTML representation is unable to render, please try loading this page with nbviewer.org.</b></div><div class=\"sk-container\" hidden><div class=\"sk-item\"><div class=\"sk-estimator sk-toggleable\"><input class=\"sk-toggleable__control sk-hidden--visually\" id=\"sk-estimator-id-3\" type=\"checkbox\" checked><label for=\"sk-estimator-id-3\" class=\"sk-toggleable__label sk-toggleable__label-arrow\">DecisionTreeClassifier</label><div class=\"sk-toggleable__content\"><pre>DecisionTreeClassifier(random_state=0)</pre></div></div></div></div></div>"
      ],
      "text/plain": [
       "DecisionTreeClassifier(random_state=0)"
      ]
     },
     "execution_count": 25,
     "metadata": {},
     "output_type": "execute_result"
    }
   ],
   "source": [
    "# 데이터 불러오기\n",
    "from sklearn import datasets\n",
    "raw_wine = datasets.load_wine()\n",
    "\n",
    "# 피쳐, 타겟 데이터 지정\n",
    "X = raw_wine.data\n",
    "y = raw_wine.target\n",
    "\n",
    "# 트레이닝/테스트 데이터 분할\n",
    "from sklearn.model_selection import train_test_split\n",
    "X_tn, X_te, y_tn, y_te=train_test_split(X,y,random_state=0)\n",
    "\n",
    "# 데이터 표준화\n",
    "from sklearn.preprocessing import StandardScaler\n",
    "std_scale = StandardScaler()\n",
    "std_scale.fit(X_tn)\n",
    "X_tn_std = std_scale.transform(X_tn)\n",
    "X_te_std  = std_scale.transform(X_te)\n",
    "\n",
    "\n",
    "# 의사결정나무 학습\n",
    "from sklearn import tree \n",
    "clf_tree = tree.DecisionTreeClassifier(random_state=0)\n",
    "clf_tree.fit(X_tn_std, y_tn)\n",
    "\n"
   ]
  },
  {
   "cell_type": "code",
   "execution_count": 26,
   "id": "143626b6-a509-45bd-90a6-d8c854dd442d",
   "metadata": {},
   "outputs": [
    {
     "name": "stdout",
     "output_type": "stream",
     "text": [
      "[0 2 1 0 1 1 0 2 1 1 2 2 0 1 2 1 0 0 2 0 1 0 1 1 1 1 1 1 1 2 0 0 1 0 0 0 2\n",
      " 1 1 2 1 0 1 1 1]\n"
     ]
    }
   ],
   "source": [
    "# 예측\n",
    "pred_tree = clf_tree.predict(X_te_std)\n",
    "print(pred_tree)\n",
    "\n"
   ]
  },
  {
   "cell_type": "code",
   "execution_count": 27,
   "id": "b291c232-6cd7-402e-b8b4-7660454408fb",
   "metadata": {},
   "outputs": [
    {
     "name": "stdout",
     "output_type": "stream",
     "text": [
      "0.9349141206870346\n"
     ]
    }
   ],
   "source": [
    "# f1 score\n",
    "from sklearn.metrics import f1_score\n",
    "f1 = f1_score(y_te, pred_tree, average='macro')\n",
    "print(f1)"
   ]
  },
  {
   "cell_type": "code",
   "execution_count": 28,
   "id": "12c43e9a-7150-4080-a23a-5211d3c95496",
   "metadata": {},
   "outputs": [
    {
     "name": "stdout",
     "output_type": "stream",
     "text": [
      "[[14  2  0]\n",
      " [ 0 20  1]\n",
      " [ 0  0  8]]\n"
     ]
    }
   ],
   "source": [
    "# confusion matrix 확인 \n",
    "from sklearn.metrics import confusion_matrix\n",
    "conf_matrix = confusion_matrix(y_te, pred_tree)\n",
    "print(conf_matrix)"
   ]
  },
  {
   "cell_type": "code",
   "execution_count": 29,
   "id": "328de547-86f4-43c3-9d12-a04d06005fa9",
   "metadata": {},
   "outputs": [
    {
     "name": "stdout",
     "output_type": "stream",
     "text": [
      "              precision    recall  f1-score   support\n",
      "\n",
      "           0       1.00      0.88      0.93        16\n",
      "           1       0.91      0.95      0.93        21\n",
      "           2       0.89      1.00      0.94         8\n",
      "\n",
      "    accuracy                           0.93        45\n",
      "   macro avg       0.93      0.94      0.93        45\n",
      "weighted avg       0.94      0.93      0.93        45\n",
      "\n"
     ]
    }
   ],
   "source": [
    "# 분류 레포트 확인\n",
    "from sklearn.metrics import classification_report\n",
    "class_report = classification_report(y_te, pred_tree)\n",
    "print(class_report)"
   ]
  },
  {
   "cell_type": "markdown",
   "id": "a9faf9ab-ba1c-4b03-a4bc-7fd89de46d0b",
   "metadata": {},
   "source": [
    "# 서포트 벡터 머신(추후 다시)"
   ]
  },
  {
   "cell_type": "markdown",
   "id": "65e62fb5-58a1-44ee-8df0-1b34d324d2ea",
   "metadata": {},
   "source": [
    "# 크로스 밸리데이션(추후 다시)"
   ]
  },
  {
   "cell_type": "code",
   "execution_count": null,
   "id": "89aa3ad1-1859-4aa1-8ad2-385497b43b27",
   "metadata": {},
   "outputs": [],
   "source": []
  }
 ],
 "metadata": {
  "kernelspec": {
   "display_name": "Python 3 (ipykernel)",
   "language": "python",
   "name": "python3"
  },
  "language_info": {
   "codemirror_mode": {
    "name": "ipython",
    "version": 3
   },
   "file_extension": ".py",
   "mimetype": "text/x-python",
   "name": "python",
   "nbconvert_exporter": "python",
   "pygments_lexer": "ipython3",
   "version": "3.8.16"
  }
 },
 "nbformat": 4,
 "nbformat_minor": 5
}
