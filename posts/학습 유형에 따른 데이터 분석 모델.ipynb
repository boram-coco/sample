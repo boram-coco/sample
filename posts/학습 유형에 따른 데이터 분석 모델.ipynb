{
 "cells": [
  {
   "cell_type": "raw",
   "id": "3cae72c5-0b96-4419-b418-21e6986b71f0",
   "metadata": {},
   "source": [
    "---\n",
    "title: \"학습 유형에 따른 데이터 분석 모델(ing)\"\n",
    "author: \"김보람\"\n",
    "date: \"03/14/2023\"\n",
    "categories:\n",
    "  - 학습 유형에 따른 데이터 분석 모델\n",
    "  - 지도 학습\n",
    "  - 비지도 학습\n",
    "  - 준지도 학습\n",
    "  - 강화 학습\n",
    "---"
   ]
  },
  {
   "cell_type": "markdown",
   "id": "6842756a-adc7-4e3b-a534-2c89e49b64c6",
   "metadata": {},
   "source": [
    "# 지도 학습(Supervised Learning)"
   ]
  },
  {
   "cell_type": "markdown",
   "id": "a8e94ef3-614d-4de5-8497-d15cdce66411",
   "metadata": {},
   "source": [
    "- 정답(label)이 있는 데이터로 학습을 시킴"
   ]
  },
  {
   "cell_type": "markdown",
   "id": "46d15df0-7355-4675-ada3-ede206d89b47",
   "metadata": {},
   "source": [
    "## 분류 모델"
   ]
  },
  {
   "cell_type": "markdown",
   "id": "527d195f-0d6f-4673-b1bd-c74ea452f309",
   "metadata": {},
   "source": [
    "## 회귀모델"
   ]
  },
  {
   "cell_type": "markdown",
   "id": "202f2cf1-5f73-4776-9722-16d2955977aa",
   "metadata": {},
   "source": [
    "## SVM"
   ]
  },
  {
   "cell_type": "markdown",
   "id": "f51aca4b-50a5-42bf-9acc-62a4790672e2",
   "metadata": {},
   "source": [
    "- Margin : 서포트 벡터를 지나는 초평면 사이 거리"
   ]
  },
  {
   "cell_type": "markdown",
   "id": "f6c94479-239c-4ce4-815d-bbf56839fa6b",
   "metadata": {},
   "source": [
    "# 비지도 학습 (Unsupervised Learning)"
   ]
  },
  {
   "cell_type": "markdown",
   "id": "9fa66cc8-d482-40d9-b7b3-caf773d181ce",
   "metadata": {},
   "source": [
    "- 정답이 없는 데이터를 컴퓨터가 스스로 학습하여 숨겨진 의미와 패턴을 찾아내고 구조화함"
   ]
  },
  {
   "cell_type": "markdown",
   "id": "7383dfa8-b94e-4a15-be72-a5b858a26b61",
   "metadata": {},
   "source": [
    "## 군집 분석"
   ]
  },
  {
   "cell_type": "markdown",
   "id": "aff467d7-0449-4658-bb1c-0fb68e19ee8a",
   "metadata": {},
   "source": [
    "ex) 미국 주별 강력 범죄율 군집분석: 가까운 거리에 있는 유사 특징을 가진 도시들을 묶어서 보여줌"
   ]
  },
  {
   "cell_type": "markdown",
   "id": "c3261802-6a59-4987-bba4-a464e36ba36d",
   "metadata": {},
   "source": [
    "- 군집내 유사성, 군집간 상이성"
   ]
  },
  {
   "cell_type": "markdown",
   "id": "84b8f7ca-b3a5-4ea3-b8b0-8327a755ee6e",
   "metadata": {},
   "source": [
    "## 연관성분석"
   ]
  },
  {
   "cell_type": "markdown",
   "id": "0c2d3e25-ace6-4b45-bb5b-703571b02e76",
   "metadata": {},
   "source": [
    "- 유사 개체들을 그룹화하여 각 집단의 특성을 파악하고 사건의 연관규칙을 찾는다."
   ]
  },
  {
   "cell_type": "markdown",
   "id": "db39462c-868c-4e95-885b-0654fcb7ba6a",
   "metadata": {},
   "source": [
    "`-` 지지도\n",
    "`-` 신뢰도\n",
    "`-` 향상도"
   ]
  },
  {
   "cell_type": "markdown",
   "id": "98247db1-b489-4928-bff9-bd48c41c8154",
   "metadata": {},
   "source": [
    "## 인공신경망"
   ]
  },
  {
   "cell_type": "markdown",
   "id": "da73934d-4fe9-4666-9403-54ea4c5f0ff2",
   "metadata": {},
   "source": [
    "## 오토인코더"
   ]
  },
  {
   "cell_type": "markdown",
   "id": "d6742b22-bb6b-43f8-a221-65a776df366f",
   "metadata": {},
   "source": [
    "- 다차원데이터를 저차원, 고차원 데이터로 바꾸면서 특징을 찾는다.\n",
    "- 다차원 데이터를 입력하면 encoder 통해 차원을 줄이는 은닉충으로 이동하고 decoder 통해 차원을 늘리는 출력층으로 내보낸 뒤 출력값을 입력값과 비슷하게 만드는 가중치를 찾는다.\n",
    "- 데이터를 압축하고 배경의 잡음을 억제"
   ]
  },
  {
   "cell_type": "markdown",
   "id": "7edf1e9f-7515-4d1c-84a3-bae84fef4559",
   "metadata": {},
   "source": [
    "# 준지도 학습 (Semi-supervised Learning)"
   ]
  },
  {
   "cell_type": "markdown",
   "id": "7d469c4e-766f-4d50-b059-5a7d45680638",
   "metadata": {},
   "source": [
    "- 정답이 있고 없는 데이터를 동시에 학습 시킴"
   ]
  },
  {
   "cell_type": "markdown",
   "id": "521f1032-797b-4e19-9879-aa76329ad6fc",
   "metadata": {},
   "source": [
    "## GAN"
   ]
  },
  {
   "cell_type": "markdown",
   "id": "f20526f4-e947-4cc3-81a3-e8f077551790",
   "metadata": {},
   "source": [
    "- 학습 데이터 패턴과 유사한 것을 만드는 생성자(generator) 네트워크와 패턴 진위 여부를 판별하는 판별자(discriminator) 네트워크로 구성\n",
    "- 기계학습에서 교수님이 설명해주신 내용중에.. 그 경찰이랑 범죄자 관련 내용 참고하자"
   ]
  },
  {
   "cell_type": "markdown",
   "id": "21b069e4-47b4-45bb-a469-104ab6f994e3",
   "metadata": {},
   "source": [
    "# 강화 학습 (Reinforcement Learning)"
   ]
  },
  {
   "cell_type": "markdown",
   "id": "ab36d09f-5eb9-4ea2-9f5b-bfc4f6a2a7b9",
   "metadata": {},
   "source": [
    "- 주어진 환경에서 보상을 최대화하여 에이전트를 학습시킴"
   ]
  },
  {
   "cell_type": "markdown",
   "id": "214bf659-6c83-46b4-96c3-231fed7e4d7d",
   "metadata": {},
   "source": [
    "## Q-learning"
   ]
  },
  {
   "cell_type": "markdown",
   "id": "bd17bf6f-14c7-4ae4-830a-c1c2c2e78735",
   "metadata": {},
   "source": [
    "## 정책경사 (PG:Policy Gradinet)"
   ]
  },
  {
   "cell_type": "code",
   "execution_count": null,
   "id": "768d5fd7-2ebe-49fa-ad9d-b3894432a035",
   "metadata": {},
   "outputs": [],
   "source": []
  }
 ],
 "metadata": {
  "kernelspec": {
   "display_name": "Python 3",
   "language": "python",
   "name": "python3"
  },
  "language_info": {
   "codemirror_mode": {
    "name": "ipython",
    "version": 3
   },
   "file_extension": ".py",
   "mimetype": "text/x-python",
   "name": "python",
   "nbconvert_exporter": "python",
   "pygments_lexer": "ipython3",
   "version": "3.8.16"
  }
 },
 "nbformat": 4,
 "nbformat_minor": 5
}
