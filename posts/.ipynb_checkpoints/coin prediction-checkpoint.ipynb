{
 "cells": [
  {
   "cell_type": "code",
   "execution_count": null,
   "id": "89b00d2f-162b-48ed-99b0-beb2110b7606",
   "metadata": {},
   "outputs": [],
   "source": []
  },
  {
   "cell_type": "raw",
   "id": "02abe546-4348-4a9b-a820-64295bf752e1",
   "metadata": {},
   "source": [
    "---\n",
    "title: \"미래 예측 데이터 분석(비트코인 시세 예측)\"\n",
    "author: \"김보람\"\n",
    "date: \"05/18/2023\"\n",
    "categories:\n",
    "  - 회귀 분석\n",
    "---"
   ]
  },
  {
   "cell_type": "markdown",
   "id": "44af088a-1280-4b9c-a20b-c239a3a9a3ee",
   "metadata": {},
   "source": [
    "# ref"
   ]
  },
  {
   "cell_type": "code",
   "execution_count": null,
   "id": "64c6bd1c-4675-4c0b-a27a-02c4674f0547",
   "metadata": {},
   "outputs": [],
   "source": []
  },
  {
   "cell_type": "markdown",
   "id": "ba796ebb-eb48-4759-8824-018107c17312",
   "metadata": {},
   "source": [
    "[python-data-analysis data](https://github.com/yoonkt200/python-data-analysis/blob/master/data/picher_stats_2017.csv)"
   ]
  },
  {
   "cell_type": "markdown",
   "id": "942e9278-2efb-4777-8d89-e5c046e43c34",
   "metadata": {
    "jp-MarkdownHeadingCollapsed": true,
    "tags": []
   },
   "source": [
    "[Data Source](http://www.statiz.co.kr/)"
   ]
  },
  {
   "cell_type": "markdown",
   "id": "5313f465-0fa2-46bc-8dd1-1f5c873e3780",
   "metadata": {},
   "source": [
    "[이것이 데이터 분석이다 with 파이썬](https://www.aladin.co.kr/shop/wproduct.aspx?ISBN=K032637599&start=pnaver_02)"
   ]
  },
  {
   "cell_type": "code",
   "execution_count": 3,
   "id": "fb444194-415e-4842-9537-8dd102d92581",
   "metadata": {},
   "outputs": [],
   "source": [
    "%matplotlib inline\n",
    "\n",
    "import pandas as pd\n",
    "import numpy as np\n",
    "import matplotlib.pyplot as plt\n",
    "\n",
    "import warnings\n",
    "warnings.filterwarnings(\"ignore\")"
   ]
  },
  {
   "cell_type": "markdown",
   "id": "2604a0f9-5abc-4657-a212-bf5b8d97ea29",
   "metadata": {},
   "source": [
    "# dataset"
   ]
  },
  {
   "cell_type": "code",
   "execution_count": 4,
   "id": "ef2f28c2-0536-4e7d-9921-7063cada8ca2",
   "metadata": {},
   "outputs": [],
   "source": [
    "# Data Source : https://www.blockchain.com/ko/charts/market-price?timespan=60days\n",
    "\n",
    "file_path = 'market-price.csv'\n",
    "bitcoin_df = pd.read_csv(file_path, names = ['day', 'price'])"
   ]
  },
  {
   "cell_type": "code",
   "execution_count": 5,
   "id": "969ad732-ce2a-43fb-98e6-b43facdce53e",
   "metadata": {},
   "outputs": [
    {
     "data": {
      "text/html": [
       "<div>\n",
       "<style scoped>\n",
       "    .dataframe tbody tr th:only-of-type {\n",
       "        vertical-align: middle;\n",
       "    }\n",
       "\n",
       "    .dataframe tbody tr th {\n",
       "        vertical-align: top;\n",
       "    }\n",
       "\n",
       "    .dataframe thead th {\n",
       "        text-align: right;\n",
       "    }\n",
       "</style>\n",
       "<table border=\"1\" class=\"dataframe\">\n",
       "  <thead>\n",
       "    <tr style=\"text-align: right;\">\n",
       "      <th></th>\n",
       "      <th>day</th>\n",
       "      <th>price</th>\n",
       "    </tr>\n",
       "  </thead>\n",
       "  <tbody>\n",
       "    <tr>\n",
       "      <th>0</th>\n",
       "      <td>2017-08-27 00:00:00</td>\n",
       "      <td>4354.308333</td>\n",
       "    </tr>\n",
       "    <tr>\n",
       "      <th>1</th>\n",
       "      <td>2017-08-28 00:00:00</td>\n",
       "      <td>4391.673517</td>\n",
       "    </tr>\n",
       "    <tr>\n",
       "      <th>2</th>\n",
       "      <td>2017-08-29 00:00:00</td>\n",
       "      <td>4607.985450</td>\n",
       "    </tr>\n",
       "    <tr>\n",
       "      <th>3</th>\n",
       "      <td>2017-08-30 00:00:00</td>\n",
       "      <td>4594.987850</td>\n",
       "    </tr>\n",
       "    <tr>\n",
       "      <th>4</th>\n",
       "      <td>2017-08-31 00:00:00</td>\n",
       "      <td>4748.255000</td>\n",
       "    </tr>\n",
       "  </tbody>\n",
       "</table>\n",
       "</div>"
      ],
      "text/plain": [
       "                   day        price\n",
       "0  2017-08-27 00:00:00  4354.308333\n",
       "1  2017-08-28 00:00:00  4391.673517\n",
       "2  2017-08-29 00:00:00  4607.985450\n",
       "3  2017-08-30 00:00:00  4594.987850\n",
       "4  2017-08-31 00:00:00  4748.255000"
      ]
     },
     "execution_count": 5,
     "metadata": {},
     "output_type": "execute_result"
    }
   ],
   "source": [
    "bitcoin_df.head()"
   ]
  },
  {
   "cell_type": "code",
   "execution_count": 6,
   "id": "d90384fb-735f-493d-b2cb-b69fcbd9d29e",
   "metadata": {},
   "outputs": [
    {
     "name": "stdout",
     "output_type": "stream",
     "text": [
      "(365, 2)\n",
      "<class 'pandas.core.frame.DataFrame'>\n",
      "RangeIndex: 365 entries, 0 to 364\n",
      "Data columns (total 2 columns):\n",
      " #   Column  Non-Null Count  Dtype  \n",
      "---  ------  --------------  -----  \n",
      " 0   day     365 non-null    object \n",
      " 1   price   365 non-null    float64\n",
      "dtypes: float64(1), object(1)\n",
      "memory usage: 5.8+ KB\n",
      "None\n"
     ]
    }
   ],
   "source": [
    "print(bitcoin_df.shape)\n",
    "print(bitcoin_df.info())"
   ]
  },
  {
   "cell_type": "code",
   "execution_count": 8,
   "id": "6a7f6d67-8d02-446a-b6be-0a34997b6b29",
   "metadata": {},
   "outputs": [],
   "source": [
    "bitcoin_df['day'] = pd.to_datetime(bitcoin_df['day'])"
   ]
  },
  {
   "cell_type": "markdown",
   "id": "218c962f-1b09-46ea-883e-9191731b91ed",
   "metadata": {},
   "source": [
    "- day 피처를 시계열 피처로 변환"
   ]
  },
  {
   "cell_type": "code",
   "execution_count": 11,
   "id": "b842e797-6970-4a13-a722-446a373796e3",
   "metadata": {},
   "outputs": [],
   "source": [
    "bitcoin_df.index = bitcoin_df['day']\n",
    "bitcoin_df.set_index('day', inplace=True)"
   ]
  },
  {
   "cell_type": "markdown",
   "id": "71aaac50-d10d-4eb8-8e8a-64cbca2f3ae9",
   "metadata": {},
   "source": [
    "- day 데이터 프레임의 index설정"
   ]
  },
  {
   "cell_type": "code",
   "execution_count": 13,
   "id": "eb5e047c-b0d4-4c78-98a0-520127712d25",
   "metadata": {},
   "outputs": [
    {
     "data": {
      "image/png": "[encoded data removed]",
      "text/plain": [
       "<Figure size 640x480 with 1 Axes>"
      ]
     },
     "metadata": {},
     "output_type": "display_data"
    }
   ],
   "source": [
    "bitcoin_df.plot()\n",
    "plt.show()"
   ]
  },
  {
   "cell_type": "markdown",
   "id": "41d79de9-f2df-462a-be08-bf705aecc163",
   "metadata": {},
   "source": [
    "# 예측"
   ]
  },
  {
   "cell_type": "markdown",
   "id": "00655032-754e-4a0c-becb-4db97aa034f4",
   "metadata": {},
   "source": [
    "## ARIMA"
   ]
  },
  {
   "cell_type": "markdown",
   "id": "eafdf49d-4688-4f2c-8a60-85dfa53f9db8",
   "metadata": {},
   "source": [
    "- AR:자기 자신의 과거를 정보로 사용. > 현재의 상태는 이전의 상태를 참고해서 계산\n",
    "\n",
    "- MA: 이전 항에서의 오차를 이용해 현재 항의 상태 추론\n",
    "\n",
    "- ARMA: AR+MA\n",
    "\n",
    "- ARIMA: ARMA모델에 추세 변동 경향성 반영"
   ]
  },
  {
   "cell_type": "markdown",
   "id": "c262a420-1d12-46d2-a316-9d685932771a",
   "metadata": {},
   "source": [
    "`-` 만약 ARIMA클래스 order=(2,1,2)이라면\n",
    "\n",
    "- 첫번째 2: AR이 몇번째 과거까지 바라보는지\n",
    "\n",
    "- 두번째 1: 차분(difference) - 현재 상태의 변수에서 바로 전 상태의 변수를 빼줌(경향성)\n",
    "\n",
    "- 세번째 2: MA가 몇번째 과거까지 바라보는지"
   ]
  },
  {
   "cell_type": "code",
   "execution_count": 22,
   "id": "65fe947e-42e5-4428-ba2d-3d36035aa609",
   "metadata": {},
   "outputs": [],
   "source": [
    "from statsmodels.tsa.arima.model import ARIMA\n",
    "\n",
    "import statsmodels.api as sm"
   ]
  },
  {
   "cell_type": "markdown",
   "id": "10f04e13-f9df-497b-ae93-c7aa2fd1de5f",
   "metadata": {},
   "source": [
    "## 학습"
   ]
  },
  {
   "cell_type": "code",
   "execution_count": 23,
   "id": "171f17fb-8d4d-461c-b30e-6a143376682d",
   "metadata": {},
   "outputs": [
    {
     "name": "stdout",
     "output_type": "stream",
     "text": [
      "                               SARIMAX Results                                \n",
      "==============================================================================\n",
      "Dep. Variable:                      y   No. Observations:                  365\n",
      "Model:                 ARIMA(2, 1, 2)   Log Likelihood               -2787.490\n",
      "Date:                Thu, 18 May 2023   AIC                           5584.980\n",
      "Time:                        14:55:27   BIC                           5604.466\n",
      "Sample:                             0   HQIC                          5592.725\n",
      "                                - 365                                         \n",
      "Covariance Type:                  opg                                         \n",
      "==============================================================================\n",
      "                 coef    std err          z      P>|z|      [0.025      0.975]\n",
      "------------------------------------------------------------------------------\n",
      "ar.L1          0.2418      0.305      0.794      0.427      -0.355       0.839\n",
      "ar.L2          0.6072      0.200      3.038      0.002       0.215       0.999\n",
      "ma.L1         -0.1513      0.306     -0.495      0.621      -0.751       0.448\n",
      "ma.L2         -0.6705      0.205     -3.279      0.001      -1.071      -0.270\n",
      "sigma2      2.624e+05   1.05e+04     24.899      0.000    2.42e+05    2.83e+05\n",
      "===================================================================================\n",
      "Ljung-Box (L1) (Q):                   0.07   Jarque-Bera (JB):               721.96\n",
      "Prob(Q):                              0.79   Prob(JB):                         0.00\n",
      "Heteroskedasticity (H):               0.14   Skew:                             0.01\n",
      "Prob(H) (two-sided):                  0.00   Kurtosis:                         9.90\n",
      "===================================================================================\n",
      "\n",
      "Warnings:\n",
      "[1] Covariance matrix calculated using the outer product of gradients (complex-step).\n"
     ]
    }
   ],
   "source": [
    "\n",
    "model = ARIMA(bitcoin_df.price.values, order=(2, 1, 2))\n",
    "model_fit = model.fit()\n",
    "print(model_fit.summary())\n"
   ]
  },
  {
   "cell_type": "markdown",
   "id": "e4cb2faf-0441-4f70-824e-73c0e6292cea",
   "metadata": {},
   "source": [
    "```python\n",
    "fig = model_fit.plot_predict() # 학습 데이터에 대한 예측 결과입니다. (첫번째 그래프)\n",
    "residuals = pd.DataFrame(model_fit.resid) # 잔차의 변동을 시각화합니다. (두번째 그래프)\n",
    "residuals.plot()\n",
    "```"
   ]
  },
  {
   "cell_type": "markdown",
   "id": "c8a5fc0f-7efa-4f50-b45b-efe68dc90934",
   "metadata": {},
   "source": [
    "```python\n",
    "forecast_data = model_fit.forecast(steps=5) # 학습 데이터셋으로부터 5일 뒤를 예측합니다.\n",
    "\n",
    "# 테스트 데이터셋을 불러옵니다.\n",
    "test_file_path = '../data/market-price-test.csv'\n",
    "bitcoin_test_df = pd.read_csv(test_file_path, names=['ds', 'y'])\n",
    "\n",
    "pred_y = forecast_data[0].tolist() # 마지막 5일의 예측 데이터입니다. (2018-08-27 ~ 2018-08-31)\n",
    "test_y = bitcoin_test_df.y.values # 실제 5일 가격 데이터입니다. (2018-08-27 ~ 2018-08-31)\n",
    "pred_y_lower = [] # 마지막 5일의 예측 데이터의 최소값입니다.\n",
    "pred_y_upper = [] # 마지막 5일의 예측 데이터의 최대값입니다.\n",
    "for lower_upper in forecast_data[2]:\n",
    "    lower = lower_upper[0]\n",
    "    upper = lower_upper[1]\n",
    "    pred_y_lower.append(lower)\n",
    "    pred_y_upper.append(upper)\n",
    "```"
   ]
  },
  {
   "cell_type": "code",
   "execution_count": null,
   "id": "274dc042-5a7d-411d-b959-41c94a58c60e",
   "metadata": {},
   "outputs": [],
   "source": [
    "\n",
    "plt.plot(pred_y, color=\"gold\") # 모델이 예상한 가격 그래프입니다.\n",
    "plt.plot(pred_y_lower, color=\"red\") # 모델이 예상한 최소가격 그래프입니다.\n",
    "plt.plot(pred_y_upper, color=\"blue\") # 모델이 예상한 최대가격 그래프입니다.\n",
    "plt.plot(test_y, color=\"green\") # 실제 가격 그래프입니다."
   ]
  },
  {
   "cell_type": "code",
   "execution_count": null,
   "id": "77f09f15-1d20-4c7c-9e15-921d89f1ddcc",
   "metadata": {},
   "outputs": [],
   "source": [
    "plt.plot(pred_y, color=\"gold\") # 모델이 예상한 가격 그래프입니다.\n",
    "plt.plot(test_y, color=\"green\") # 실제 가격 그래프입니다."
   ]
  },
  {
   "cell_type": "code",
   "execution_count": null,
   "id": "8db8b642-3206-4ad2-9cfa-e1161260ab6d",
   "metadata": {},
   "outputs": [],
   "source": [
    "from sklearn.metrics import mean_squared_error, r2_score\n",
    "from math import sqrt\n",
    "\n",
    "rmse = sqrt(mean_squared_error(pred_y, test_y))\n",
    "print(rmse)"
   ]
  },
  {
   "cell_type": "code",
   "execution_count": null,
   "id": "9ecba8fd-7c15-4e8e-91cc-5f5657a9ae72",
   "metadata": {},
   "outputs": [],
   "source": []
  },
  {
   "cell_type": "markdown",
   "id": "54ffeb30-ddfc-4a1c-b88d-4492af77cf6c",
   "metadata": {},
   "source": [
    "# facebook prophet"
   ]
  },
  {
   "cell_type": "code",
   "execution_count": null,
   "id": "3c5c523d-06ed-4694-a939-2dc1950cf7f9",
   "metadata": {},
   "outputs": [],
   "source": [
    "from fbprophet import Prophet"
   ]
  },
  {
   "cell_type": "code",
   "execution_count": null,
   "id": "5661e833-43fd-4fdf-9e1b-4ac03a1f9635",
   "metadata": {},
   "outputs": [],
   "source": [
    "# prophet을 사용하기 위해서는 다음과 같이 피처의 이름을 변경해야 합니다 : 'ds', 'y'\n",
    "bitcoin_df = pd.read_csv(file_path, names=['ds', 'y'])\n",
    "prophet = Prophet(seasonality_mode='multiplicative', \n",
    "                  yearly_seasonality=True,\n",
    "                  weekly_seasonality=True, daily_seasonality=True,\n",
    "                  changepoint_prior_scale=0.5)\n",
    "prophet.fit(bitcoin_df)"
   ]
  },
  {
   "cell_type": "code",
   "execution_count": null,
   "id": "ab8f1ab8-beec-4889-9f6a-f0f2770823b3",
   "metadata": {},
   "outputs": [],
   "source": [
    "# 5일을 내다보며 예측합니다.\n",
    "future_data = prophet.make_future_dataframe(periods=5, freq='d')\n",
    "forecast_data = prophet.predict(future_data)"
   ]
  },
  {
   "cell_type": "code",
   "execution_count": null,
   "id": "86e88236-9b77-4357-9751-f4d00be12660",
   "metadata": {},
   "outputs": [],
   "source": [
    "forecast_data.tail(5)"
   ]
  },
  {
   "cell_type": "code",
   "execution_count": null,
   "id": "6f23f977-5a7f-47fa-99ca-beacff475323",
   "metadata": {},
   "outputs": [],
   "source": [
    "forecast_data[['ds', 'yhat', 'yhat_lower', 'yhat_upper']].tail(5)"
   ]
  },
  {
   "cell_type": "code",
   "execution_count": null,
   "id": "e13391d6-8bec-4043-aed2-847c7aa9791c",
   "metadata": {},
   "outputs": [],
   "source": [
    "fig1 = prophet.plot(forecast_data)"
   ]
  },
  {
   "cell_type": "code",
   "execution_count": null,
   "id": "686bc1ba-6dc9-48a1-ac0b-a3bb5dea8dd1",
   "metadata": {},
   "outputs": [],
   "source": [
    "fig2 = prophet.plot_components(forecast_data)"
   ]
  },
  {
   "cell_type": "code",
   "execution_count": null,
   "id": "300634f7-7cf8-471a-83e1-fef1dbe22907",
   "metadata": {},
   "outputs": [],
   "source": [
    "y = bitcoin_df.y.values[5:] # 첫 5일을 제외한 실제 가격 데이터입니다.\n",
    "y_pred = forecast_data.yhat.values[5:-5] # 첫 5일, 마지막 5일을 제외한 예측 가격 데이터입니다."
   ]
  },
  {
   "cell_type": "code",
   "execution_count": null,
   "id": "6e1bcd5a-be8f-40ff-ada0-dbcb04c9907c",
   "metadata": {},
   "outputs": [],
   "source": [
    "rmse = sqrt(mean_squared_error(y, y_pred))\n",
    "r2 = r2_score(y, y_pred)\n",
    "print(rmse)\n",
    "print(r2)"
   ]
  },
  {
   "cell_type": "code",
   "execution_count": null,
   "id": "0c8e0e51-f04e-43fe-9dab-626b8eefc15d",
   "metadata": {},
   "outputs": [],
   "source": [
    "bitcoin_test_df = pd.read_csv(test_file_path, names=['ds', 'y'])\n",
    "\n",
    "pred_y = forecast_data.yhat.values[-5:] # 마지막 5일의 예측 데이터입니다. (2018-08-27 ~ 2018-08-31)\n",
    "test_y = bitcoin_test_df.y.values # 실제 5일 가격 데이터입니다. (2018-08-27 ~ 2018-08-31)\n",
    "pred_y_lower = forecast_data.yhat_lower.values[-5:] # 마지막 5일의 예측 데이터의 최소값입니다.\n",
    "pred_y_upper = forecast_data.yhat_upper.values[-5:] # 마지막 5일의 예측 데이터의 최대값입니다."
   ]
  },
  {
   "cell_type": "code",
   "execution_count": null,
   "id": "bf0149d8-8130-4db2-8bbb-6ef0c31b739a",
   "metadata": {},
   "outputs": [],
   "source": [
    "plt.plot(pred_y, color=\"gold\") # 모델이 예상한 가격 그래프입니다.\n",
    "plt.plot(pred_y_lower, color=\"red\") # 모델이 예상한 최소가격 그래프입니다.\n",
    "plt.plot(pred_y_upper, color=\"blue\") # 모델이 예상한 최대가격 그래프입니다.\n",
    "plt.plot(test_y, color=\"green\") # 실제 가격 그래프입니다."
   ]
  },
  {
   "cell_type": "code",
   "execution_count": null,
   "id": "a0ff4673-e489-4b96-8597-5e3d5cd11ccd",
   "metadata": {},
   "outputs": [],
   "source": [
    "plt.plot(pred_y, color=\"gold\") # 모델이 예상한 가격 그래프입니다.\n",
    "plt.plot(test_y, color=\"green\") # 실제 가격 그래프입니다."
   ]
  },
  {
   "cell_type": "code",
   "execution_count": null,
   "id": "302927a1-1779-4c05-ad53-09c24fe2b7f5",
   "metadata": {},
   "outputs": [],
   "source": [
    "rmse = sqrt(mean_squared_error(pred_y, test_y))\n",
    "print(rmse)"
   ]
  },
  {
   "cell_type": "markdown",
   "id": "49e38d39-bc50-4d77-9358-2c64a8c003df",
   "metadata": {},
   "source": [
    "# 더 나은 방법.."
   ]
  },
  {
   "cell_type": "markdown",
   "id": "2331263b-e24f-44aa-93af-222384408c10",
   "metadata": {},
   "source": [
    "## 상한가 및 하한가 선정"
   ]
  },
  {
   "cell_type": "code",
   "execution_count": null,
   "id": "cea2d841-35d2-4308-907b-5d77d577f042",
   "metadata": {},
   "outputs": [],
   "source": [
    "bitcoin_df = pd.read_csv(file_path, names=['ds', 'y'])\n",
    "\n",
    "# 상한가를 설정합니다.\n",
    "bitcoin_df['cap'] = 20000\n",
    "\n",
    "# 상한가 적용을 위한 파라미터를 다음과 같이 설정합니다.\n",
    "prophet = Prophet(seasonality_mode='multiplicative', \n",
    "                  growth='logistic',\n",
    "                  yearly_seasonality=True,\n",
    "                  weekly_seasonality=True, daily_seasonality=True,\n",
    "                  changepoint_prior_scale=0.5)\n",
    "prophet.fit(bitcoin_df)"
   ]
  },
  {
   "cell_type": "code",
   "execution_count": null,
   "id": "9a4e7944-22ab-4a87-a40a-6bf6b1a11b2c",
   "metadata": {},
   "outputs": [],
   "source": [
    "\n",
    "# 5일을 내다보며 예측합니다.\n",
    "future_data = prophet.make_future_dataframe(periods=5, freq='d')\n",
    "\n",
    "# 상한가를 설정합니다.\n",
    "future_data['cap'] = 20000\n",
    "forecast_data = prophet.predict(future_data)"
   ]
  },
  {
   "cell_type": "code",
   "execution_count": null,
   "id": "cee97e71-9a36-4a42-9c40-099425f60a76",
   "metadata": {},
   "outputs": [],
   "source": [
    "fig = prophet.plot(forecast_data)"
   ]
  },
  {
   "cell_type": "code",
   "execution_count": null,
   "id": "82758fcf-ddb0-44ca-8bb0-6b3c7398a4c6",
   "metadata": {},
   "outputs": [],
   "source": [
    "bitcoin_test_df = pd.read_csv(test_file_path, names=['ds', 'y'])\n",
    "\n",
    "# 모델이 예상한 마지막 5일의 가격 데이터를 가져옵니다.\n",
    "pred_y = forecast_data.yhat.values[-5:]\n",
    "test_y = bitcoin_test_df.y.values\n",
    "pred_y_lower = forecast_data.yhat_lower.values[-5:]\n",
    "pred_y_upper = forecast_data.yhat_upper.values[-5:]"
   ]
  },
  {
   "cell_type": "code",
   "execution_count": null,
   "id": "927dccf1-e2d3-4532-a144-7b663e4c9d83",
   "metadata": {},
   "outputs": [],
   "source": [
    "plt.plot(pred_y, color=\"gold\") # 모델이 예상한 가격 그래프입니다.\n",
    "plt.plot(pred_y_lower, color=\"red\") # 모델이 예상한 최소가격 그래프입니다.\n",
    "plt.plot(pred_y_upper, color=\"blue\") # 모델이 예상한 최대가격 그래프입니다.\n",
    "plt.plot(test_y, color=\"green\") # 실제 가격 그래프입니다."
   ]
  },
  {
   "cell_type": "code",
   "execution_count": null,
   "id": "138cdbd7-0e81-4642-8f50-9e7f6aa162da",
   "metadata": {},
   "outputs": [],
   "source": [
    "plt.plot(pred_y, color=\"gold\") # 모델이 예상한 가격 그래프입니다.\n",
    "plt.plot(test_y, color=\"green\") # 실제 가격 그래프입니다."
   ]
  },
  {
   "cell_type": "code",
   "execution_count": null,
   "id": "f184acbb-035c-4020-ab0a-c6f74239fcf1",
   "metadata": {},
   "outputs": [],
   "source": [
    "rmse = sqrt(mean_squared_error(pred_y, test_y))\n",
    "print(rmse)"
   ]
  },
  {
   "cell_type": "markdown",
   "id": "ec7589c0-89a9-4c9e-af20-1780d461d6d6",
   "metadata": {},
   "source": [
    "## 이상치 제거"
   ]
  },
  {
   "cell_type": "code",
   "execution_count": null,
   "id": "ec79bf4d-ef48-4626-93d6-f63e5850501d",
   "metadata": {},
   "outputs": [],
   "source": [
    "# 18000 이상의 데이터는 이상치라고 판단\n",
    "bitcoin_df = pd.read_csv(file_path, names=['ds', 'y'])\n",
    "bitcoin_df.loc[bitcoin_df['y'] > 18000, 'y'] = None"
   ]
  },
  {
   "cell_type": "code",
   "execution_count": null,
   "id": "030ce185-1f45-4b48-8582-8ca5841a98cc",
   "metadata": {},
   "outputs": [],
   "source": [
    "# prophet 모델을 학습합니다.\n",
    "prophet = Prophet(seasonality_mode='multiplicative',\n",
    "                  yearly_seasonality=True,\n",
    "                  weekly_seasonality=True, daily_seasonality=True,\n",
    "                  changepoint_prior_scale=0.5)\n",
    "prophet.fit(bitcoin_df)\n",
    "\n",
    "# 5일단위의 미래를 예측합니다.\n",
    "future_data = prophet.make_future_dataframe(periods=5, freq='d')\n",
    "forecast_data = prophet.predict(future_data)\n",
    "\n",
    "# 예측 결과를 그래프로 출력합니다.\n",
    "fig = prophet.plot(forecast_data)"
   ]
  },
  {
   "cell_type": "code",
   "execution_count": null,
   "id": "97ad33e5-84bf-4844-b4cc-3edca17342ff",
   "metadata": {},
   "outputs": [],
   "source": [
    "bitcoin_test_df = pd.read_csv(test_file_path, names = ['ds', 'y'])\n",
    "\n",
    "# 모델이 예상한 마지막 5일의 가격 데이터를 가져옵니다.\n",
    "pred_y = forecast_data.yhat.values[-5:]\n",
    "test_y = bitcoin_test_df.y.values\n",
    "pred_y_lower = forecast_data.yhat_lower.values[-5:]\n",
    "pred_y_upper = forecast_data.yhat_upper.values[-5:]"
   ]
  },
  {
   "cell_type": "code",
   "execution_count": null,
   "id": "4babf79f-fa71-413f-a6a8-63dee252a18d",
   "metadata": {},
   "outputs": [],
   "source": [
    "plt.plot(pred_y, color=\"gold\") # 모델이 예상한 가격 그래프입니다.\n",
    "plt.plot(pred_y_lower, color=\"red\") # 모델이 예상한 최소가격 그래프입니다.\n",
    "plt.plot(pred_y_upper, color=\"blue\") # 모델이 예상한 최대가격 그래프입니다.\n",
    "plt.plot(test_y, color=\"green\") # 실제 가격 그래프입니다."
   ]
  },
  {
   "cell_type": "code",
   "execution_count": null,
   "id": "9a58807f-f968-4a98-a11a-80d331c3724f",
   "metadata": {},
   "outputs": [],
   "source": [
    "plt.plot(pred_y, color=\"gold\") # 모델이 예상한 가격 그래프입니다.\n",
    "plt.plot(test_y, color=\"green\") # 실제 가격 그래프입니다."
   ]
  },
  {
   "cell_type": "code",
   "execution_count": null,
   "id": "b8b09305-bcf3-4a6f-a8f7-8f6ef5bc22cc",
   "metadata": {},
   "outputs": [],
   "source": [
    "# 테스트 데이터의 RMSE를 출력합니다.\n",
    "rmse = sqrt(mean_squared_error(pred_y, test_y))\n",
    "print(rmse)"
   ]
  },
  {
   "cell_type": "markdown",
   "id": "20bd28e1-f204-46e8-8d6b-13a31beb8978",
   "metadata": {},
   "source": [
    "## ARIMA 모델의 하이퍼 파라미터 선정하기"
   ]
  },
  {
   "cell_type": "code",
   "execution_count": null,
   "id": "8c9082cf-ff0b-471d-9eff-248c750208d9",
   "metadata": {},
   "outputs": [],
   "source": [
    "bitcoin_df = pd.read_csv(file_path, names = ['day', 'price'])\n",
    "bitcoin_df['day'] = pd.to_datetime(bitcoin_df['day'])\n",
    "bitcoin_df.index = bitcoin_df['day']\n",
    "bitcoin_df.set_index('day', inplace=True)"
   ]
  },
  {
   "cell_type": "code",
   "execution_count": null,
   "id": "f72eddd3-1489-4cf2-8f7b-2970487374d7",
   "metadata": {},
   "outputs": [],
   "source": [
    "from statsmodels.graphics.tsaplots import plot_acf, plot_pacf\n",
    "\n",
    "plot_acf(bitcoin_df.price.values)\n",
    "plot_pacf(bitcoin_df.price.values)\n",
    "plt.show()\n"
   ]
  },
  {
   "cell_type": "code",
   "execution_count": null,
   "id": "bccb60a7-d27e-4daf-ba9d-6ed782b96cc6",
   "metadata": {},
   "outputs": [],
   "source": [
    "model = ARIMA(bitcoin_df.price.values, order=(15,2,0))\n",
    "model_fit = model.fit(trend='c',full_output=True, disp=True)\n",
    "print(model_fit.summary())"
   ]
  },
  {
   "cell_type": "code",
   "execution_count": null,
   "id": "ec421620-a727-4b49-84bb-486c9ef3f021",
   "metadata": {},
   "outputs": [],
   "source": [
    "model = ARIMA(bitcoin_df.price.values, order=(2,1,2))\n",
    "model_fit = model.fit(trend='c',full_output=True, disp=True)\n",
    "print(model_fit.summary())"
   ]
  },
  {
   "cell_type": "markdown",
   "id": "32fadbe8-eafa-47da-9372-96cdee848d1c",
   "metadata": {},
   "source": [
    "# 내일의 비트코인 시세 알아보기"
   ]
  },
  {
   "cell_type": "code",
   "execution_count": null,
   "id": "b34371d6-109e-4440-8bd8-4a65285ec804",
   "metadata": {},
   "outputs": [],
   "source": [
    "# prophet을 사용하기 위해서는 다음과 같이 피처의 이름을 변경해야 합니다 : 'ds', 'y'\n",
    "bitcoin_df = pd.read_csv(file_path, names = ['ds', 'y'])\n",
    "prophet = Prophet(seasonality_mode='multiplicative', \n",
    "                  yearly_seasonality=True,\n",
    "                  weekly_seasonality=True, daily_seasonality=True,\n",
    "                  changepoint_prior_scale=0.5)\n",
    "prophet.fit(bitcoin_df)"
   ]
  },
  {
   "cell_type": "code",
   "execution_count": null,
   "id": "645b8631-3ac8-49e7-9480-39d115cba077",
   "metadata": {},
   "outputs": [],
   "source": [
    "# 5일단위의 미래를 예측합니다.\n",
    "future_data = prophet.make_future_dataframe(periods=5, freq = 'd')\n",
    "forecast_data = prophet.predict(future_data)"
   ]
  },
  {
   "cell_type": "code",
   "execution_count": null,
   "id": "dc34ee8c-e43a-483d-a3a4-bdf8360435af",
   "metadata": {},
   "outputs": [],
   "source": [
    "# 테스트 데이터를 불러옵니다.\n",
    "bitcoin_test_df = pd.read_csv(test_file_path, names = ['ds', 'y'])\n",
    "\n",
    "# 마지막 5일의 데이터를 가져옵니다.\n",
    "pred_y = forecast_data.yhat.values[-5:]\n",
    "test_y = bitcoin_test_df.y.values\n",
    "pred_y_lower = forecast_data.yhat_lower.values[-5:]\n",
    "pred_y_upper = forecast_data.yhat_upper.values[-5:]"
   ]
  },
  {
   "cell_type": "code",
   "execution_count": null,
   "id": "d56fe9e1-343b-4b4a-a801-30ad7bae53d1",
   "metadata": {},
   "outputs": [],
   "source": [
    "plt.plot(pred_y, color=\"red\", ls=\"--\", marker=\"o\", ms=5) # 모델이 예상한 가격 그래프입니다.\n",
    "plt.plot(test_y, color=\"blue\") # 실제 가격 그래프입니다."
   ]
  },
  {
   "cell_type": "code",
   "execution_count": null,
   "id": "b0297caa-9c4b-4df0-a4e8-b02238862329",
   "metadata": {},
   "outputs": [],
   "source": []
  },
  {
   "cell_type": "code",
   "execution_count": null,
   "id": "a785e793-73a9-4e20-b38a-44a567fc226f",
   "metadata": {},
   "outputs": [],
   "source": []
  },
  {
   "cell_type": "code",
   "execution_count": null,
   "id": "f12d935f-d61b-4af1-9050-dc96fc9047a5",
   "metadata": {},
   "outputs": [],
   "source": []
  },
  {
   "cell_type": "code",
   "execution_count": null,
   "id": "b0e90927-8c54-4722-a14d-f1357936a122",
   "metadata": {},
   "outputs": [],
   "source": []
  },
  {
   "cell_type": "code",
   "execution_count": null,
   "id": "f90d63d3-feb8-4867-8f0d-27a4d9d57165",
   "metadata": {},
   "outputs": [],
   "source": []
  },
  {
   "cell_type": "code",
   "execution_count": null,
   "id": "aefdb5a5-9293-47c9-9ea9-fe5c85ac849e",
   "metadata": {},
   "outputs": [],
   "source": []
  }
 ],
 "metadata": {
  "kernelspec": {
   "display_name": "Python 3 (ipykernel)",
   "language": "python",
   "name": "python3"
  },
  "language_info": {
   "codemirror_mode": {
    "name": "ipython",
    "version": 3
   },
   "file_extension": ".py",
   "mimetype": "text/x-python",
   "name": "python",
   "nbconvert_exporter": "python",
   "pygments_lexer": "ipython3",
   "version": "3.8.16"
  }
 },
 "nbformat": 4,
 "nbformat_minor": 5
}
