{
 "cells": [
  {
   "cell_type": "code",
   "execution_count": 1,
   "id": "2dc9b30e-98f7-4677-90bd-c5dbdd162550",
   "metadata": {},
   "outputs": [],
   "source": [
    "import numpy as np\n",
    "import pandas as pd\n",
    "import networkx as nx\n",
    "import sklearn\n",
    "\n",
    "# sklearn\n",
    "from sklearn import model_selection # split함수이용\n",
    "from sklearn import ensemble # RF \n",
    "from sklearn import metrics \n",
    "\n",
    "# embedding \n",
    "from node2vec import Node2Vec\n",
    "from node2vec.edges import HadamardEmbedder, AverageEmbedder, WeightedL1Embedder, WeightedL2Embedder"
   ]
  },
  {
   "cell_type": "code",
   "execution_count": 2,
   "id": "af104716-8c95-48d6-b8ab-e1c6c1b2bea8",
   "metadata": {},
   "outputs": [],
   "source": [
    "def build_graph_bipartite(df_input, graph_type=nx.Graph()):\n",
    "    df=df_input.copy()\n",
    "    mapping={x:node_id for node_id, x in enumerate(set(df[\"cc_num\"].values.tolist()+\\\n",
    "                                                      df[\"merchant\"].values.tolist()))}\n",
    "    \n",
    "    df[\"from\"]=df[\"cc_num\"].apply(lambda x:mapping[x])  #엣지의 출발점\n",
    "    df[\"to\"]=df[\"merchant\"].apply(lambda x:mapping[x])  #엣지의 도착점\n",
    "    \n",
    "    df = df[['from', 'to', \"amt\", \"is_fraud\"]].groupby(['from','to']).agg({\"is_fraud\":\"sum\",\"amt\":\"sum\"}).reset_index()\n",
    "    df[\"is_fraud\"]=df[\"is_fraud\"].apply(lambda x:1 if x>0 else 0)\n",
    "    \n",
    "    G=nx.from_edgelist(df[[\"from\",\"to\"]].values, create_using=graph_type)\n",
    "    \n",
    "    nx.set_edge_attributes(G,{(int(x[\"from\"]),int(x[\"to\"])):x[\"is_fraud\"] for idx, x in df[[\"from\",\"to\",\"is_fraud\"]].iterrows()}, \"label\")  #엣지 속성 설정,각 속성의 사기 여부부     \n",
    "    nx.set_edge_attributes(G,{(int(x[\"from\"]),int(x[\"to\"])):x[\"amt\"] for idx,x in df[[\"from\",\"to\",\"amt\"]].iterrows()}, \"weight\") # 엣지 속성 설정, 각 엣지의 거래 금액\n",
    "\n",
    "    return G\n",
    "\n",
    "def build_graph_tripartite(df_input, graph_type=nx.Graph()):\n",
    "    df=df_input.copy()\n",
    "    mapping={x:node_id for node_id, x in enumerate(set(df.index.values.tolist() + \n",
    "                                                       df[\"cc_num\"].values.tolist() +\n",
    "                                                       df[\"merchant\"].values.tolist()))}\n",
    "    df[\"in_node\"]= df[\"cc_num\"].apply(lambda x: mapping[x])\n",
    "    df[\"out_node\"]=df[\"merchant\"].apply(lambda x:mapping[x])\n",
    "    \n",
    "        \n",
    "    G=nx.from_edgelist([(x[\"in_node\"], mapping[idx]) for idx, x in df.iterrows()] +\\\n",
    "                        [(x[\"out_node\"], mapping[idx]) for idx, x in df.iterrows()], create_using=graph_type)\n",
    "    \n",
    "    nx.set_edge_attributes(G,{(x[\"in_node\"], mapping[idx]):x[\"is_fraud\"] for idx, x in df.iterrows()}, \"label\")     \n",
    "    nx.set_edge_attributes(G,{(x[\"out_node\"], mapping[idx]):x[\"is_fraud\"] for idx, x in df.iterrows()}, \"label\")   \n",
    "    nx.set_edge_attributes(G,{(x[\"in_node\"], mapping[idx]):x[\"amt\"] for idx, x in df.iterrows()}, \"weight\")  \n",
    "    nx.set_edge_attributes(G,{(x[\"out_node\"], mapping[idx]):x[\"amt\"] for idx, x in df.iterrows()}, \"weight\")\n",
    "\n",
    "    return G\n",
    "    \n",
    "    \n",
    "def down_sample_textbook(df):\n",
    "    df_majority = df[df.is_fraud==0]\n",
    "    df_minority = df[df.is_fraud==1]\n",
    "    df_maj_dowsampled = sklearn.utils.resample(df_majority, n_samples=len(df_minority), random_state=42)\n",
    "    df_downsampled = pd.concat([df_minority, df_maj_dowsampled]).reset_index(drop=True)\n",
    "    df_downsampled = df_downsampled.reindex(np.random.permutation(range(df_downsampled.shape[0]))).reset_index(drop=True)\n",
    "    return df_downsampled\n",
    "\n",
    "def embedding(Graph):\n",
    "    # Graph -> X (feature)\n",
    "    _edgs = list(Graph.edges)\n",
    "    subGraph = Graph.edge_subgraph([_edgs[x] for x in range(len(Graph.edges))]).copy()\n",
    "    subGraph.add_nodes_from(list(set(Graph.nodes) - set(subGraph.nodes)))    \n",
    "    embedded = AverageEmbedder(Node2Vec(subGraph, weight_key='weight').fit(window=10).wv)\n",
    "    X = [embedded[str(_edgs[x][0]), str(_edgs[x][1])] for x in range(len(Graph.edges))]\n",
    "    # Graph -> y (label)\n",
    "    y = np.array(list(nx.get_edge_attributes(Graph, \"label\").values()))\n",
    "    return X,y \n",
    "\n",
    "def anal(df):\n",
    "    Graph = build_graph_bipartite(df)\n",
    "    X,XX,y,yy = embedding(Graph)\n",
    "    lrnr = RandomForestClassifier(n_estimators=100, random_state=42) \n",
    "    lrnr.fit(X,y)\n",
    "    yyhat = lrnr.predict(XX)\n",
    "    df = pd.DataFrame({\n",
    "        'acc':[sklearn.metrics.accuracy_score(yy,yyhat)], \n",
    "        'pre':[sklearn.metrics.precision_score(yy,yyhat)], \n",
    "        'rec':[sklearn.metrics.recall_score(yy,yyhat)],\n",
    "        'f1':[sklearn.metrics.f1_score(yy,yyhat)]}\n",
    "    )    \n",
    "    return df\n",
    "\n",
    "def our_sampling1(df):\n",
    "    cus_list = set(df.query('is_fraud==1').cc_num.tolist())\n",
    "    return df.query(\"cc_num in @ cus_list\")"
   ]
  },
  {
   "cell_type": "markdown",
   "id": "7f0752d6-e093-4178-94bd-49a13d9207f8",
   "metadata": {},
   "source": [
    "`-` 원본데이터"
   ]
  },
  {
   "cell_type": "code",
   "execution_count": 15,
   "id": "d79f09c4-33b8-4efa-bb21-8b478dfb048b",
   "metadata": {},
   "outputs": [
    {
     "data": {
      "text/plain": [
       "(1048575, 22)"
      ]
     },
     "execution_count": 15,
     "metadata": {},
     "output_type": "execute_result"
    }
   ],
   "source": [
    "fraudTrain = pd.read_csv(\"~/Desktop/fraudTrain.csv\").iloc[:,1:]\n",
    "fraudTrain.shape"
   ]
  },
  {
   "cell_type": "code",
   "execution_count": 16,
   "id": "5e5229ef-4184-45fa-99c1-06cb26f2ab32",
   "metadata": {},
   "outputs": [
    {
     "data": {
      "text/plain": [
       "0.00573"
      ]
     },
     "execution_count": 16,
     "metadata": {},
     "output_type": "execute_result"
    }
   ],
   "source": [
    "fraudTrain.is_fraud.mean().round(5)"
   ]
  },
  {
   "cell_type": "markdown",
   "id": "d5d78099-f14d-4ad9-aaa2-d34ce56ebcda",
   "metadata": {},
   "source": [
    "- 총 1048575의 데이터 중 사기거래는 0.00573"
   ]
  },
  {
   "cell_type": "markdown",
   "id": "7aee5f9f-1ba0-4ab8-94e9-229d89908544",
   "metadata": {},
   "source": [
    "`-` 정상거래의 20퍼 랜덤샘플링"
   ]
  },
  {
   "cell_type": "code",
   "execution_count": 17,
   "id": "0eb1c6fd-0130-4ebf-a28c-95f997bf3409",
   "metadata": {},
   "outputs": [],
   "source": [
    "_df1 = fraudTrain[fraudTrain[\"is_fraud\"] == 0].sample(frac=0.20, random_state=42)\n",
    "_df2 = fraudTrain[fraudTrain[\"is_fraud\"] == 1]\n",
    "df02 = pd.concat([_df1,_df2])"
   ]
  },
  {
   "cell_type": "code",
   "execution_count": 20,
   "id": "d33f1cbd-929f-42ef-ab63-c0fab5cacee5",
   "metadata": {},
   "outputs": [
    {
     "data": {
      "text/plain": [
       "(214520, 22)"
      ]
     },
     "execution_count": 20,
     "metadata": {},
     "output_type": "execute_result"
    }
   ],
   "source": [
    "df02 = pd.concat([_df1,_df2]).reset_index(drop=True)\n",
    "df02.shape"
   ]
  },
  {
   "cell_type": "code",
   "execution_count": 21,
   "id": "ce16eda2-7e00-4cf2-b9c5-eb9f300361b6",
   "metadata": {},
   "outputs": [
    {
     "data": {
      "text/plain": [
       "0.028"
      ]
     },
     "execution_count": 21,
     "metadata": {},
     "output_type": "execute_result"
    }
   ],
   "source": [
    "df02.is_fraud.mean().round(5)"
   ]
  },
  {
   "cell_type": "markdown",
   "id": "e19ded86-da64-4248-a724-82ce990a095d",
   "metadata": {},
   "source": [
    "- 총 214,502의 데이터 중 사기거래는 0.028에 해당"
   ]
  },
  {
   "cell_type": "markdown",
   "id": "651c5d0b-fc75-4c3e-aab8-3749b69684b1",
   "metadata": {},
   "source": [
    "`-` downsample"
   ]
  },
  {
   "cell_type": "code",
   "execution_count": 22,
   "id": "74c2daae-357a-47bf-8df2-2c369c76cd45",
   "metadata": {},
   "outputs": [
    {
     "data": {
      "text/plain": [
       "(12012, 22)"
      ]
     },
     "execution_count": 22,
     "metadata": {},
     "output_type": "execute_result"
    }
   ],
   "source": [
    "df50 = down_sample_textbook(df02)\n",
    "df50.shape"
   ]
  },
  {
   "cell_type": "code",
   "execution_count": 23,
   "id": "e386601e-df59-4253-acaf-ae9e7e35532f",
   "metadata": {},
   "outputs": [
    {
     "data": {
      "text/plain": [
       "0.5"
      ]
     },
     "execution_count": 23,
     "metadata": {},
     "output_type": "execute_result"
    }
   ],
   "source": [
    "df50.is_fraud.mean().round(5)"
   ]
  },
  {
   "cell_type": "markdown",
   "id": "d0729017-e373-4569-b007-71757a386bc4",
   "metadata": {},
   "source": [
    "- 기존 파일에서 사기거래=1인 데이터의 숫자에 맞춰 downsampling함. \n",
    "\n",
    "- 12,012의 데이터중 0.5가 사기거래 비율"
   ]
  },
  {
   "cell_type": "code",
   "execution_count": 24,
   "id": "28e9f299-008e-43a5-964e-b2141bc9646e",
   "metadata": {},
   "outputs": [],
   "source": [
    "df02_tr,df02_test = sklearn.model_selection.train_test_split(df02)\n",
    "df50_tr,df50_test = sklearn.model_selection.train_test_split(df50)"
   ]
  },
  {
   "cell_type": "code",
   "execution_count": 27,
   "id": "0a5e07db-0b38-4d8a-96d9-e775c93552a2",
   "metadata": {},
   "outputs": [
    {
     "name": "stdout",
     "output_type": "stream",
     "text": [
      "(160890, 22)\n",
      "(53630, 22)\n",
      "(9009, 22)\n",
      "(3003, 22)\n"
     ]
    }
   ],
   "source": [
    "print(df02_tr.shape)\n",
    "print(df02_test.shape)\n",
    "print(df50_tr.shape)\n",
    "print(df50_test.shape)"
   ]
  },
  {
   "cell_type": "markdown",
   "id": "d621f68e-528d-4040-8afd-358ade221b54",
   "metadata": {},
   "source": [
    "0.75/0.25로 나눴다."
   ]
  },
  {
   "cell_type": "markdown",
   "id": "09354670-b3f8-45f3-9a6d-0346b93ddd05",
   "metadata": {},
   "source": [
    "# 분석"
   ]
  },
  {
   "cell_type": "code",
   "execution_count": 41,
   "id": "ec79e240-0a3e-48f8-b473-768d509f2185",
   "metadata": {},
   "outputs": [],
   "source": [
    "X=np.array(df50_tr.amt).reshape(-1,1)\n",
    "XX = np.array(df50_test.amt).reshape(-1,1)\n",
    "y = np.array(df50_tr.is_fraud)\n",
    "yy = np.array(df50_test.is_fraud)"
   ]
  },
  {
   "cell_type": "code",
   "execution_count": 45,
   "id": "c8fae408-e319-456c-9b28-c853ce5606cc",
   "metadata": {},
   "outputs": [],
   "source": [
    "lrnr = sklearn.linear_model.LogisticRegression()"
   ]
  },
  {
   "cell_type": "code",
   "execution_count": 46,
   "id": "0c713819-157a-45f6-a096-9579b752e477",
   "metadata": {},
   "outputs": [
    {
     "data": {
      "text/html": [
       "<style>#sk-container-id-1 {color: black;background-color: white;}#sk-container-id-1 pre{padding: 0;}#sk-container-id-1 div.sk-toggleable {background-color: white;}#sk-container-id-1 label.sk-toggleable__label {cursor: pointer;display: block;width: 100%;margin-bottom: 0;padding: 0.3em;box-sizing: border-box;text-align: center;}#sk-container-id-1 label.sk-toggleable__label-arrow:before {content: \"▸\";float: left;margin-right: 0.25em;color: #696969;}#sk-container-id-1 label.sk-toggleable__label-arrow:hover:before {color: black;}#sk-container-id-1 div.sk-estimator:hover label.sk-toggleable__label-arrow:before {color: black;}#sk-container-id-1 div.sk-toggleable__content {max-height: 0;max-width: 0;overflow: hidden;text-align: left;background-color: #f0f8ff;}#sk-container-id-1 div.sk-toggleable__content pre {margin: 0.2em;color: black;border-radius: 0.25em;background-color: #f0f8ff;}#sk-container-id-1 input.sk-toggleable__control:checked~div.sk-toggleable__content {max-height: 200px;max-width: 100%;overflow: auto;}#sk-container-id-1 input.sk-toggleable__control:checked~label.sk-toggleable__label-arrow:before {content: \"▾\";}#sk-container-id-1 div.sk-estimator input.sk-toggleable__control:checked~label.sk-toggleable__label {background-color: #d4ebff;}#sk-container-id-1 div.sk-label input.sk-toggleable__control:checked~label.sk-toggleable__label {background-color: #d4ebff;}#sk-container-id-1 input.sk-hidden--visually {border: 0;clip: rect(1px 1px 1px 1px);clip: rect(1px, 1px, 1px, 1px);height: 1px;margin: -1px;overflow: hidden;padding: 0;position: absolute;width: 1px;}#sk-container-id-1 div.sk-estimator {font-family: monospace;background-color: #f0f8ff;border: 1px dotted black;border-radius: 0.25em;box-sizing: border-box;margin-bottom: 0.5em;}#sk-container-id-1 div.sk-estimator:hover {background-color: #d4ebff;}#sk-container-id-1 div.sk-parallel-item::after {content: \"\";width: 100%;border-bottom: 1px solid gray;flex-grow: 1;}#sk-container-id-1 div.sk-label:hover label.sk-toggleable__label {background-color: #d4ebff;}#sk-container-id-1 div.sk-serial::before {content: \"\";position: absolute;border-left: 1px solid gray;box-sizing: border-box;top: 0;bottom: 0;left: 50%;z-index: 0;}#sk-container-id-1 div.sk-serial {display: flex;flex-direction: column;align-items: center;background-color: white;padding-right: 0.2em;padding-left: 0.2em;position: relative;}#sk-container-id-1 div.sk-item {position: relative;z-index: 1;}#sk-container-id-1 div.sk-parallel {display: flex;align-items: stretch;justify-content: center;background-color: white;position: relative;}#sk-container-id-1 div.sk-item::before, #sk-container-id-1 div.sk-parallel-item::before {content: \"\";position: absolute;border-left: 1px solid gray;box-sizing: border-box;top: 0;bottom: 0;left: 50%;z-index: -1;}#sk-container-id-1 div.sk-parallel-item {display: flex;flex-direction: column;z-index: 1;position: relative;background-color: white;}#sk-container-id-1 div.sk-parallel-item:first-child::after {align-self: flex-end;width: 50%;}#sk-container-id-1 div.sk-parallel-item:last-child::after {align-self: flex-start;width: 50%;}#sk-container-id-1 div.sk-parallel-item:only-child::after {width: 0;}#sk-container-id-1 div.sk-dashed-wrapped {border: 1px dashed gray;margin: 0 0.4em 0.5em 0.4em;box-sizing: border-box;padding-bottom: 0.4em;background-color: white;}#sk-container-id-1 div.sk-label label {font-family: monospace;font-weight: bold;display: inline-block;line-height: 1.2em;}#sk-container-id-1 div.sk-label-container {text-align: center;}#sk-container-id-1 div.sk-container {/* jupyter's `normalize.less` sets `[hidden] { display: none; }` but bootstrap.min.css set `[hidden] { display: none !important; }` so we also need the `!important` here to be able to override the default hidden behavior on the sphinx rendered scikit-learn.org. See: https://github.com/scikit-learn/scikit-learn/issues/21755 */display: inline-block !important;position: relative;}#sk-container-id-1 div.sk-text-repr-fallback {display: none;}</style><div id=\"sk-container-id-1\" class=\"sk-top-container\"><div class=\"sk-text-repr-fallback\"><pre>LogisticRegression()</pre><b>In a Jupyter environment, please rerun this cell to show the HTML representation or trust the notebook. <br />On GitHub, the HTML representation is unable to render, please try loading this page with nbviewer.org.</b></div><div class=\"sk-container\" hidden><div class=\"sk-item\"><div class=\"sk-estimator sk-toggleable\"><input class=\"sk-toggleable__control sk-hidden--visually\" id=\"sk-estimator-id-1\" type=\"checkbox\" checked><label for=\"sk-estimator-id-1\" class=\"sk-toggleable__label sk-toggleable__label-arrow\">LogisticRegression</label><div class=\"sk-toggleable__content\"><pre>LogisticRegression()</pre></div></div></div></div></div>"
      ],
      "text/plain": [
       "LogisticRegression()"
      ]
     },
     "execution_count": 46,
     "metadata": {},
     "output_type": "execute_result"
    }
   ],
   "source": [
    "lrnr.fit(X,y)"
   ]
  },
  {
   "cell_type": "code",
   "execution_count": 47,
   "id": "9b71f20c-893a-4d2a-9ce7-ea30315349c0",
   "metadata": {},
   "outputs": [],
   "source": [
    "yyhat = lrnr.predict(XX) "
   ]
  },
  {
   "cell_type": "code",
   "execution_count": 49,
   "id": "f35aa10e-503f-4bfb-8a96-309f54c150a9",
   "metadata": {},
   "outputs": [
    {
     "data": {
      "text/plain": [
       "array([1, 1, 1, ..., 0, 1, 0])"
      ]
     },
     "execution_count": 49,
     "metadata": {},
     "output_type": "execute_result"
    }
   ],
   "source": [
    "yyhat"
   ]
  },
  {
   "cell_type": "code",
   "execution_count": 51,
   "id": "ea3c96d4-fa44-43ff-8ce3-74a78cd6ed5c",
   "metadata": {},
   "outputs": [],
   "source": [
    "metrics = [sklearn.metrics.accuracy_score,\n",
    "           sklearn.metrics.precision_score,\n",
    "           sklearn.metrics.recall_score,\n",
    "           sklearn.metrics.f1_score]"
   ]
  },
  {
   "cell_type": "code",
   "execution_count": 53,
   "id": "6641e914-6436-4609-b46a-379a2d0b21e1",
   "metadata": {},
   "outputs": [
    {
     "data": {
      "text/plain": [
       "{'accuracy_score': 0.867799,\n",
       " 'precision_score': 0.952188,\n",
       " 'recall_score': 0.776603,\n",
       " 'f1_score': 0.855479}"
      ]
     },
     "execution_count": 53,
     "metadata": {},
     "output_type": "execute_result"
    }
   ],
   "source": [
    "{m.__name__:m(yy,yyhat).round(6) for m in metrics}"
   ]
  },
  {
   "cell_type": "code",
   "execution_count": 54,
   "id": "91e4c2af-42ab-414c-9711-f1cd1f139f5f",
   "metadata": {},
   "outputs": [],
   "source": [
    "Gtr = build_graph_tripartite(df50_tr)\n",
    "Gtest = build_graph_tripartite(df50_test)"
   ]
  },
  {
   "cell_type": "code",
   "execution_count": 55,
   "id": "3c582219-76b0-4cc8-9ae9-e5fabb6dd171",
   "metadata": {},
   "outputs": [],
   "source": [
    "    df=df50.copy();graph_type=nx.Graph()\n",
    "    mapping={x:node_id for node_id, x in enumerate(set(df.index.values.tolist() + \n",
    "                                                       df[\"cc_num\"].values.tolist() +\n",
    "                                                       df[\"merchant\"].values.tolist()))}\n",
    "    df[\"in_node\"]= df[\"cc_num\"].apply(lambda x: mapping[x])\n",
    "    df[\"out_node\"]=df[\"merchant\"].apply(lambda x:mapping[x])\n",
    "    \n",
    "        \n",
    "    G=nx.from_edgelist([(x[\"in_node\"], mapping[idx]) for idx, x in df.iterrows()] +\\\n",
    "                        [(x[\"out_node\"], mapping[idx]) for idx, x in df.iterrows()], create_using=graph_type)\n",
    "    \n",
    "    nx.set_edge_attributes(G,{(x[\"in_node\"], mapping[idx]):x[\"is_fraud\"] for idx, x in df.iterrows()}, \"label\")\n",
    "     \n",
    "    nx.set_edge_attributes(G,{(x[\"out_node\"], mapping[idx]):x[\"is_fraud\"] for idx, x in df.iterrows()}, \"label\")\n",
    "    \n",
    "    nx.set_edge_attributes(G,{(x[\"in_node\"], mapping[idx]):x[\"amt\"] for idx, x in df.iterrows()}, \"weight\")\n",
    "    \n",
    "    nx.set_edge_attributes(G,{(x[\"out_node\"], mapping[idx]):x[\"amt\"] for idx, x in df.iterrows()}, \"weight\")\n",
    "    "
   ]
  },
  {
   "cell_type": "code",
   "execution_count": 56,
   "id": "e42577f0-c4b8-4ba7-bc2f-e3702a7d7f28",
   "metadata": {},
   "outputs": [],
   "source": [
    "_G = nx.from_edgelist([[0,1],[0,2]])"
   ]
  },
  {
   "cell_type": "code",
   "execution_count": 58,
   "id": "312d41e4-09e2-498f-a483-b1191ce31209",
   "metadata": {},
   "outputs": [
    {
     "data": {
      "text/plain": [
       "24024"
      ]
     },
     "execution_count": 58,
     "metadata": {},
     "output_type": "execute_result"
    }
   ],
   "source": [
    "len([(x[\"in_node\"], mapping[idx]) for idx, x in df.iterrows()] + [(x[\"out_node\"], mapping[idx]) for idx, x in df.iterrows()])"
   ]
  },
  {
   "cell_type": "code",
   "execution_count": 59,
   "id": "9a495d34-43c0-4ba1-b66c-7705ebc66301",
   "metadata": {},
   "outputs": [
    {
     "data": {
      "text/plain": [
       "12012"
      ]
     },
     "execution_count": 59,
     "metadata": {},
     "output_type": "execute_result"
    }
   ],
   "source": [
    "len(df50)"
   ]
  },
  {
   "cell_type": "code",
   "execution_count": 64,
   "id": "666a3724-deef-4975-8970-393a45fb490f",
   "metadata": {},
   "outputs": [
    {
     "data": {
      "text/html": [
       "<div>\n",
       "<style scoped>\n",
       "    .dataframe tbody tr th:only-of-type {\n",
       "        vertical-align: middle;\n",
       "    }\n",
       "\n",
       "    .dataframe tbody tr th {\n",
       "        vertical-align: top;\n",
       "    }\n",
       "\n",
       "    .dataframe thead th {\n",
       "        text-align: right;\n",
       "    }\n",
       "</style>\n",
       "<table border=\"1\" class=\"dataframe\">\n",
       "  <thead>\n",
       "    <tr style=\"text-align: right;\">\n",
       "      <th></th>\n",
       "      <th>trans_date_trans_time</th>\n",
       "      <th>cc_num</th>\n",
       "      <th>merchant</th>\n",
       "      <th>category</th>\n",
       "      <th>amt</th>\n",
       "      <th>first</th>\n",
       "      <th>last</th>\n",
       "      <th>gender</th>\n",
       "      <th>street</th>\n",
       "      <th>city</th>\n",
       "      <th>...</th>\n",
       "      <th>city_pop</th>\n",
       "      <th>job</th>\n",
       "      <th>dob</th>\n",
       "      <th>trans_num</th>\n",
       "      <th>unix_time</th>\n",
       "      <th>merch_lat</th>\n",
       "      <th>merch_long</th>\n",
       "      <th>is_fraud</th>\n",
       "      <th>in_node</th>\n",
       "      <th>out_node</th>\n",
       "    </tr>\n",
       "  </thead>\n",
       "  <tbody>\n",
       "    <tr>\n",
       "      <th>686</th>\n",
       "      <td>2019-11-25 22:26</td>\n",
       "      <td>3.598900e+15</td>\n",
       "      <td>fraud_Kilback LLC</td>\n",
       "      <td>grocery_pos</td>\n",
       "      <td>320.26</td>\n",
       "      <td>Kenneth</td>\n",
       "      <td>Richards</td>\n",
       "      <td>M</td>\n",
       "      <td>994 Livingston Extensions Suite 918</td>\n",
       "      <td>Norwalk</td>\n",
       "      <td>...</td>\n",
       "      <td>23805</td>\n",
       "      <td>Copy</td>\n",
       "      <td>1970-02-22</td>\n",
       "      <td>de391d925e1aa1f86cc77cf0e8f0e21b</td>\n",
       "      <td>1353882366</td>\n",
       "      <td>41.042223</td>\n",
       "      <td>-82.308471</td>\n",
       "      <td>1</td>\n",
       "      <td>12668</td>\n",
       "      <td>12614</td>\n",
       "    </tr>\n",
       "    <tr>\n",
       "      <th>925</th>\n",
       "      <td>2019-11-25 23:48</td>\n",
       "      <td>3.598900e+15</td>\n",
       "      <td>fraud_Kassulke PLC</td>\n",
       "      <td>shopping_net</td>\n",
       "      <td>948.05</td>\n",
       "      <td>Kenneth</td>\n",
       "      <td>Richards</td>\n",
       "      <td>M</td>\n",
       "      <td>994 Livingston Extensions Suite 918</td>\n",
       "      <td>Norwalk</td>\n",
       "      <td>...</td>\n",
       "      <td>23805</td>\n",
       "      <td>Copy</td>\n",
       "      <td>1970-02-22</td>\n",
       "      <td>61df1730a076116730249af6e92c3ffb</td>\n",
       "      <td>1353887312</td>\n",
       "      <td>41.157798</td>\n",
       "      <td>-82.108063</td>\n",
       "      <td>1</td>\n",
       "      <td>12668</td>\n",
       "      <td>12241</td>\n",
       "    </tr>\n",
       "    <tr>\n",
       "      <th>1352</th>\n",
       "      <td>2019-11-25 3:38</td>\n",
       "      <td>3.598900e+15</td>\n",
       "      <td>fraud_Kuvalis Ltd</td>\n",
       "      <td>gas_transport</td>\n",
       "      <td>12.63</td>\n",
       "      <td>Kenneth</td>\n",
       "      <td>Richards</td>\n",
       "      <td>M</td>\n",
       "      <td>994 Livingston Extensions Suite 918</td>\n",
       "      <td>Norwalk</td>\n",
       "      <td>...</td>\n",
       "      <td>23805</td>\n",
       "      <td>Copy</td>\n",
       "      <td>1970-02-22</td>\n",
       "      <td>4681eb64a8a2f95281afdcb7ddb43c4f</td>\n",
       "      <td>1353814696</td>\n",
       "      <td>41.082232</td>\n",
       "      <td>-82.864767</td>\n",
       "      <td>1</td>\n",
       "      <td>12668</td>\n",
       "      <td>12783</td>\n",
       "    </tr>\n",
       "    <tr>\n",
       "      <th>3113</th>\n",
       "      <td>2019-11-24 3:51</td>\n",
       "      <td>3.598900e+15</td>\n",
       "      <td>fraud_Koepp-Parker</td>\n",
       "      <td>grocery_pos</td>\n",
       "      <td>308.82</td>\n",
       "      <td>Kenneth</td>\n",
       "      <td>Richards</td>\n",
       "      <td>M</td>\n",
       "      <td>994 Livingston Extensions Suite 918</td>\n",
       "      <td>Norwalk</td>\n",
       "      <td>...</td>\n",
       "      <td>23805</td>\n",
       "      <td>Copy</td>\n",
       "      <td>1970-02-22</td>\n",
       "      <td>726d491f80a2c4db905fefe75290cdc8</td>\n",
       "      <td>1353729072</td>\n",
       "      <td>40.523117</td>\n",
       "      <td>-82.073365</td>\n",
       "      <td>1</td>\n",
       "      <td>12668</td>\n",
       "      <td>13061</td>\n",
       "    </tr>\n",
       "    <tr>\n",
       "      <th>3219</th>\n",
       "      <td>2019-11-25 22:41</td>\n",
       "      <td>3.598900e+15</td>\n",
       "      <td>fraud_Bechtelar-Rippin</td>\n",
       "      <td>food_dining</td>\n",
       "      <td>127.81</td>\n",
       "      <td>Kenneth</td>\n",
       "      <td>Richards</td>\n",
       "      <td>M</td>\n",
       "      <td>994 Livingston Extensions Suite 918</td>\n",
       "      <td>Norwalk</td>\n",
       "      <td>...</td>\n",
       "      <td>23805</td>\n",
       "      <td>Copy</td>\n",
       "      <td>1970-02-22</td>\n",
       "      <td>94f80338f56e539310f84c10c9c11fa8</td>\n",
       "      <td>1353883286</td>\n",
       "      <td>41.226756</td>\n",
       "      <td>-83.475536</td>\n",
       "      <td>1</td>\n",
       "      <td>12668</td>\n",
       "      <td>12392</td>\n",
       "    </tr>\n",
       "    <tr>\n",
       "      <th>7647</th>\n",
       "      <td>2019-11-25 22:44</td>\n",
       "      <td>3.598900e+15</td>\n",
       "      <td>fraud_Kihn, Abernathy and Douglas</td>\n",
       "      <td>shopping_net</td>\n",
       "      <td>968.41</td>\n",
       "      <td>Kenneth</td>\n",
       "      <td>Richards</td>\n",
       "      <td>M</td>\n",
       "      <td>994 Livingston Extensions Suite 918</td>\n",
       "      <td>Norwalk</td>\n",
       "      <td>...</td>\n",
       "      <td>23805</td>\n",
       "      <td>Copy</td>\n",
       "      <td>1970-02-22</td>\n",
       "      <td>2a1a6053c916e39ed512338017bed155</td>\n",
       "      <td>1353883476</td>\n",
       "      <td>41.394215</td>\n",
       "      <td>-82.910453</td>\n",
       "      <td>1</td>\n",
       "      <td>12668</td>\n",
       "      <td>13072</td>\n",
       "    </tr>\n",
       "    <tr>\n",
       "      <th>9546</th>\n",
       "      <td>2019-11-25 22:21</td>\n",
       "      <td>3.598900e+15</td>\n",
       "      <td>fraud_Heathcote, Yost and Kertzmann</td>\n",
       "      <td>shopping_net</td>\n",
       "      <td>1074.33</td>\n",
       "      <td>Kenneth</td>\n",
       "      <td>Richards</td>\n",
       "      <td>M</td>\n",
       "      <td>994 Livingston Extensions Suite 918</td>\n",
       "      <td>Norwalk</td>\n",
       "      <td>...</td>\n",
       "      <td>23805</td>\n",
       "      <td>Copy</td>\n",
       "      <td>1970-02-22</td>\n",
       "      <td>11ee1c8458d0d448d55de05c4c8a0fe9</td>\n",
       "      <td>1353882077</td>\n",
       "      <td>41.869650</td>\n",
       "      <td>-82.354703</td>\n",
       "      <td>1</td>\n",
       "      <td>12668</td>\n",
       "      <td>13303</td>\n",
       "    </tr>\n",
       "    <tr>\n",
       "      <th>11881</th>\n",
       "      <td>2019-11-24 23:35</td>\n",
       "      <td>3.598900e+15</td>\n",
       "      <td>fraud_Schaefer Ltd</td>\n",
       "      <td>kids_pets</td>\n",
       "      <td>16.53</td>\n",
       "      <td>Kenneth</td>\n",
       "      <td>Richards</td>\n",
       "      <td>M</td>\n",
       "      <td>994 Livingston Extensions Suite 918</td>\n",
       "      <td>Norwalk</td>\n",
       "      <td>...</td>\n",
       "      <td>23805</td>\n",
       "      <td>Copy</td>\n",
       "      <td>1970-02-22</td>\n",
       "      <td>2a8b2e1497ff931108e47f5131ffbf5d</td>\n",
       "      <td>1353800139</td>\n",
       "      <td>41.431914</td>\n",
       "      <td>-82.661167</td>\n",
       "      <td>1</td>\n",
       "      <td>12668</td>\n",
       "      <td>12681</td>\n",
       "    </tr>\n",
       "  </tbody>\n",
       "</table>\n",
       "<p>8 rows × 24 columns</p>\n",
       "</div>"
      ],
      "text/plain": [
       "      trans_date_trans_time        cc_num  \\\n",
       "686        2019-11-25 22:26  3.598900e+15   \n",
       "925        2019-11-25 23:48  3.598900e+15   \n",
       "1352        2019-11-25 3:38  3.598900e+15   \n",
       "3113        2019-11-24 3:51  3.598900e+15   \n",
       "3219       2019-11-25 22:41  3.598900e+15   \n",
       "7647       2019-11-25 22:44  3.598900e+15   \n",
       "9546       2019-11-25 22:21  3.598900e+15   \n",
       "11881      2019-11-24 23:35  3.598900e+15   \n",
       "\n",
       "                                  merchant       category      amt    first  \\\n",
       "686                      fraud_Kilback LLC    grocery_pos   320.26  Kenneth   \n",
       "925                     fraud_Kassulke PLC   shopping_net   948.05  Kenneth   \n",
       "1352                     fraud_Kuvalis Ltd  gas_transport    12.63  Kenneth   \n",
       "3113                    fraud_Koepp-Parker    grocery_pos   308.82  Kenneth   \n",
       "3219                fraud_Bechtelar-Rippin    food_dining   127.81  Kenneth   \n",
       "7647     fraud_Kihn, Abernathy and Douglas   shopping_net   968.41  Kenneth   \n",
       "9546   fraud_Heathcote, Yost and Kertzmann   shopping_net  1074.33  Kenneth   \n",
       "11881                   fraud_Schaefer Ltd      kids_pets    16.53  Kenneth   \n",
       "\n",
       "           last gender                               street     city  ...  \\\n",
       "686    Richards      M  994 Livingston Extensions Suite 918  Norwalk  ...   \n",
       "925    Richards      M  994 Livingston Extensions Suite 918  Norwalk  ...   \n",
       "1352   Richards      M  994 Livingston Extensions Suite 918  Norwalk  ...   \n",
       "3113   Richards      M  994 Livingston Extensions Suite 918  Norwalk  ...   \n",
       "3219   Richards      M  994 Livingston Extensions Suite 918  Norwalk  ...   \n",
       "7647   Richards      M  994 Livingston Extensions Suite 918  Norwalk  ...   \n",
       "9546   Richards      M  994 Livingston Extensions Suite 918  Norwalk  ...   \n",
       "11881  Richards      M  994 Livingston Extensions Suite 918  Norwalk  ...   \n",
       "\n",
       "      city_pop   job         dob                         trans_num  \\\n",
       "686      23805  Copy  1970-02-22  de391d925e1aa1f86cc77cf0e8f0e21b   \n",
       "925      23805  Copy  1970-02-22  61df1730a076116730249af6e92c3ffb   \n",
       "1352     23805  Copy  1970-02-22  4681eb64a8a2f95281afdcb7ddb43c4f   \n",
       "3113     23805  Copy  1970-02-22  726d491f80a2c4db905fefe75290cdc8   \n",
       "3219     23805  Copy  1970-02-22  94f80338f56e539310f84c10c9c11fa8   \n",
       "7647     23805  Copy  1970-02-22  2a1a6053c916e39ed512338017bed155   \n",
       "9546     23805  Copy  1970-02-22  11ee1c8458d0d448d55de05c4c8a0fe9   \n",
       "11881    23805  Copy  1970-02-22  2a8b2e1497ff931108e47f5131ffbf5d   \n",
       "\n",
       "        unix_time  merch_lat merch_long is_fraud  in_node  out_node  \n",
       "686    1353882366  41.042223 -82.308471        1    12668     12614  \n",
       "925    1353887312  41.157798 -82.108063        1    12668     12241  \n",
       "1352   1353814696  41.082232 -82.864767        1    12668     12783  \n",
       "3113   1353729072  40.523117 -82.073365        1    12668     13061  \n",
       "3219   1353883286  41.226756 -83.475536        1    12668     12392  \n",
       "7647   1353883476  41.394215 -82.910453        1    12668     13072  \n",
       "9546   1353882077  41.869650 -82.354703        1    12668     13303  \n",
       "11881  1353800139  41.431914 -82.661167        1    12668     12681  \n",
       "\n",
       "[8 rows x 24 columns]"
      ]
     },
     "execution_count": 64,
     "metadata": {},
     "output_type": "execute_result"
    }
   ],
   "source": [
    "df[(df.is_fraud==1)&(df.cc_num==3.598900e+15)]"
   ]
  },
  {
   "cell_type": "code",
   "execution_count": 65,
   "id": "b1489bf4-4617-4390-a75d-09370607282d",
   "metadata": {},
   "outputs": [],
   "source": [
    "import matplotlib.pyplot as plt"
   ]
  },
  {
   "cell_type": "code",
   "execution_count": 66,
   "id": "abb74e3d-4cce-4184-834e-dd0ed1cd1eab",
   "metadata": {},
   "outputs": [
    {
     "data": {
      "text/plain": [
       "95"
      ]
     },
     "execution_count": 66,
     "metadata": {},
     "output_type": "execute_result"
    }
   ],
   "source": [
    "len(df02.loc[(df02.cc_num==3.598900e+15),'amt'])"
   ]
  },
  {
   "cell_type": "code",
   "execution_count": 67,
   "id": "706ce83e-61cf-4ed6-af05-946236559035",
   "metadata": {},
   "outputs": [
    {
     "data": {
      "text/plain": [
       "3"
      ]
     },
     "execution_count": 67,
     "metadata": {},
     "output_type": "execute_result"
    }
   ],
   "source": [
    "len(df50.loc[(df02.cc_num==3.598900e+15),'amt'])"
   ]
  },
  {
   "cell_type": "code",
   "execution_count": 68,
   "id": "d6c6dae0-8f81-43a6-91bb-2d4c3ad73342",
   "metadata": {},
   "outputs": [
    {
     "data": {
      "text/plain": [
       "[<matplotlib.lines.Line2D at 0x7fc8dda595e0>]"
      ]
     },
     "execution_count": 68,
     "metadata": {},
     "output_type": "execute_result"
    },
    {
     "data": {
      "image/png": "[encoded data removed]",
      "text/plain": [
       "<Figure size 640x480 with 1 Axes>"
      ]
     },
     "metadata": {},
     "output_type": "display_data"
    }
   ],
   "source": [
    "plt.plot(list(range(95)),df02.loc[(df02.cc_num==3.598900e+15),'amt'])"
   ]
  },
  {
   "cell_type": "code",
   "execution_count": 72,
   "id": "94185257-e67f-4d38-9093-62f5104243c6",
   "metadata": {},
   "outputs": [],
   "source": [
    "_y= np.array(df02.loc[(df02.cc_num==3.598900e+15),'amt'])"
   ]
  },
  {
   "cell_type": "code",
   "execution_count": 74,
   "id": "a25bfea8-f544-4f35-af88-86c87ed02729",
   "metadata": {},
   "outputs": [],
   "source": [
    "s=_y*0"
   ]
  },
  {
   "cell_type": "code",
   "execution_count": 77,
   "id": "2469f20f-a8f8-4a9d-bf2e-37846fc20867",
   "metadata": {},
   "outputs": [],
   "source": [
    "for i in range(1,95):\n",
    "    s[i] = s[i-1] + _y[i]-np.mean(_y)"
   ]
  },
  {
   "cell_type": "code",
   "execution_count": 80,
   "id": "0024fb34-4d50-4151-a3d5-a96e4c2f7577",
   "metadata": {},
   "outputs": [],
   "source": [
    "_z=(_y-np.median(_y))/np.std(_y)"
   ]
  },
  {
   "cell_type": "code",
   "execution_count": null,
   "id": "e976d65e-a5ac-4cdb-a14c-79146724edf5",
   "metadata": {},
   "outputs": [],
   "source": []
  },
  {
   "cell_type": "code",
   "execution_count": 81,
   "id": "6fe3a1c0-5436-4e04-a0d8-1e1ac4e76fd0",
   "metadata": {},
   "outputs": [
    {
     "data": {
      "text/plain": [
       "[<matplotlib.lines.Line2D at 0x7fc8cc5fe820>]"
      ]
     },
     "execution_count": 81,
     "metadata": {},
     "output_type": "execute_result"
    },
    {
     "data": {
      "image/png": "[encoded data removed]",
      "text/plain": [
       "<Figure size 640x480 with 1 Axes>"
      ]
     },
     "metadata": {},
     "output_type": "display_data"
    }
   ],
   "source": [
    "plt.plot(_z)"
   ]
  },
  {
   "cell_type": "code",
   "execution_count": 82,
   "id": "623cfac8-6cd9-4050-b42b-e175beef1d03",
   "metadata": {},
   "outputs": [
    {
     "data": {
      "text/plain": [
       "[<matplotlib.lines.Line2D at 0x7fc8aa186df0>]"
      ]
     },
     "execution_count": 82,
     "metadata": {},
     "output_type": "execute_result"
    },
    {
     "data": {
      "image/png": "[encoded data removed]",
      "text/plain": [
       "<Figure size 640x480 with 1 Axes>"
      ]
     },
     "metadata": {},
     "output_type": "display_data"
    }
   ],
   "source": [
    "_t=(_y-np.mean(_y))/np.std(_y)\n",
    "plt.plot(_t)"
   ]
  },
  {
   "cell_type": "code",
   "execution_count": 85,
   "id": "9b81b99c-0ac0-4b39-b387-9df2c0e7f7c5",
   "metadata": {},
   "outputs": [
    {
     "data": {
      "text/plain": [
       "[<matplotlib.lines.Line2D at 0x7fc8a67fe760>]"
      ]
     },
     "execution_count": 85,
     "metadata": {},
     "output_type": "execute_result"
    },
    {
     "data": {
      "image/png": "[encoded data removed]",
      "text/plain": [
       "<Figure size 640x480 with 1 Axes>"
      ]
     },
     "metadata": {},
     "output_type": "display_data"
    }
   ],
   "source": [
    "plt.plot(_z.cumsum())"
   ]
  },
  {
   "cell_type": "code",
   "execution_count": 86,
   "id": "e16aa101-ed5b-4383-a733-e765696fac11",
   "metadata": {},
   "outputs": [
    {
     "data": {
      "text/plain": [
       "[<matplotlib.lines.Line2D at 0x7fc8a5a9b7c0>]"
      ]
     },
     "execution_count": 86,
     "metadata": {},
     "output_type": "execute_result"
    },
    {
     "data": {
      "image/png": "[encoded data removed]",
      "text/plain": [
       "<Figure size 640x480 with 1 Axes>"
      ]
     },
     "metadata": {},
     "output_type": "display_data"
    }
   ],
   "source": [
    "plt.plot(_t.cumsum())"
   ]
  },
  {
   "cell_type": "markdown",
   "id": "048accb3-f6ca-4cbe-b22b-96284b6f8cd0",
   "metadata": {},
   "source": [
    "평균내면 -값 나와서.. 그래프가 이렇게"
   ]
  },
  {
   "cell_type": "code",
   "execution_count": 90,
   "id": "56cec983-1cc6-485a-8715-4b1570d3a015",
   "metadata": {},
   "outputs": [
    {
     "data": {
      "application/vnd.jupyter.widget-view+json": {
       "model_id": "bfd5cb74e1394ab39e747a7b1f19937e",
       "version_major": 2,
       "version_minor": 0
      },
      "text/plain": [
       "HBox(children=(FloatProgress(value=0.0, description='Computing transition probabilities', max=4503.0, style=Pr…"
      ]
     },
     "metadata": {},
     "output_type": "display_data"
    },
    {
     "name": "stderr",
     "output_type": "stream",
     "text": [
      "Generating walks (CPU: 1):   0%|          | 0/10 [00:00<?, ?it/s]"
     ]
    },
    {
     "name": "stdout",
     "output_type": "stream",
     "text": [
      "\n"
     ]
    },
    {
     "name": "stderr",
     "output_type": "stream",
     "text": [
      "Generating walks (CPU: 1): 100%|██████████| 10/10 [00:07<00:00,  1.39it/s]\n"
     ]
    },
    {
     "data": {
      "application/vnd.jupyter.widget-view+json": {
       "model_id": "922eb9a641834817aa5a10d2c7077bac",
       "version_major": 2,
       "version_minor": 0
      },
      "text/plain": [
       "HBox(children=(FloatProgress(value=0.0, description='Computing transition probabilities', max=4503.0, style=Pr…"
      ]
     },
     "metadata": {},
     "output_type": "display_data"
    },
    {
     "name": "stderr",
     "output_type": "stream",
     "text": [
      "Generating walks (CPU: 1):   0%|          | 0/10 [00:00<?, ?it/s]"
     ]
    },
    {
     "name": "stdout",
     "output_type": "stream",
     "text": [
      "\n"
     ]
    },
    {
     "name": "stderr",
     "output_type": "stream",
     "text": [
      "Generating walks (CPU: 1): 100%|██████████| 10/10 [00:07<00:00,  1.36it/s]\n"
     ]
    }
   ],
   "source": [
    "_X,_y = embedding(Gtr)\n",
    "_XX,_yy = embedding(Gtest)"
   ]
  },
  {
   "cell_type": "code",
   "execution_count": 94,
   "id": "b7a5d2e8-f319-468c-95f6-28bf8075e91a",
   "metadata": {},
   "outputs": [
    {
     "name": "stdout",
     "output_type": "stream",
     "text": [
      "6006 6006 6006 6006\n"
     ]
    }
   ],
   "source": [
    "print(len(_X),len(_y), len(_XX),len(_yy))"
   ]
  },
  {
   "cell_type": "code",
   "execution_count": 99,
   "id": "1ff736fa-17c1-4d7f-b7c2-a2fc9cc42cb2",
   "metadata": {},
   "outputs": [
    {
     "name": "stdout",
     "output_type": "stream",
     "text": [
      "(9009, 22) 6006 (3003, 22) 6006\n"
     ]
    }
   ],
   "source": [
    "print(df50_tr.shape, len(_X), df50_test.shape, len(_XX))"
   ]
  },
  {
   "cell_type": "code",
   "execution_count": 100,
   "id": "fddbab7d-2524-40f1-87a3-ba0393bd747d",
   "metadata": {},
   "outputs": [],
   "source": [
    "X = np.array(df50_tr.amt).reshape(-1,1)\n",
    "XX = np.array(df50_test.amt).reshape(-1,1)\n",
    "y = np.array(df50_tr.is_fraud)\n",
    "yy = np.array(df50_test.is_fraud)"
   ]
  },
  {
   "cell_type": "code",
   "execution_count": 103,
   "id": "d9a54af4-7d71-460b-95d9-7d1cea738cc7",
   "metadata": {},
   "outputs": [
    {
     "data": {
      "text/plain": [
       "(6006, 128)"
      ]
     },
     "execution_count": 103,
     "metadata": {},
     "output_type": "execute_result"
    }
   ],
   "source": [
    "np.stack(_X).shape"
   ]
  },
  {
   "cell_type": "code",
   "execution_count": 104,
   "id": "b4f135e3-a1d7-44d4-b57b-3d0a30417340",
   "metadata": {},
   "outputs": [
    {
     "data": {
      "text/plain": [
       "((9009, 1), (6006, 128))"
      ]
     },
     "execution_count": 104,
     "metadata": {},
     "output_type": "execute_result"
    }
   ],
   "source": [
    "X.shape, np.stack(_X).shape"
   ]
  },
  {
   "cell_type": "markdown",
   "id": "c11d85b3-64f9-408b-91ca-99cdde760435",
   "metadata": {},
   "source": [
    "_X는 그래프 임베딩 한건데, 뭘까"
   ]
  },
  {
   "cell_type": "code",
   "execution_count": 105,
   "id": "9a504c63-6c03-4aea-b32f-02ef946b3cb9",
   "metadata": {},
   "outputs": [
    {
     "data": {
      "text/plain": [
       "(6006, 6006)"
      ]
     },
     "execution_count": 105,
     "metadata": {},
     "output_type": "execute_result"
    }
   ],
   "source": [
    "len(_yy),len(_y)"
   ]
  },
  {
   "cell_type": "code",
   "execution_count": 106,
   "id": "d482516a-0d0e-4780-81c7-2df48565903d",
   "metadata": {},
   "outputs": [],
   "source": [
    "lrnr = sklearn.linear_model.LogisticRegression()"
   ]
  },
  {
   "cell_type": "code",
   "execution_count": 107,
   "id": "c7f5f779-4298-4ec8-92f4-2470f1649f81",
   "metadata": {},
   "outputs": [
    {
     "data": {
      "text/html": [
       "<style>#sk-container-id-2 {color: black;background-color: white;}#sk-container-id-2 pre{padding: 0;}#sk-container-id-2 div.sk-toggleable {background-color: white;}#sk-container-id-2 label.sk-toggleable__label {cursor: pointer;display: block;width: 100%;margin-bottom: 0;padding: 0.3em;box-sizing: border-box;text-align: center;}#sk-container-id-2 label.sk-toggleable__label-arrow:before {content: \"▸\";float: left;margin-right: 0.25em;color: #696969;}#sk-container-id-2 label.sk-toggleable__label-arrow:hover:before {color: black;}#sk-container-id-2 div.sk-estimator:hover label.sk-toggleable__label-arrow:before {color: black;}#sk-container-id-2 div.sk-toggleable__content {max-height: 0;max-width: 0;overflow: hidden;text-align: left;background-color: #f0f8ff;}#sk-container-id-2 div.sk-toggleable__content pre {margin: 0.2em;color: black;border-radius: 0.25em;background-color: #f0f8ff;}#sk-container-id-2 input.sk-toggleable__control:checked~div.sk-toggleable__content {max-height: 200px;max-width: 100%;overflow: auto;}#sk-container-id-2 input.sk-toggleable__control:checked~label.sk-toggleable__label-arrow:before {content: \"▾\";}#sk-container-id-2 div.sk-estimator input.sk-toggleable__control:checked~label.sk-toggleable__label {background-color: #d4ebff;}#sk-container-id-2 div.sk-label input.sk-toggleable__control:checked~label.sk-toggleable__label {background-color: #d4ebff;}#sk-container-id-2 input.sk-hidden--visually {border: 0;clip: rect(1px 1px 1px 1px);clip: rect(1px, 1px, 1px, 1px);height: 1px;margin: -1px;overflow: hidden;padding: 0;position: absolute;width: 1px;}#sk-container-id-2 div.sk-estimator {font-family: monospace;background-color: #f0f8ff;border: 1px dotted black;border-radius: 0.25em;box-sizing: border-box;margin-bottom: 0.5em;}#sk-container-id-2 div.sk-estimator:hover {background-color: #d4ebff;}#sk-container-id-2 div.sk-parallel-item::after {content: \"\";width: 100%;border-bottom: 1px solid gray;flex-grow: 1;}#sk-container-id-2 div.sk-label:hover label.sk-toggleable__label {background-color: #d4ebff;}#sk-container-id-2 div.sk-serial::before {content: \"\";position: absolute;border-left: 1px solid gray;box-sizing: border-box;top: 0;bottom: 0;left: 50%;z-index: 0;}#sk-container-id-2 div.sk-serial {display: flex;flex-direction: column;align-items: center;background-color: white;padding-right: 0.2em;padding-left: 0.2em;position: relative;}#sk-container-id-2 div.sk-item {position: relative;z-index: 1;}#sk-container-id-2 div.sk-parallel {display: flex;align-items: stretch;justify-content: center;background-color: white;position: relative;}#sk-container-id-2 div.sk-item::before, #sk-container-id-2 div.sk-parallel-item::before {content: \"\";position: absolute;border-left: 1px solid gray;box-sizing: border-box;top: 0;bottom: 0;left: 50%;z-index: -1;}#sk-container-id-2 div.sk-parallel-item {display: flex;flex-direction: column;z-index: 1;position: relative;background-color: white;}#sk-container-id-2 div.sk-parallel-item:first-child::after {align-self: flex-end;width: 50%;}#sk-container-id-2 div.sk-parallel-item:last-child::after {align-self: flex-start;width: 50%;}#sk-container-id-2 div.sk-parallel-item:only-child::after {width: 0;}#sk-container-id-2 div.sk-dashed-wrapped {border: 1px dashed gray;margin: 0 0.4em 0.5em 0.4em;box-sizing: border-box;padding-bottom: 0.4em;background-color: white;}#sk-container-id-2 div.sk-label label {font-family: monospace;font-weight: bold;display: inline-block;line-height: 1.2em;}#sk-container-id-2 div.sk-label-container {text-align: center;}#sk-container-id-2 div.sk-container {/* jupyter's `normalize.less` sets `[hidden] { display: none; }` but bootstrap.min.css set `[hidden] { display: none !important; }` so we also need the `!important` here to be able to override the default hidden behavior on the sphinx rendered scikit-learn.org. See: https://github.com/scikit-learn/scikit-learn/issues/21755 */display: inline-block !important;position: relative;}#sk-container-id-2 div.sk-text-repr-fallback {display: none;}</style><div id=\"sk-container-id-2\" class=\"sk-top-container\"><div class=\"sk-text-repr-fallback\"><pre>LogisticRegression()</pre><b>In a Jupyter environment, please rerun this cell to show the HTML representation or trust the notebook. <br />On GitHub, the HTML representation is unable to render, please try loading this page with nbviewer.org.</b></div><div class=\"sk-container\" hidden><div class=\"sk-item\"><div class=\"sk-estimator sk-toggleable\"><input class=\"sk-toggleable__control sk-hidden--visually\" id=\"sk-estimator-id-2\" type=\"checkbox\" checked><label for=\"sk-estimator-id-2\" class=\"sk-toggleable__label sk-toggleable__label-arrow\">LogisticRegression</label><div class=\"sk-toggleable__content\"><pre>LogisticRegression()</pre></div></div></div></div></div>"
      ],
      "text/plain": [
       "LogisticRegression()"
      ]
     },
     "execution_count": 107,
     "metadata": {},
     "output_type": "execute_result"
    }
   ],
   "source": [
    "lrnr.fit(_X,_y)"
   ]
  },
  {
   "cell_type": "code",
   "execution_count": 108,
   "id": "9f85a796-5876-43ff-8871-88490f8f8604",
   "metadata": {},
   "outputs": [],
   "source": [
    "_yyhat = lrnr.predict(_XX) "
   ]
  },
  {
   "cell_type": "code",
   "execution_count": 114,
   "id": "ddbdbb08-94fd-4277-a233-a59fb241e6a9",
   "metadata": {},
   "outputs": [],
   "source": [
    "metrics = [sklearn.metrics.accuracy_score,\n",
    "           sklearn.metrics.precision_score,\n",
    "           sklearn.metrics.recall_score,\n",
    "           sklearn.metrics.f1_score]\n"
   ]
  },
  {
   "cell_type": "code",
   "execution_count": 115,
   "id": "3ddb0fed-394b-4ac2-84e3-46d6773935f8",
   "metadata": {},
   "outputs": [
    {
     "data": {
      "text/plain": [
       "{'accuracy_score': 0.511655,\n",
       " 'precision_score': 0.577371,\n",
       " 'recall_score': 0.114673,\n",
       " 'f1_score': 0.191343}"
      ]
     },
     "execution_count": 115,
     "metadata": {},
     "output_type": "execute_result"
    }
   ],
   "source": [
    "{m.__name__:m(_yy,_yyhat).round(6) for m in metrics}"
   ]
  },
  {
   "cell_type": "markdown",
   "id": "da0960ed-a08f-4808-85ad-f09a57a44c88",
   "metadata": {},
   "source": [
    "교수님것에서는 len(_X)= 2970 나왔는데"
   ]
  },
  {
   "cell_type": "code",
   "execution_count": 116,
   "id": "38ba381d-1136-49d3-a393-9b70285a05ea",
   "metadata": {},
   "outputs": [],
   "source": [
    "G = build_graph_bipartite(df50)"
   ]
  },
  {
   "cell_type": "code",
   "execution_count": 117,
   "id": "fc5b8aa7-d010-459e-8463-5b3dba7297c6",
   "metadata": {},
   "outputs": [
    {
     "data": {
      "text/plain": [
       "(12012, 22)"
      ]
     },
     "execution_count": 117,
     "metadata": {},
     "output_type": "execute_result"
    }
   ],
   "source": [
    "df50.shape"
   ]
  },
  {
   "cell_type": "code",
   "execution_count": 120,
   "id": "d414de6f-34d0-4818-80b1-41d228f6ebc3",
   "metadata": {},
   "outputs": [
    {
     "data": {
      "application/vnd.jupyter.widget-view+json": {
       "model_id": "026631143f8e44abb77124be99f03cdb",
       "version_major": 2,
       "version_minor": 0
      },
      "text/plain": [
       "HBox(children=(FloatProgress(value=0.0, description='Computing transition probabilities', max=1624.0, style=Pr…"
      ]
     },
     "metadata": {},
     "output_type": "display_data"
    },
    {
     "name": "stderr",
     "output_type": "stream",
     "text": [
      "Generating walks (CPU: 1):   0%|          | 0/10 [00:00<?, ?it/s]"
     ]
    },
    {
     "name": "stdout",
     "output_type": "stream",
     "text": [
      "\n"
     ]
    },
    {
     "name": "stderr",
     "output_type": "stream",
     "text": [
      "Generating walks (CPU: 1): 100%|██████████| 10/10 [00:04<00:00,  2.16it/s]\n"
     ]
    },
    {
     "ename": "ValueError",
     "evalue": "not enough values to unpack (expected 4, got 2)",
     "output_type": "error",
     "traceback": [
      "\u001b[0;31m---------------------------------------------------------------------------\u001b[0m",
      "\u001b[0;31mValueError\u001b[0m                                Traceback (most recent call last)",
      "Cell \u001b[0;32mIn[120], line 1\u001b[0m\n\u001b[0;32m----> 1\u001b[0m X,XX,y,yy \u001b[38;5;241m=\u001b[39m embedding(G)\n",
      "\u001b[0;31mValueError\u001b[0m: not enough values to unpack (expected 4, got 2)"
     ]
    }
   ],
   "source": [
    "X,XX,y,yy = embedding(G)"
   ]
  },
  {
   "cell_type": "code",
   "execution_count": 122,
   "id": "32fb99b1-ce30-49d3-a74e-f8e251cb7f42",
   "metadata": {},
   "outputs": [
    {
     "data": {
      "text/plain": [
       "((9009, 1), (3003, 1))"
      ]
     },
     "execution_count": 122,
     "metadata": {},
     "output_type": "execute_result"
    }
   ],
   "source": [
    "np.stack(X).shape, np.stack(XX).shape"
   ]
  },
  {
   "cell_type": "code",
   "execution_count": 123,
   "id": "0d49c35d-4d43-4b9d-b65b-f53bfee43698",
   "metadata": {},
   "outputs": [
    {
     "data": {
      "text/plain": [
       "((9009,), (3003,))"
      ]
     },
     "execution_count": 123,
     "metadata": {},
     "output_type": "execute_result"
    }
   ],
   "source": [
    "np.array(y).shape,np.array(yy).shape"
   ]
  },
  {
   "cell_type": "code",
   "execution_count": 125,
   "id": "aae0937b-59a7-4816-97f6-cef8cae72c0f",
   "metadata": {},
   "outputs": [],
   "source": [
    "from sklearn.ensemble import RandomForestClassifier\n"
   ]
  },
  {
   "cell_type": "code",
   "execution_count": 126,
   "id": "8062ef23-7e6b-4792-9723-ddaba7b187e6",
   "metadata": {},
   "outputs": [
    {
     "data": {
      "text/html": [
       "<style>#sk-container-id-3 {color: black;background-color: white;}#sk-container-id-3 pre{padding: 0;}#sk-container-id-3 div.sk-toggleable {background-color: white;}#sk-container-id-3 label.sk-toggleable__label {cursor: pointer;display: block;width: 100%;margin-bottom: 0;padding: 0.3em;box-sizing: border-box;text-align: center;}#sk-container-id-3 label.sk-toggleable__label-arrow:before {content: \"▸\";float: left;margin-right: 0.25em;color: #696969;}#sk-container-id-3 label.sk-toggleable__label-arrow:hover:before {color: black;}#sk-container-id-3 div.sk-estimator:hover label.sk-toggleable__label-arrow:before {color: black;}#sk-container-id-3 div.sk-toggleable__content {max-height: 0;max-width: 0;overflow: hidden;text-align: left;background-color: #f0f8ff;}#sk-container-id-3 div.sk-toggleable__content pre {margin: 0.2em;color: black;border-radius: 0.25em;background-color: #f0f8ff;}#sk-container-id-3 input.sk-toggleable__control:checked~div.sk-toggleable__content {max-height: 200px;max-width: 100%;overflow: auto;}#sk-container-id-3 input.sk-toggleable__control:checked~label.sk-toggleable__label-arrow:before {content: \"▾\";}#sk-container-id-3 div.sk-estimator input.sk-toggleable__control:checked~label.sk-toggleable__label {background-color: #d4ebff;}#sk-container-id-3 div.sk-label input.sk-toggleable__control:checked~label.sk-toggleable__label {background-color: #d4ebff;}#sk-container-id-3 input.sk-hidden--visually {border: 0;clip: rect(1px 1px 1px 1px);clip: rect(1px, 1px, 1px, 1px);height: 1px;margin: -1px;overflow: hidden;padding: 0;position: absolute;width: 1px;}#sk-container-id-3 div.sk-estimator {font-family: monospace;background-color: #f0f8ff;border: 1px dotted black;border-radius: 0.25em;box-sizing: border-box;margin-bottom: 0.5em;}#sk-container-id-3 div.sk-estimator:hover {background-color: #d4ebff;}#sk-container-id-3 div.sk-parallel-item::after {content: \"\";width: 100%;border-bottom: 1px solid gray;flex-grow: 1;}#sk-container-id-3 div.sk-label:hover label.sk-toggleable__label {background-color: #d4ebff;}#sk-container-id-3 div.sk-serial::before {content: \"\";position: absolute;border-left: 1px solid gray;box-sizing: border-box;top: 0;bottom: 0;left: 50%;z-index: 0;}#sk-container-id-3 div.sk-serial {display: flex;flex-direction: column;align-items: center;background-color: white;padding-right: 0.2em;padding-left: 0.2em;position: relative;}#sk-container-id-3 div.sk-item {position: relative;z-index: 1;}#sk-container-id-3 div.sk-parallel {display: flex;align-items: stretch;justify-content: center;background-color: white;position: relative;}#sk-container-id-3 div.sk-item::before, #sk-container-id-3 div.sk-parallel-item::before {content: \"\";position: absolute;border-left: 1px solid gray;box-sizing: border-box;top: 0;bottom: 0;left: 50%;z-index: -1;}#sk-container-id-3 div.sk-parallel-item {display: flex;flex-direction: column;z-index: 1;position: relative;background-color: white;}#sk-container-id-3 div.sk-parallel-item:first-child::after {align-self: flex-end;width: 50%;}#sk-container-id-3 div.sk-parallel-item:last-child::after {align-self: flex-start;width: 50%;}#sk-container-id-3 div.sk-parallel-item:only-child::after {width: 0;}#sk-container-id-3 div.sk-dashed-wrapped {border: 1px dashed gray;margin: 0 0.4em 0.5em 0.4em;box-sizing: border-box;padding-bottom: 0.4em;background-color: white;}#sk-container-id-3 div.sk-label label {font-family: monospace;font-weight: bold;display: inline-block;line-height: 1.2em;}#sk-container-id-3 div.sk-label-container {text-align: center;}#sk-container-id-3 div.sk-container {/* jupyter's `normalize.less` sets `[hidden] { display: none; }` but bootstrap.min.css set `[hidden] { display: none !important; }` so we also need the `!important` here to be able to override the default hidden behavior on the sphinx rendered scikit-learn.org. See: https://github.com/scikit-learn/scikit-learn/issues/21755 */display: inline-block !important;position: relative;}#sk-container-id-3 div.sk-text-repr-fallback {display: none;}</style><div id=\"sk-container-id-3\" class=\"sk-top-container\"><div class=\"sk-text-repr-fallback\"><pre>RandomForestClassifier(random_state=42)</pre><b>In a Jupyter environment, please rerun this cell to show the HTML representation or trust the notebook. <br />On GitHub, the HTML representation is unable to render, please try loading this page with nbviewer.org.</b></div><div class=\"sk-container\" hidden><div class=\"sk-item\"><div class=\"sk-estimator sk-toggleable\"><input class=\"sk-toggleable__control sk-hidden--visually\" id=\"sk-estimator-id-3\" type=\"checkbox\" checked><label for=\"sk-estimator-id-3\" class=\"sk-toggleable__label sk-toggleable__label-arrow\">RandomForestClassifier</label><div class=\"sk-toggleable__content\"><pre>RandomForestClassifier(random_state=42)</pre></div></div></div></div></div>"
      ],
      "text/plain": [
       "RandomForestClassifier(random_state=42)"
      ]
     },
     "execution_count": 126,
     "metadata": {},
     "output_type": "execute_result"
    }
   ],
   "source": [
    "lrnr = RandomForestClassifier(n_estimators=100, random_state=42) \n",
    "lrnr.fit(np.stack(X),np.array(y))"
   ]
  },
  {
   "cell_type": "code",
   "execution_count": 127,
   "id": "19317382-0bc4-4acc-9af4-8b3c985c32eb",
   "metadata": {},
   "outputs": [
    {
     "data": {
      "text/plain": [
       "0.8608058608058609"
      ]
     },
     "execution_count": 127,
     "metadata": {},
     "output_type": "execute_result"
    }
   ],
   "source": [
    "np.mean(lrnr.predict(XX) == yy)"
   ]
  },
  {
   "cell_type": "code",
   "execution_count": 129,
   "id": "a9bbeb11-e5fb-44e7-a136-fc31280f2730",
   "metadata": {},
   "outputs": [
    {
     "data": {
      "application/vnd.jupyter.widget-view+json": {
       "model_id": "557c58f271b347a3914f2bcfb07bce24",
       "version_major": 2,
       "version_minor": 0
      },
      "text/plain": [
       "HBox(children=(FloatProgress(value=0.0, description='Computing transition probabilities', max=1605.0, style=Pr…"
      ]
     },
     "metadata": {},
     "output_type": "display_data"
    },
    {
     "name": "stderr",
     "output_type": "stream",
     "text": [
      "Generating walks (CPU: 1):   0%|          | 0/10 [00:00<?, ?it/s]"
     ]
    },
    {
     "name": "stdout",
     "output_type": "stream",
     "text": [
      "\n"
     ]
    },
    {
     "name": "stderr",
     "output_type": "stream",
     "text": [
      "Generating walks (CPU: 1): 100%|██████████| 10/10 [00:04<00:00,  2.45it/s]\n"
     ]
    },
    {
     "ename": "ValueError",
     "evalue": "not enough values to unpack (expected 4, got 2)",
     "output_type": "error",
     "traceback": [
      "\u001b[0;31m---------------------------------------------------------------------------\u001b[0m",
      "\u001b[0;31mValueError\u001b[0m                                Traceback (most recent call last)",
      "Cell \u001b[0;32mIn[129], line 1\u001b[0m\n\u001b[0;32m----> 1\u001b[0m \u001b[43manal\u001b[49m\u001b[43m(\u001b[49m\u001b[43mdown_sample_textbook\u001b[49m\u001b[43m(\u001b[49m\u001b[43mdf\u001b[49m\u001b[43m)\u001b[49m\u001b[43m)\u001b[49m\n",
      "Cell \u001b[0;32mIn[2], line 60\u001b[0m, in \u001b[0;36manal\u001b[0;34m(df)\u001b[0m\n\u001b[1;32m     58\u001b[0m \u001b[38;5;28;01mdef\u001b[39;00m \u001b[38;5;21manal\u001b[39m(df):\n\u001b[1;32m     59\u001b[0m     Graph \u001b[38;5;241m=\u001b[39m build_graph_bipartite(df)\n\u001b[0;32m---> 60\u001b[0m     X,XX,y,yy \u001b[38;5;241m=\u001b[39m embedding(Graph)\n\u001b[1;32m     61\u001b[0m     lrnr \u001b[38;5;241m=\u001b[39m RandomForestClassifier(n_estimators\u001b[38;5;241m=\u001b[39m\u001b[38;5;241m100\u001b[39m, random_state\u001b[38;5;241m=\u001b[39m\u001b[38;5;241m42\u001b[39m) \n\u001b[1;32m     62\u001b[0m     lrnr\u001b[38;5;241m.\u001b[39mfit(X,y)\n",
      "\u001b[0;31mValueError\u001b[0m: not enough values to unpack (expected 4, got 2)"
     ]
    }
   ],
   "source": [
    "anal(down_sample_textbook(df))"
   ]
  },
  {
   "cell_type": "code",
   "execution_count": null,
   "id": "ffd65901-b1c9-4733-a2cf-1e5af0bc8644",
   "metadata": {},
   "outputs": [],
   "source": [
    "anal(down_sample_textbook(our_sampling1(df)))"
   ]
  },
  {
   "cell_type": "code",
   "execution_count": null,
   "id": "29ac2d8e-7c06-4823-9882-f12c9e3a7630",
   "metadata": {},
   "outputs": [],
   "source": []
  }
 ],
 "metadata": {
  "kernelspec": {
   "display_name": "Python 3 (ipykernel)",
   "language": "python",
   "name": "python3"
  },
  "language_info": {
   "codemirror_mode": {
    "name": "ipython",
    "version": 3
   },
   "file_extension": ".py",
   "mimetype": "text/x-python",
   "name": "python",
   "nbconvert_exporter": "python",
   "pygments_lexer": "ipython3",
   "version": "3.8.16"
  }
 },
 "nbformat": 4,
 "nbformat_minor": 5
}
