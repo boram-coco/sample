{
 "cells": [
  {
   "cell_type": "markdown",
   "id": "a5411be5-7052-4f8d-9340-5589d84863d1",
   "metadata": {},
   "source": [
    "# 2023년 학회 발표 준비"
   ]
  },
  {
   "cell_type": "markdown",
   "id": "88195733-c0dc-4e03-b37c-410fcd671b05",
   "metadata": {},
   "source": [
    "## 한국통계학회"
   ]
  },
  {
   "cell_type": "markdown",
   "id": "f4cc2f32-49e0-4674-b14f-6db9e661a195",
   "metadata": {},
   "source": [
    "- 일정:23. 6.29(목) ~ 7.1 (토)\n",
    "\n",
    "- 발표신청 및 초록제출: 3.20.(월) ~ 4.20.(목)\n",
    "\n",
    "- 발표요약본제출(석사과정) : ~4.20.(목)\n",
    "\n",
    "- 포스터파일제출: ~ 5.19.(금)"
   ]
  },
  {
   "cell_type": "markdown",
   "id": "e685b0a8-4fa6-4b6a-a02c-7dbfd7d8c024",
   "metadata": {},
   "source": [
    "## 자료분석학회"
   ]
  },
  {
   "cell_type": "markdown",
   "id": "a361f7b8-1d4b-40cd-9350-1061c1a28d4e",
   "metadata": {},
   "source": [
    "- 이번년도 아직 공지 없음\n",
    "\n",
    "- 하계: 2022. 7.7.(목) ~ 7.8.(금) \n",
    "\n",
    "- 사전등록: 22.5.2.(월) ~ 6.14.(화)\n",
    "\n",
    "- 동계: 2023. 1.26.(목) ~ 1.27.(금) \n",
    "\n",
    "\n",
    "작년에는 5월경 공지뜸"
   ]
  },
  {
   "cell_type": "markdown",
   "id": "c9edfb21-561f-4b74-af4d-46335063e56a",
   "metadata": {},
   "source": [
    "## 한국데이터마이닝학회"
   ]
  },
  {
   "cell_type": "markdown",
   "id": "a4b96ed3-bbdf-4fc0-879f-8d3d30ed3b69",
   "metadata": {},
   "source": [
    "- 아직 공고 안뜸\n",
    "\n",
    "- 하계/추계로 나누어서\n",
    "\n",
    "- 작년공고는 4.22에 뜸\n",
    "\n",
    "- 22.8.26.~ 8.27.\n",
    "\n",
    "- 초록제출 ~ 22.6.30."
   ]
  },
  {
   "cell_type": "markdown",
   "id": "d4125986-ec9f-436c-bda6-65702e5359a0",
   "metadata": {},
   "source": [
    "# 논문 작성시"
   ]
  },
  {
   "cell_type": "markdown",
   "id": "ba9c7bb4-9eb2-406f-aec2-87a570666ca5",
   "metadata": {},
   "source": [
    "1. 분포가 비슷한지\n",
    "ex) 나이가 20인데 164 이렇게 바꾸면 이상함 "
   ]
  },
  {
   "cell_type": "markdown",
   "id": "067ced56-38a7-4d94-ae35-3220615419d5",
   "metadata": {},
   "source": [
    "2. 유추할 수 없게끔"
   ]
  },
  {
   "cell_type": "markdown",
   "id": "2603e6b6-cc2d-4858-96dc-86b2933ea2cf",
   "metadata": {},
   "source": [
    "비식별화 하자"
   ]
  },
  {
   "cell_type": "markdown",
   "id": "fba1c789-7615-4b14-8b3f-2c21c6634b0d",
   "metadata": {},
   "source": [
    "3. 논문에서 실험을 비교하는 거 보면 데이터셋을 확보해야함 데이터셋을 확보하자!!"
   ]
  },
  {
   "cell_type": "markdown",
   "id": "06c51903-6391-4d12-8c1f-527acbc9b830",
   "metadata": {},
   "source": [
    "4. 한글논문 먼저 읽기"
   ]
  },
  {
   "cell_type": "markdown",
   "id": "2bead270-3034-4f29-98d9-e318d13c2037",
   "metadata": {},
   "source": [
    "5. 일정 나오면 바로 교수님께 연락드리기"
   ]
  },
  {
   "cell_type": "markdown",
   "id": "5c1691c7-5445-4e0a-a310-087a4ade3e25",
   "metadata": {},
   "source": [
    "# 공개데이터셋 구하기"
   ]
  },
  {
   "cell_type": "markdown",
   "id": "58a4cb94-90c9-47ca-a9bf-5b5d6c6e51ce",
   "metadata": {},
   "source": [
    "1. [Kaggle; 데이터 과학 및 기계 학습 커뮤니티](https://www.kaggle.com/datasets)\n",
    "\n",
    "- [customers](https://www.kaggle.com/datasets/datascientistanna/customers-dataset?resource=download)\n",
    "\n",
    "2. [UCI Machine Learning Repository](https://archive.ics.uci.edu/ml/index.php)\n",
    "3. [Google Dataset Search](https://datasetsearch.research.google.com/)\n",
    "4. AWS Public Dataset: 아마존 웹 서비스\n",
    "5. [공공데이터포털](https://www.data.go.kr)\n",
    "- [국민건강보험공단_건강검진정보)(https://www.kaggle.com/datasets/datascientistanna/customers-dataset?resource=download)\n",
    "6. [한국소비자원](https://www.consumer.go.kr)\n",
    "7. [한국은행 경제통계시스템](https://ecos.bok.or.kr)"
   ]
  },
  {
   "cell_type": "code",
   "execution_count": null,
   "id": "eb523dc0-34ae-469b-8e8e-eca36bd0b629",
   "metadata": {},
   "outputs": [],
   "source": []
  }
 ],
 "metadata": {
  "kernelspec": {
   "display_name": "Python 3",
   "language": "python",
   "name": "python3"
  },
  "language_info": {
   "codemirror_mode": {
    "name": "ipython",
    "version": 3
   },
   "file_extension": ".py",
   "mimetype": "text/x-python",
   "name": "python",
   "nbconvert_exporter": "python",
   "pygments_lexer": "ipython3",
   "version": "3.8.16"
  }
 },
 "nbformat": 4,
 "nbformat_minor": 5
}
