{
 "cells": [
  {
   "cell_type": "markdown",
   "id": "a5411be5-7052-4f8d-9340-5589d84863d1",
   "metadata": {},
   "source": [
    "# 2023년 학회 발표 준비"
   ]
  },
  {
   "cell_type": "markdown",
   "id": "88195733-c0dc-4e03-b37c-410fcd671b05",
   "metadata": {},
   "source": [
    "## 한국통계학회"
   ]
  },
  {
   "cell_type": "markdown",
   "id": "f4cc2f32-49e0-4674-b14f-6db9e661a195",
   "metadata": {},
   "source": [
    "- 일정:23. 6.29(목) ~ 7.1 (토)\n",
    "\n",
    "- 장소: 부경대학교(부산)\n",
    "\n",
    "- 발표신청 및 초록제출: 3.20.(월) ~ 4.20.(목)\n",
    "\n",
    "- 발표요약본제출(석사과정) : ~4.20.(목)\n",
    "\n",
    "- 포스터파일제출: ~ 5.19.(금)"
   ]
  },
  {
   "cell_type": "markdown",
   "id": "e685b0a8-4fa6-4b6a-a02c-7dbfd7d8c024",
   "metadata": {},
   "source": [
    "## 자료분석학회"
   ]
  },
  {
   "cell_type": "markdown",
   "id": "a361f7b8-1d4b-40cd-9350-1061c1a28d4e",
   "metadata": {},
   "source": [
    "- 하계: 2023. 7.6.(목) ~ 7.7.(금) \n",
    "\n",
    "- 고려대학교\n",
    "\n",
    "- 발표신청 및 사전등록: 23.5.29.(월)\n",
    "\n",
    "- 초록 또는 논문제출: ~5.31.(수)"
   ]
  },
  {
   "cell_type": "markdown",
   "id": "c9edfb21-561f-4b74-af4d-46335063e56a",
   "metadata": {},
   "source": [
    "## 한국데이터마이닝학회"
   ]
  },
  {
   "cell_type": "markdown",
   "id": "a4b96ed3-bbdf-4fc0-879f-8d3d30ed3b69",
   "metadata": {},
   "source": [
    "- 일정: 6.23.(금) ~ 6.24.(토)\n",
    "\n",
    "- 장소: 강릉원주대학교\n",
    "\n",
    "- 발표논문 초록 제출: ~5.5.(금)\n",
    "\n",
    "- 발표 논문 제출: ~6.16.(금)\n",
    "\n",
    "- 학생논문: ~6.9.(금)"
   ]
  },
  {
   "cell_type": "markdown",
   "id": "d4125986-ec9f-436c-bda6-65702e5359a0",
   "metadata": {},
   "source": [
    "# 논문 작성시"
   ]
  },
  {
   "cell_type": "markdown",
   "id": "ba9c7bb4-9eb2-406f-aec2-87a570666ca5",
   "metadata": {},
   "source": [
    "1. 분포가 비슷한지\n",
    "ex) 나이가 20인데 164 이렇게 바꾸면 이상함 "
   ]
  },
  {
   "cell_type": "markdown",
   "id": "067ced56-38a7-4d94-ae35-3220615419d5",
   "metadata": {},
   "source": [
    "2. 유추할 수 없게끔"
   ]
  },
  {
   "cell_type": "markdown",
   "id": "2603e6b6-cc2d-4858-96dc-86b2933ea2cf",
   "metadata": {},
   "source": [
    "비식별화 하자"
   ]
  },
  {
   "cell_type": "markdown",
   "id": "fba1c789-7615-4b14-8b3f-2c21c6634b0d",
   "metadata": {},
   "source": [
    "3. 논문에서 실험을 비교하는 거 보면 데이터셋을 확보해야함 데이터셋을 확보하자!!"
   ]
  },
  {
   "cell_type": "markdown",
   "id": "06c51903-6391-4d12-8c1f-527acbc9b830",
   "metadata": {},
   "source": [
    "4. 한글논문 먼저 읽기"
   ]
  },
  {
   "cell_type": "markdown",
   "id": "5c1691c7-5445-4e0a-a310-087a4ade3e25",
   "metadata": {},
   "source": [
    "# 공개데이터셋 구하기"
   ]
  },
  {
   "cell_type": "markdown",
   "id": "58a4cb94-90c9-47ca-a9bf-5b5d6c6e51ce",
   "metadata": {},
   "source": [
    "1. [Kaggle; 데이터 과학 및 기계 학습 커뮤니티](https://www.kaggle.com/datasets)\n",
    "\n",
    "- [customers](https://www.kaggle.com/datasets/datascientistanna/customers-dataset?resource=download)\n",
    "- [heart](https://www.kaggle.com/datasets/rashikrahmanpritom/heart-attack-analysis-prediction-dataset)\n",
    "2. [UCI Machine Learning Repository](https://archive.ics.uci.edu/ml/index.php)\n",
    "3. [Google Dataset Search](https://datasetsearch.research.google.com/)\n",
    "4. AWS Public Dataset: 아마존 웹 서비스\n",
    "5. [공공데이터포털](https://www.data.go.kr)\n",
    "- [국민건강보험공단_건강검진정보](https://www.kaggle.com/datasets/datascientistanna/customers-dataset?resource=download)\n",
    "6. [한국소비자원](https://www.consumer.go.kr)\n",
    "7. [한국은행 경제통계시스템](https://ecos.bok.or.kr)"
   ]
  },
  {
   "cell_type": "markdown",
   "id": "9d35a298-bad0-4a40-bcab-79f8ca111593",
   "metadata": {},
   "source": [
    "\n",
    "\n",
    "R패키지 사용하여 구현하는것\n",
    "- 예제를 돌려보기"
   ]
  },
  {
   "cell_type": "markdown",
   "id": "b7a22688-a053-4f33-9041-a5fcfc0ed3dc",
   "metadata": {},
   "source": [
    "- 기존 전국 사업체 조사"
   ]
  },
  {
   "cell_type": "markdown",
   "id": "4a425097-e92a-4106-8e68-bd4f712a268a",
   "metadata": {},
   "source": [
    "- 뒤의 시뮬레이션 "
   ]
  },
  {
   "cell_type": "markdown",
   "id": "0f355da7-18fd-4526-bbbc-5b6303b82f25",
   "metadata": {},
   "source": [
    "needleworm.github.io/dataset/"
   ]
  },
  {
   "cell_type": "markdown",
   "id": "34d7a6c1-467e-4f77-9a7f-fb5fe1286ec3",
   "metadata": {},
   "source": [
    "위에서 관심있는거 있으면 읽어보고 주제로 잡기"
   ]
  },
  {
   "cell_type": "markdown",
   "id": "a00bdde8-2dba-406b-bb10-78d4e8fe3210",
   "metadata": {},
   "source": [
    "\n",
    "1. 그래프신호\n",
    "- 자료형태가 노드랑 엣지.. 값이 되어잇음 \n",
    "- 시계열자료 : 순서대로 연결\n",
    "- 이미지자료\n",
    "- 그래프자료(시공간,타임이팩트[투표결과/기상자료/교통자료])\n",
    "\n",
    "그래프신호에서 underlying function을 찾는 연구주제가 이씅ㅁ\n",
    "\n",
    "\n",
    "2. 그래프 클러스터링 \n",
    "그룹핑\n",
    "\n",
    "3. 음성신호\n",
    "(lstm 혹은 음악소리듣고.. 분석)\n",
    "\n",
    "4. 태양광\n",
    "\n",
    "원래 회귀분석에서는 xp+1 인데 여기서는 더하는게 아니라 곱세믕로 표시됨ㄴ다??\n",
    "\n",
    "5. 시계열분류\n",
    "\n"
   ]
  },
  {
   "cell_type": "code",
   "execution_count": null,
   "id": "d1e556c8-62ca-4837-9c5d-f2708aa65051",
   "metadata": {},
   "outputs": [],
   "source": []
  },
  {
   "cell_type": "code",
   "execution_count": null,
   "id": "11e66083-43db-424b-9a4f-61ccd31c7423",
   "metadata": {},
   "outputs": [],
   "source": []
  },
  {
   "cell_type": "code",
   "execution_count": null,
   "id": "e0edfe53-3def-410f-816b-5a0c9be36faa",
   "metadata": {},
   "outputs": [],
   "source": []
  },
  {
   "cell_type": "markdown",
   "id": "853abdd1-95ad-45ce-b81b-ff875276725e",
   "metadata": {},
   "source": [
    "신용카드에 대한 데이터 분석\n",
    "데이터=신용카드 거래\n",
    "정상적인 거래인지/비정상적인 거래인지 라벨링이 되어이ㅇ서엇 그 모형 설명이 되어잇덩..\n",
    "\n",
    "약점-> \n",
    "\n",
    "논문을 쓰려면 약점을 8장을 따라가고\n",
    "\n",
    "정사인 케이스가 맞는데 정상/비정상 클래스피케이셔날때\n",
    "\n",
    "정상인 데이터->1000건->샘플링 100건\n",
    "비정상데이터 100건\n",
    "\n",
    "\n",
    "smapling하는 방법\n"
   ]
  },
  {
   "cell_type": "code",
   "execution_count": null,
   "id": "ec26f356-b07b-40ae-ba9c-b7be61d445a2",
   "metadata": {},
   "outputs": [],
   "source": []
  }
 ],
 "metadata": {
  "kernelspec": {
   "display_name": "Python 3 (ipykernel)",
   "language": "python",
   "name": "python3"
  },
  "language_info": {
   "codemirror_mode": {
    "name": "ipython",
    "version": 3
   },
   "file_extension": ".py",
   "mimetype": "text/x-python",
   "name": "python",
   "nbconvert_exporter": "python",
   "pygments_lexer": "ipython3",
   "version": "3.8.16"
  }
 },
 "nbformat": 4,
 "nbformat_minor": 5
}
