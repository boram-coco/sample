{
 "cells": [
  {
   "cell_type": "markdown",
   "id": "1b3af0b5-ca58-4e46-8682-a37095274fbd",
   "metadata": {},
   "source": [
    "## imports "
   ]
  },
  {
   "cell_type": "code",
   "execution_count": 1,
   "id": "899f5545-1e46-4d42-97a6-d4f41a1980d6",
   "metadata": {},
   "outputs": [],
   "source": [
    "import numpy as np\n",
    "import pandas as pd\n",
    "import networkx as nx\n",
    "import sklearn\n",
    "\n",
    "# split \n",
    "from sklearn.model_selection import train_test_split\n",
    "\n",
    "# embedding \n",
    "from node2vec import Node2Vec\n",
    "from node2vec.edges import HadamardEmbedder, AverageEmbedder, WeightedL1Embedder, WeightedL2Embedder\n",
    "\n",
    "# models \n",
    "from sklearn.ensemble import RandomForestClassifier \n",
    "\n",
    "# 평가 \n",
    "from sklearn import metrics \n"
   ]
  },
  {
   "cell_type": "code",
   "execution_count": 2,
   "id": "ad688491-89ce-4f1e-a848-b6adcdea37bd",
   "metadata": {},
   "outputs": [],
   "source": [
    "def build_graph_bipartite(df_input, graph_type=nx.Graph()):\n",
    "    df=df_input.copy()\n",
    "    mapping={x:node_id for node_id, x in enumerate(set(df[\"cc_num\"].values.tolist()+\\\n",
    "                                                      df[\"merchant\"].values.tolist()))}\n",
    "    \n",
    "    df[\"from\"]=df[\"cc_num\"].apply(lambda x:mapping[x])  #엣지의 출발점\n",
    "    df[\"to\"]=df[\"merchant\"].apply(lambda x:mapping[x])  #엣지의 도착점\n",
    "    \n",
    "    df = df[['from', 'to', \"amt\", \"is_fraud\"]].groupby(['from','to']).agg({\"is_fraud\":\"sum\",\"amt\":\"sum\"}).reset_index()\n",
    "    df[\"is_fraud\"]=df[\"is_fraud\"].apply(lambda x:1 if x>0 else 0)\n",
    "    \n",
    "    G=nx.from_edgelist(df[[\"from\",\"to\"]].values, create_using=graph_type)\n",
    "    \n",
    "    nx.set_edge_attributes(G, {(int(x[\"from\"]),int(x[\"to\"])):x[\"is_fraud\"] for idx, x in df[[\"from\",\"to\",\"is_fraud\"]].iterrows()}, \"label\")  #엣지 속성 설정,각 속성의 사기 여부부 \n",
    "    \n",
    "    nx.set_edge_attributes(G,{(int(x[\"from\"]),int(x[\"to\"])):x[\"amt\"] for idx,x in df[[\"from\",\"to\",\"amt\"]].iterrows()}, \"weight\") # 엣지 속성 설정, 각 엣지의 거래 금액\n",
    "\n",
    "    return G\n",
    "\n",
    "def down_sample_textbook(df):\n",
    "    df = df[df[\"is_fraud\"]==0].sample(frac=0.20, random_state=42).append(df[df[\"is_fraud\"] == 1])\n",
    "    df_majority = df[df.is_fraud==0]\n",
    "    df_minority = df[df.is_fraud==1]\n",
    "    df_maj_dowsampled = sklearn.utils.resample(df_majority, n_samples=len(df_minority), random_state=42)\n",
    "    df_downsampled = pd.concat([df_minority, df_maj_dowsampled])\n",
    "    return df_downsampled\n",
    "\n",
    "def split(Graph,test_size=0.20,random_state=42):\n",
    "    edg = list(range(len(Graph.edges))) \n",
    "    edg_att = list(nx.get_edge_attributes(Graph, \"label\").values())\n",
    "    return train_test_split(edg,edg_att,test_size=test_size,random_state=random_state) \n",
    "\n",
    "def embedding(Graph):\n",
    "    _edgs = list(Graph.edges)\n",
    "    _train_edges, _test_edges, y, yy = split(Graph)\n",
    "    _train_graph = Graph.edge_subgraph([_edgs[x] for x in _train_edges]).copy()\n",
    "    _train_graph.add_nodes_from(list(set(Graph.nodes) - set(_train_graph.nodes)))\n",
    "    _embedded = AverageEmbedder(Node2Vec(_train_graph, weight_key='weight').fit(window=10).wv)\n",
    "    X = [_embedded[str(_edgs[x][0]), str(_edgs[x][1])] for x in _train_edges]\n",
    "    XX = [_embedded[str(_edgs[x][0]), str(_edgs[x][1])] for x in _test_edges]\n",
    "    return X,XX,y,yy \n",
    "\n",
    "def evaluate(lrnr,XX,yy):\n",
    "    yyhat = lrnr.predict(XX)\n",
    "    df = pd.DataFrame({'pre':[sklearn.metrics.precision_score(yy,yyhat)], \n",
    "                  'rec':[sklearn.metrics.recall_score(yy,yyhat)],\n",
    "                  'f1':[sklearn.metrics.f1_score(yy,yyhat)]})\n",
    "    return df \n",
    "\n",
    "def anal(df,n_estimators=10):\n",
    "    Graph = build_graph_bipartite(df)\n",
    "    X,XX,y,yy = embedding(Graph)\n",
    "    lrnr = RandomForestClassifier(n_estimators=n_estimators, random_state=42) \n",
    "    lrnr.fit(X,y)\n",
    "    return lrnr, XX,yy, evaluate(lrnr,XX,yy)\n",
    "\n",
    "def our_sampling1(df):\n",
    "    cus_list = set(df.query('is_fraud==1').cc_num.tolist())\n",
    "    return df.query(\"cc_num in @ cus_list\")"
   ]
  },
  {
   "cell_type": "markdown",
   "id": "8fda4c4b-53d4-44be-8553-8c3fad4d72ed",
   "metadata": {},
   "source": [
    "# data1 "
   ]
  },
  {
   "cell_type": "markdown",
   "id": "cbb27881-459f-4a48-b7fd-b623e174b3d3",
   "metadata": {},
   "source": [
    "## read and define data "
   ]
  },
  {
   "cell_type": "code",
   "execution_count": 3,
   "id": "5ff6f459-ddcc-4e40-8aff-f274cc99620a",
   "metadata": {},
   "outputs": [
    {
     "data": {
      "text/html": [
       "<div>\n",
       "<style scoped>\n",
       "    .dataframe tbody tr th:only-of-type {\n",
       "        vertical-align: middle;\n",
       "    }\n",
       "\n",
       "    .dataframe tbody tr th {\n",
       "        vertical-align: top;\n",
       "    }\n",
       "\n",
       "    .dataframe thead th {\n",
       "        text-align: right;\n",
       "    }\n",
       "</style>\n",
       "<table border=\"1\" class=\"dataframe\">\n",
       "  <thead>\n",
       "    <tr style=\"text-align: right;\">\n",
       "      <th></th>\n",
       "      <th>Unnamed: 0</th>\n",
       "      <th>trans_date_trans_time</th>\n",
       "      <th>cc_num</th>\n",
       "      <th>merchant</th>\n",
       "      <th>category</th>\n",
       "      <th>amt</th>\n",
       "      <th>first</th>\n",
       "      <th>last</th>\n",
       "      <th>gender</th>\n",
       "      <th>street</th>\n",
       "      <th>...</th>\n",
       "      <th>lat</th>\n",
       "      <th>long</th>\n",
       "      <th>city_pop</th>\n",
       "      <th>job</th>\n",
       "      <th>dob</th>\n",
       "      <th>trans_num</th>\n",
       "      <th>unix_time</th>\n",
       "      <th>merch_lat</th>\n",
       "      <th>merch_long</th>\n",
       "      <th>is_fraud</th>\n",
       "    </tr>\n",
       "  </thead>\n",
       "  <tbody>\n",
       "    <tr>\n",
       "      <th>669418</th>\n",
       "      <td>669418</td>\n",
       "      <td>2019-10-12 18:21</td>\n",
       "      <td>4.089100e+18</td>\n",
       "      <td>fraud_Haley, Jewess and Bechtelar</td>\n",
       "      <td>shopping_pos</td>\n",
       "      <td>7.53</td>\n",
       "      <td>Debra</td>\n",
       "      <td>Stark</td>\n",
       "      <td>F</td>\n",
       "      <td>686 Linda Rest</td>\n",
       "      <td>...</td>\n",
       "      <td>32.3836</td>\n",
       "      <td>-94.8653</td>\n",
       "      <td>24536</td>\n",
       "      <td>Multimedia programmer</td>\n",
       "      <td>1983-10-14</td>\n",
       "      <td>d313353fa30233e5fab5468e852d22fc</td>\n",
       "      <td>1350066071</td>\n",
       "      <td>32.202008</td>\n",
       "      <td>-94.371865</td>\n",
       "      <td>0</td>\n",
       "    </tr>\n",
       "    <tr>\n",
       "      <th>32567</th>\n",
       "      <td>32567</td>\n",
       "      <td>2019-01-20 13:06</td>\n",
       "      <td>4.247920e+12</td>\n",
       "      <td>fraud_Turner LLC</td>\n",
       "      <td>travel</td>\n",
       "      <td>3.79</td>\n",
       "      <td>Judith</td>\n",
       "      <td>Moss</td>\n",
       "      <td>F</td>\n",
       "      <td>46297 Benjamin Plains Suite 703</td>\n",
       "      <td>...</td>\n",
       "      <td>39.5370</td>\n",
       "      <td>-83.4550</td>\n",
       "      <td>22305</td>\n",
       "      <td>Television floor manager</td>\n",
       "      <td>1939-03-09</td>\n",
       "      <td>88c65b4e1585934d578511e627fe3589</td>\n",
       "      <td>1327064760</td>\n",
       "      <td>39.156673</td>\n",
       "      <td>-82.930503</td>\n",
       "      <td>0</td>\n",
       "    </tr>\n",
       "    <tr>\n",
       "      <th>156587</th>\n",
       "      <td>156587</td>\n",
       "      <td>2019-03-24 18:09</td>\n",
       "      <td>4.026220e+12</td>\n",
       "      <td>fraud_Klein Group</td>\n",
       "      <td>entertainment</td>\n",
       "      <td>59.07</td>\n",
       "      <td>Debbie</td>\n",
       "      <td>Payne</td>\n",
       "      <td>F</td>\n",
       "      <td>204 Ashley Neck Apt. 169</td>\n",
       "      <td>...</td>\n",
       "      <td>41.5224</td>\n",
       "      <td>-71.9934</td>\n",
       "      <td>4720</td>\n",
       "      <td>Broadcast presenter</td>\n",
       "      <td>1977-05-18</td>\n",
       "      <td>3bd9ede04b5c093143d5e5292940b670</td>\n",
       "      <td>1332612553</td>\n",
       "      <td>41.657152</td>\n",
       "      <td>-72.595751</td>\n",
       "      <td>0</td>\n",
       "    </tr>\n",
       "    <tr>\n",
       "      <th>1020243</th>\n",
       "      <td>1020243</td>\n",
       "      <td>2020-02-25 15:12</td>\n",
       "      <td>4.957920e+12</td>\n",
       "      <td>fraud_Monahan-Morar</td>\n",
       "      <td>personal_care</td>\n",
       "      <td>25.58</td>\n",
       "      <td>Alan</td>\n",
       "      <td>Parsons</td>\n",
       "      <td>M</td>\n",
       "      <td>0547 Russell Ford Suite 574</td>\n",
       "      <td>...</td>\n",
       "      <td>39.6171</td>\n",
       "      <td>-102.4776</td>\n",
       "      <td>207</td>\n",
       "      <td>Network engineer</td>\n",
       "      <td>1955-12-04</td>\n",
       "      <td>19e16ee7a01d229e750359098365e321</td>\n",
       "      <td>1361805120</td>\n",
       "      <td>39.080346</td>\n",
       "      <td>-103.213452</td>\n",
       "      <td>0</td>\n",
       "    </tr>\n",
       "    <tr>\n",
       "      <th>116272</th>\n",
       "      <td>116272</td>\n",
       "      <td>2019-03-06 23:19</td>\n",
       "      <td>4.178100e+15</td>\n",
       "      <td>fraud_Kozey-Kuhlman</td>\n",
       "      <td>personal_care</td>\n",
       "      <td>84.96</td>\n",
       "      <td>Jill</td>\n",
       "      <td>Flores</td>\n",
       "      <td>F</td>\n",
       "      <td>639 Cruz Islands</td>\n",
       "      <td>...</td>\n",
       "      <td>41.9488</td>\n",
       "      <td>-86.4913</td>\n",
       "      <td>3104</td>\n",
       "      <td>Horticulturist, commercial</td>\n",
       "      <td>1981-03-29</td>\n",
       "      <td>a0c8641ca1f5d6e243ed5a2246e66176</td>\n",
       "      <td>1331075954</td>\n",
       "      <td>42.502065</td>\n",
       "      <td>-86.732664</td>\n",
       "      <td>0</td>\n",
       "    </tr>\n",
       "  </tbody>\n",
       "</table>\n",
       "<p>5 rows × 23 columns</p>\n",
       "</div>"
      ],
      "text/plain": [
       "         Unnamed: 0 trans_date_trans_time        cc_num  \\\n",
       "669418       669418      2019-10-12 18:21  4.089100e+18   \n",
       "32567         32567      2019-01-20 13:06  4.247920e+12   \n",
       "156587       156587      2019-03-24 18:09  4.026220e+12   \n",
       "1020243     1020243      2020-02-25 15:12  4.957920e+12   \n",
       "116272       116272      2019-03-06 23:19  4.178100e+15   \n",
       "\n",
       "                                  merchant       category    amt   first  \\\n",
       "669418   fraud_Haley, Jewess and Bechtelar   shopping_pos   7.53   Debra   \n",
       "32567                     fraud_Turner LLC         travel   3.79  Judith   \n",
       "156587                   fraud_Klein Group  entertainment  59.07  Debbie   \n",
       "1020243                fraud_Monahan-Morar  personal_care  25.58    Alan   \n",
       "116272                 fraud_Kozey-Kuhlman  personal_care  84.96    Jill   \n",
       "\n",
       "            last gender                           street  ...      lat  \\\n",
       "669418     Stark      F                   686 Linda Rest  ...  32.3836   \n",
       "32567       Moss      F  46297 Benjamin Plains Suite 703  ...  39.5370   \n",
       "156587     Payne      F         204 Ashley Neck Apt. 169  ...  41.5224   \n",
       "1020243  Parsons      M      0547 Russell Ford Suite 574  ...  39.6171   \n",
       "116272    Flores      F                 639 Cruz Islands  ...  41.9488   \n",
       "\n",
       "             long  city_pop                         job         dob  \\\n",
       "669418   -94.8653     24536       Multimedia programmer  1983-10-14   \n",
       "32567    -83.4550     22305    Television floor manager  1939-03-09   \n",
       "156587   -71.9934      4720         Broadcast presenter  1977-05-18   \n",
       "1020243 -102.4776       207            Network engineer  1955-12-04   \n",
       "116272   -86.4913      3104  Horticulturist, commercial  1981-03-29   \n",
       "\n",
       "                                trans_num   unix_time  merch_lat  merch_long  \\\n",
       "669418   d313353fa30233e5fab5468e852d22fc  1350066071  32.202008  -94.371865   \n",
       "32567    88c65b4e1585934d578511e627fe3589  1327064760  39.156673  -82.930503   \n",
       "156587   3bd9ede04b5c093143d5e5292940b670  1332612553  41.657152  -72.595751   \n",
       "1020243  19e16ee7a01d229e750359098365e321  1361805120  39.080346 -103.213452   \n",
       "116272   a0c8641ca1f5d6e243ed5a2246e66176  1331075954  42.502065  -86.732664   \n",
       "\n",
       "         is_fraud  \n",
       "669418          0  \n",
       "32567           0  \n",
       "156587          0  \n",
       "1020243         0  \n",
       "116272          0  \n",
       "\n",
       "[5 rows x 23 columns]"
      ]
     },
     "execution_count": 3,
     "metadata": {},
     "output_type": "execute_result"
    }
   ],
   "source": [
    "df = pd.read_csv(\"~/Desktop/fraudTrain.csv\")"
   ]
  },
  {
   "cell_type": "code",
   "execution_count": 4,
   "id": "0e8d498f-97da-4442-8272-7bf7637e3917",
   "metadata": {},
   "outputs": [],
   "source": [
    "# df_downsampled = down_sample_textbook(df)"
   ]
  },
  {
   "cell_type": "markdown",
   "id": "9576723d-0336-4345-9ab9-641327d635fd",
   "metadata": {},
   "source": [
    "## embedding "
   ]
  },
  {
   "cell_type": "code",
   "execution_count": 5,
   "id": "f87e5ee8-80ae-479e-a0fd-ddcdef0f1d53",
   "metadata": {},
   "outputs": [],
   "source": [
    "#G_down = build_graph_bipartite(df_downsampled)"
   ]
  },
  {
   "cell_type": "code",
   "execution_count": 6,
   "id": "cb9633ac-295f-40c8-b92c-6889a5486975",
   "metadata": {},
   "outputs": [],
   "source": [
    "# X,XX,y,yy = embedding(G_down)"
   ]
  },
  {
   "cell_type": "markdown",
   "id": "68d57937-7316-44ce-85b4-6cb8c66717e5",
   "metadata": {},
   "source": [
    "## learn "
   ]
  },
  {
   "cell_type": "code",
   "execution_count": 7,
   "id": "51b33ad3-b39f-4c08-b512-5378b3000442",
   "metadata": {},
   "outputs": [],
   "source": [
    "# lrnr = RandomForestClassifier(n_estimators=10, random_state=42) \n",
    "# lrnr.fit(X,y)"
   ]
  },
  {
   "cell_type": "markdown",
   "id": "335369ea-5326-4b93-9921-5c9c12481cf0",
   "metadata": {},
   "source": [
    "## evaluate "
   ]
  },
  {
   "cell_type": "code",
   "execution_count": 8,
   "id": "c0a335c8-7687-40e1-868d-b620f19f8745",
   "metadata": {},
   "outputs": [],
   "source": [
    "# evaluate(lrnr,XX,yy)"
   ]
  },
  {
   "cell_type": "markdown",
   "id": "da08038b-596c-4ef4-a575-0d7aa6a08cf8",
   "metadata": {},
   "source": [
    "--- "
   ]
  },
  {
   "cell_type": "markdown",
   "id": "5e877c1a-40c5-439a-8cbc-2e3cc4466026",
   "metadata": {},
   "source": [
    "# data1 : 다른코드 "
   ]
  },
  {
   "cell_type": "code",
   "execution_count": 9,
   "id": "d54feaa8-cabf-418b-a4af-a3adc928f91f",
   "metadata": {},
   "outputs": [
    {
     "data": {
      "application/vnd.jupyter.widget-view+json": {
       "model_id": "47c48fe3714d41b3860cb9ed671726a3",
       "version_major": 2,
       "version_minor": 0
      },
      "text/plain": [
       "HBox(children=(FloatProgress(value=0.0, description='Computing transition probabilities', max=1624.0, style=Pr…"
      ]
     },
     "metadata": {},
     "output_type": "display_data"
    },
    {
     "name": "stderr",
     "output_type": "stream",
     "text": [
      "Generating walks (CPU: 1):   0%|          | 0/10 [00:00<?, ?it/s]"
     ]
    },
    {
     "name": "stdout",
     "output_type": "stream",
     "text": [
      "\n"
     ]
    },
    {
     "name": "stderr",
     "output_type": "stream",
     "text": [
      "Generating walks (CPU: 1): 100%|██████████| 10/10 [00:04<00:00,  2.42it/s]\n"
     ]
    }
   ],
   "source": [
    "lrnr1, XX_textbook, yy_texbook, results = anal(down_sample_textbook(df),n_estimators=100)"
   ]
  },
  {
   "cell_type": "markdown",
   "id": "710488e5-c379-47d4-8d72-1f6714924e98",
   "metadata": {},
   "source": [
    "# data2 "
   ]
  },
  {
   "cell_type": "markdown",
   "id": "076644ec-18c2-4007-aec9-1c1cbc339a34",
   "metadata": {},
   "source": [
    "## read and define data "
   ]
  },
  {
   "cell_type": "code",
   "execution_count": 26,
   "id": "eeadbb6e-e96f-4627-aca0-d93d5ebd26d8",
   "metadata": {},
   "outputs": [
    {
     "data": {
      "application/vnd.jupyter.widget-view+json": {
       "model_id": "e74e66a4c5f041159c4df840a772d10a",
       "version_major": 2,
       "version_minor": 0
      },
      "text/plain": [
       "HBox(children=(FloatProgress(value=0.0, description='Computing transition probabilities', max=1288.0, style=Pr…"
      ]
     },
     "metadata": {},
     "output_type": "display_data"
    },
    {
     "name": "stderr",
     "output_type": "stream",
     "text": [
      "Generating walks (CPU: 1):   0%|          | 0/10 [00:00<?, ?it/s]"
     ]
    },
    {
     "name": "stdout",
     "output_type": "stream",
     "text": [
      "\n"
     ]
    },
    {
     "name": "stderr",
     "output_type": "stream",
     "text": [
      "Generating walks (CPU: 1): 100%|██████████| 10/10 [00:03<00:00,  3.01it/s]\n"
     ]
    }
   ],
   "source": [
    "df = pd.read_csv(\"~/Desktop/fraudTrain.csv\")\n",
    "lrnr2, _,_,_ = anal(down_sample_textbook(our_sampling1(df)),n_estimators=100)"
   ]
  },
  {
   "cell_type": "markdown",
   "id": "8c3d9acc-80e9-4568-b0a1-71f76d24cb4d",
   "metadata": {},
   "source": [
    "# textbook vs proposed "
   ]
  },
  {
   "cell_type": "code",
   "execution_count": 27,
   "id": "9c8800b3-c27f-4498-9ccc-0c3008556f63",
   "metadata": {},
   "outputs": [],
   "source": [
    "yyhat_textbook = lrnr1.predict(XX_textbook)\n",
    "yyhat_proposed = lrnr2.predict(XX_textbook)"
   ]
  },
  {
   "cell_type": "code",
   "execution_count": 28,
   "id": "445f21ee-072f-4ab9-b8e5-268260dea419",
   "metadata": {},
   "outputs": [
    {
     "data": {
      "text/html": [
       "<div>\n",
       "<style scoped>\n",
       "    .dataframe tbody tr th:only-of-type {\n",
       "        vertical-align: middle;\n",
       "    }\n",
       "\n",
       "    .dataframe tbody tr th {\n",
       "        vertical-align: top;\n",
       "    }\n",
       "\n",
       "    .dataframe thead th {\n",
       "        text-align: right;\n",
       "    }\n",
       "</style>\n",
       "<table border=\"1\" class=\"dataframe\">\n",
       "  <thead>\n",
       "    <tr style=\"text-align: right;\">\n",
       "      <th></th>\n",
       "      <th>pre</th>\n",
       "      <th>rec</th>\n",
       "      <th>f1</th>\n",
       "    </tr>\n",
       "  </thead>\n",
       "  <tbody>\n",
       "    <tr>\n",
       "      <th>0</th>\n",
       "      <td>0.691654</td>\n",
       "      <td>0.761054</td>\n",
       "      <td>0.724696</td>\n",
       "    </tr>\n",
       "  </tbody>\n",
       "</table>\n",
       "</div>"
      ],
      "text/plain": [
       "        pre       rec        f1\n",
       "0  0.691654  0.761054  0.724696"
      ]
     },
     "execution_count": 28,
     "metadata": {},
     "output_type": "execute_result"
    }
   ],
   "source": [
    "evaluate(lrnr1, XX_textbook,yy_texbook)"
   ]
  },
  {
   "cell_type": "code",
   "execution_count": 29,
   "id": "28d36c39-5843-4cfc-87ba-136a4c4e6223",
   "metadata": {},
   "outputs": [
    {
     "data": {
      "text/html": [
       "<div>\n",
       "<style scoped>\n",
       "    .dataframe tbody tr th:only-of-type {\n",
       "        vertical-align: middle;\n",
       "    }\n",
       "\n",
       "    .dataframe tbody tr th {\n",
       "        vertical-align: top;\n",
       "    }\n",
       "\n",
       "    .dataframe thead th {\n",
       "        text-align: right;\n",
       "    }\n",
       "</style>\n",
       "<table border=\"1\" class=\"dataframe\">\n",
       "  <thead>\n",
       "    <tr style=\"text-align: right;\">\n",
       "      <th></th>\n",
       "      <th>pre</th>\n",
       "      <th>rec</th>\n",
       "      <th>f1</th>\n",
       "    </tr>\n",
       "  </thead>\n",
       "  <tbody>\n",
       "    <tr>\n",
       "      <th>0</th>\n",
       "      <td>0.521797</td>\n",
       "      <td>0.335884</td>\n",
       "      <td>0.408691</td>\n",
       "    </tr>\n",
       "  </tbody>\n",
       "</table>\n",
       "</div>"
      ],
      "text/plain": [
       "        pre       rec        f1\n",
       "0  0.521797  0.335884  0.408691"
      ]
     },
     "execution_count": 29,
     "metadata": {},
     "output_type": "execute_result"
    }
   ],
   "source": [
    "evaluate(lrnr2, XX_textbook,yy_texbook)"
   ]
  },
  {
   "cell_type": "markdown",
   "id": "fe161a24-639c-4874-b491-103c654f7586",
   "metadata": {},
   "source": [
    "# appedix"
   ]
  },
  {
   "cell_type": "markdown",
   "id": "414fcd52-4a6b-4108-b20d-621e6031cc45",
   "metadata": {},
   "source": [
    "김보람\n",
    "ref \n",
    "- https://boram-coco.github.io/coco/posts/Graph%20Machine%20Learning/graph8.html\n",
    "\n",
    "\n",
    "\n",
    "데이터: df \n",
    "- \"~/Desktop/fraudTrain.csv\" // (214520, 23) // 여기에서 214520은 전체에서 0.2%의 비율로 sampled 된 자료임 \n",
    "\n",
    "- \n",
    "\n",
    "- obs: 거래건수 \n",
    "\n",
    "- var: cc_num(userid), store, 사기유무, 시간, 지역, amt, ... \n",
    "\n",
    "- y: 사기유무 \n",
    "\n",
    "- x: \n",
    "\n",
    "\n",
    "목적: 사기거래 y==1을 찾는 것 \n",
    "\n",
    "교재의 방법\n",
    "\n",
    "def build_graph_bipartite \n",
    "\n",
    "\t1. df를 변형하여 from, to를 만든다. from은 출발점 / to는 도착점 \n",
    "    \n",
    "\t2. df에서 from,to,amt,is_fraud를 선택하여 (from,to)로 그룹핑 => is_fraud 와 amt 의 sum을 계산 \n",
    "    \n",
    "\t3. sum(is_fraud) > 0 일경우 is_fraud=1 로 설정 \n",
    "    \n",
    "\t4. 노드들의 집합= {고객1,고객2,...고객m, 상점1,상점2,...,상점k} => 1632의 노드가 있음 즉 m+k=1632 \n",
    "    \n",
    "\t5. 고객-상점 간의 사기가 있으면 엣지를 1로 설정, 그렇지 않으면 0으로 설정 \n",
    "    \n",
    "\t6. 엣지가1인 경우 amt를 weight로 설정 \n",
    "\n",
    "**main code**\n",
    "\n",
    "1. df load \n",
    "\n",
    "2. df -> df_downsampled\n",
    "\n",
    "3. G = build_graph_bipartite(df_downsampled)\n",
    "\n",
    "4. tr_edg, test_edg, tr_lable, test_label = split(G)\n",
    "\n",
    "5. \n",
    "\n"
   ]
  },
  {
   "cell_type": "code",
   "execution_count": null,
   "id": "f7ac382e-fae7-4d92-b728-ef11dddbc0a6",
   "metadata": {},
   "outputs": [],
   "source": []
  }
 ],
 "metadata": {
  "kernelspec": {
   "display_name": "Python 3 (ipykernel)",
   "language": "python",
   "name": "python3"
  },
  "language_info": {
   "codemirror_mode": {
    "name": "ipython",
    "version": 3
   },
   "file_extension": ".py",
   "mimetype": "text/x-python",
   "name": "python",
   "nbconvert_exporter": "python",
   "pygments_lexer": "ipython3",
   "version": "3.8.16"
  }
 },
 "nbformat": 4,
 "nbformat_minor": 5
}
