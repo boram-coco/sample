{
 "cells": [
  {
   "cell_type": "markdown",
   "id": "69e97869-e4c6-4f10-ad9d-46ce3911f8f6",
   "metadata": {},
   "source": [
    "[ALEKS(알렉스)](https://brunch.co.kr/@drawingmath/48)"
   ]
  },
  {
   "cell_type": "markdown",
   "id": "3c83e4c5-9026-49b8-b3a1-53ecabd0c84c",
   "metadata": {},
   "source": [
    "[아틀라스(아주대)](https://www.joongang.co.kr/article/23981988#home)"
   ]
  },
  {
   "cell_type": "code",
   "execution_count": null,
   "id": "49a8b1ac-aa25-43aa-b141-ac1182e3d618",
   "metadata": {},
   "outputs": [],
   "source": []
  }
 ],
 "metadata": {
  "kernelspec": {
   "display_name": "Python 3",
   "language": "python",
   "name": "python3"
  },
  "language_info": {
   "codemirror_mode": {
    "name": "ipython",
    "version": 3
   },
   "file_extension": ".py",
   "mimetype": "text/x-python",
   "name": "python",
   "nbconvert_exporter": "python",
   "pygments_lexer": "ipython3",
   "version": "3.8.16"
  }
 },
 "nbformat": 4,
 "nbformat_minor": 5
}
